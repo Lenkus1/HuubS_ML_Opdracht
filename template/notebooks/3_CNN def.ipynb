{
  "cells": [
    {
      "cell_type": "markdown",
      "metadata": {
        "id": "yk6muTARmnug"
      },
      "source": [
        "# Colab\n",
        "Tijdens de lessen van Raoul bleek dat bij veel studenten (ook bij mij) het niet lukte om een neuraal netwerk te trainen met behulp van een GPU. Als oplossing heeft Raoul toen aanbevolen om Google Colab te gebruiken. <br>\n",
        "Hiervoor moet soms wel de code worden aangepast. Ik heb geprobeerd dit notebook zo te maken dat het zowel in Colab als op een laptop/PC kan draaien, maar alleen in Colab wordt dus gebruik gemaakt van een GPU."
      ]
    },
    {
      "cell_type": "code",
      "execution_count": 3,
      "metadata": {
        "colab": {
          "base_uri": "https://localhost:8080/"
        },
        "id": "OolCLyZ7mnui",
        "outputId": "9a978b60-6c6f-4563-f409-5ceaeefa6465"
      },
      "outputs": [
        {
          "name": "stdout",
          "output_type": "stream",
          "text": [
            "Cloning into 'HuubS_ML_Opdracht'...\n",
            "remote: Enumerating objects: 35603, done.\u001b[K\n",
            "remote: Counting objects: 100% (35603/35603), done.\u001b[K\n",
            "remote: Compressing objects: 100% (35530/35530), done.\u001b[K\n",
            "remote: Total 35603 (delta 99), reused 35544 (delta 63), pack-reused 0\u001b[K\n",
            "Receiving objects: 100% (35603/35603), 159.56 MiB | 36.87 MiB/s, done.\n",
            "Resolving deltas: 100% (99/99), done.\n",
            "Checking out files: 100% (17793/17793), done.\n",
            "/content/HuubS_ML_Opdracht/template\n",
            "Collecting loguru\n",
            "  Downloading loguru-0.6.0-py3-none-any.whl (58 kB)\n",
            "\u001b[K     |████████████████████████████████| 58 kB 2.4 MB/s \n",
            "\u001b[?25hInstalling collected packages: loguru\n",
            "Successfully installed loguru-0.6.0\n",
            "\u001b[K     |████████████████████████████████| 98 kB 4.1 MB/s \n",
            "\u001b[?25h"
          ]
        }
      ],
      "source": [
        "try:\n",
        "    # %tensorflow_version only exists in Colab.\n",
        "    %tensorflow_version 2.x\n",
        "    IS_COLAB = True\n",
        "except Exception:\n",
        "    IS_COLAB = False\n",
        "    datadir_processed = Path(\"../data/processed\")\n",
        "    datadir_model = Path(\"../models\")\n",
        "    \n",
        "if IS_COLAB:\n",
        "    !git clone https://github.com/Lenkus1/HuubS_ML_Opdracht.git\n",
        "    %cd HuubS_ML_Opdracht/template\n",
        "    %pip install loguru\n",
        "    %pip install -q -U keras-tuner\n",
        "    datadir_processed = \"/content/HuubS_ML_Opdracht/template/data/processed\"\n",
        "    datadir_model = \"/content/HuubS_ML_Opdracht/template/models\""
      ]
    },
    {
      "cell_type": "markdown",
      "metadata": {
        "id": "mj81sTxfmnuj"
      },
      "source": [
        "# Convolutional Neural Network (CNN)\n",
        "\n",
        "Een CNN is op dit moment het beste algoritme voor het verwerken van afbeeldingen. Een CNN reduceert de complexiteit en maakt het netwerk geschikter voor zijn taak. <br> \n",
        "Over het algemeen heeft een pixel linksboven in een foto immers weinig te maken met een pixel rechtsonder. Bij CNN's worden afbeeldingen opgedeeld in kleine rasters van goed behapbare stukjes. <br>\n",
        "Ik verwacht dat deze techniek het beste presteert op mijn dataset. Maar HOE goed is de vraag. Ik verwacht in ieder geval voor de klasses 2 en 3 (De 'Disturbed' en de cigar) nog steeds geen hele goede resultaten. <br>\n",
        "Hoe goed het algoritme ook is, als de input data niet goed is zal het resultaat nog steeds mager zijn.\n"
      ]
    },
    {
      "cell_type": "code",
      "execution_count": 5,
      "metadata": {
        "colab": {
          "base_uri": "https://localhost:8080/"
        },
        "id": "KP_xOt-3mnuk",
        "outputId": "d3ab2a3d-2b41-4b1e-fe3b-2ff3212672e7"
      },
      "outputs": [
        {
          "name": "stdout",
          "output_type": "stream",
          "text": [
            "Requirement already satisfied: keras-tuner in /usr/local/lib/python3.7/dist-packages (1.1.0)\n",
            "Requirement already satisfied: numpy in /usr/local/lib/python3.7/dist-packages (from keras-tuner) (1.19.5)\n",
            "Requirement already satisfied: requests in /usr/local/lib/python3.7/dist-packages (from keras-tuner) (2.23.0)\n",
            "Requirement already satisfied: tensorboard in /usr/local/lib/python3.7/dist-packages (from keras-tuner) (2.7.0)\n",
            "Requirement already satisfied: ipython in /usr/local/lib/python3.7/dist-packages (from keras-tuner) (5.5.0)\n",
            "Requirement already satisfied: scipy in /usr/local/lib/python3.7/dist-packages (from keras-tuner) (1.4.1)\n",
            "Requirement already satisfied: packaging in /usr/local/lib/python3.7/dist-packages (from keras-tuner) (21.3)\n",
            "Requirement already satisfied: kt-legacy in /usr/local/lib/python3.7/dist-packages (from keras-tuner) (1.0.4)\n",
            "Requirement already satisfied: prompt-toolkit<2.0.0,>=1.0.4 in /usr/local/lib/python3.7/dist-packages (from ipython->keras-tuner) (1.0.18)\n",
            "Requirement already satisfied: pexpect in /usr/local/lib/python3.7/dist-packages (from ipython->keras-tuner) (4.8.0)\n",
            "Requirement already satisfied: pickleshare in /usr/local/lib/python3.7/dist-packages (from ipython->keras-tuner) (0.7.5)\n",
            "Requirement already satisfied: simplegeneric>0.8 in /usr/local/lib/python3.7/dist-packages (from ipython->keras-tuner) (0.8.1)\n",
            "Requirement already satisfied: decorator in /usr/local/lib/python3.7/dist-packages (from ipython->keras-tuner) (4.4.2)\n",
            "Requirement already satisfied: pygments in /usr/local/lib/python3.7/dist-packages (from ipython->keras-tuner) (2.6.1)\n",
            "Requirement already satisfied: traitlets>=4.2 in /usr/local/lib/python3.7/dist-packages (from ipython->keras-tuner) (5.1.1)\n",
            "Requirement already satisfied: setuptools>=18.5 in /usr/local/lib/python3.7/dist-packages (from ipython->keras-tuner) (57.4.0)\n",
            "Requirement already satisfied: six>=1.9.0 in /usr/local/lib/python3.7/dist-packages (from prompt-toolkit<2.0.0,>=1.0.4->ipython->keras-tuner) (1.15.0)\n",
            "Requirement already satisfied: wcwidth in /usr/local/lib/python3.7/dist-packages (from prompt-toolkit<2.0.0,>=1.0.4->ipython->keras-tuner) (0.2.5)\n",
            "Requirement already satisfied: pyparsing!=3.0.5,>=2.0.2 in /usr/local/lib/python3.7/dist-packages (from packaging->keras-tuner) (3.0.7)\n",
            "Requirement already satisfied: ptyprocess>=0.5 in /usr/local/lib/python3.7/dist-packages (from pexpect->ipython->keras-tuner) (0.7.0)\n",
            "Requirement already satisfied: chardet<4,>=3.0.2 in /usr/local/lib/python3.7/dist-packages (from requests->keras-tuner) (3.0.4)\n",
            "Requirement already satisfied: urllib3!=1.25.0,!=1.25.1,<1.26,>=1.21.1 in /usr/local/lib/python3.7/dist-packages (from requests->keras-tuner) (1.24.3)\n",
            "Requirement already satisfied: certifi>=2017.4.17 in /usr/local/lib/python3.7/dist-packages (from requests->keras-tuner) (2021.10.8)\n",
            "Requirement already satisfied: idna<3,>=2.5 in /usr/local/lib/python3.7/dist-packages (from requests->keras-tuner) (2.10)\n",
            "Requirement already satisfied: protobuf>=3.6.0 in /usr/local/lib/python3.7/dist-packages (from tensorboard->keras-tuner) (3.17.3)\n",
            "Requirement already satisfied: absl-py>=0.4 in /usr/local/lib/python3.7/dist-packages (from tensorboard->keras-tuner) (1.0.0)\n",
            "Requirement already satisfied: grpcio>=1.24.3 in /usr/local/lib/python3.7/dist-packages (from tensorboard->keras-tuner) (1.43.0)\n",
            "Requirement already satisfied: wheel>=0.26 in /usr/local/lib/python3.7/dist-packages (from tensorboard->keras-tuner) (0.37.1)\n",
            "Requirement already satisfied: google-auth<3,>=1.6.3 in /usr/local/lib/python3.7/dist-packages (from tensorboard->keras-tuner) (1.35.0)\n",
            "Requirement already satisfied: werkzeug>=0.11.15 in /usr/local/lib/python3.7/dist-packages (from tensorboard->keras-tuner) (1.0.1)\n",
            "Requirement already satisfied: google-auth-oauthlib<0.5,>=0.4.1 in /usr/local/lib/python3.7/dist-packages (from tensorboard->keras-tuner) (0.4.6)\n",
            "Requirement already satisfied: tensorboard-plugin-wit>=1.6.0 in /usr/local/lib/python3.7/dist-packages (from tensorboard->keras-tuner) (1.8.1)\n",
            "Requirement already satisfied: markdown>=2.6.8 in /usr/local/lib/python3.7/dist-packages (from tensorboard->keras-tuner) (3.3.6)\n",
            "Requirement already satisfied: tensorboard-data-server<0.7.0,>=0.6.0 in /usr/local/lib/python3.7/dist-packages (from tensorboard->keras-tuner) (0.6.1)\n",
            "Requirement already satisfied: pyasn1-modules>=0.2.1 in /usr/local/lib/python3.7/dist-packages (from google-auth<3,>=1.6.3->tensorboard->keras-tuner) (0.2.8)\n",
            "Requirement already satisfied: rsa<5,>=3.1.4 in /usr/local/lib/python3.7/dist-packages (from google-auth<3,>=1.6.3->tensorboard->keras-tuner) (4.8)\n",
            "Requirement already satisfied: cachetools<5.0,>=2.0.0 in /usr/local/lib/python3.7/dist-packages (from google-auth<3,>=1.6.3->tensorboard->keras-tuner) (4.2.4)\n",
            "Requirement already satisfied: requests-oauthlib>=0.7.0 in /usr/local/lib/python3.7/dist-packages (from google-auth-oauthlib<0.5,>=0.4.1->tensorboard->keras-tuner) (1.3.1)\n",
            "Requirement already satisfied: importlib-metadata>=4.4 in /usr/local/lib/python3.7/dist-packages (from markdown>=2.6.8->tensorboard->keras-tuner) (4.10.1)\n",
            "Requirement already satisfied: typing-extensions>=3.6.4 in /usr/local/lib/python3.7/dist-packages (from importlib-metadata>=4.4->markdown>=2.6.8->tensorboard->keras-tuner) (3.10.0.2)\n",
            "Requirement already satisfied: zipp>=0.5 in /usr/local/lib/python3.7/dist-packages (from importlib-metadata>=4.4->markdown>=2.6.8->tensorboard->keras-tuner) (3.7.0)\n",
            "Requirement already satisfied: pyasn1<0.5.0,>=0.4.6 in /usr/local/lib/python3.7/dist-packages (from pyasn1-modules>=0.2.1->google-auth<3,>=1.6.3->tensorboard->keras-tuner) (0.4.8)\n",
            "Requirement already satisfied: oauthlib>=3.0.0 in /usr/local/lib/python3.7/dist-packages (from requests-oauthlib>=0.7.0->google-auth-oauthlib<0.5,>=0.4.1->tensorboard->keras-tuner) (3.2.0)\n"
          ]
        }
      ],
      "source": [
        "# laden van libraries\n",
        "\n",
        "%load_ext autoreload\n",
        "%autoreload 2\n",
        "\n",
        "%pip install keras-tuner\n",
        "\n",
        "from pathlib import Path\n",
        "import os\n",
        "import sys\n",
        "sys.path.insert(0, \"..\")\n",
        "sys.path\n",
        "\n",
        "# loading libraries, some settings for plots\n",
        "\n",
        "import numpy as np\n",
        "import seaborn as sns\n",
        "sns.set_theme()\n",
        "\n",
        "import pandas as pd\n",
        "\n",
        "import tensorflow as tf\n",
        "from tensorflow import keras\n",
        "\n",
        "from sklearn.model_selection import train_test_split\n",
        "from sklearn.preprocessing import LabelEncoder\n",
        "from tensorflow.keras.utils import to_categorical\n",
        "import matplotlib.pyplot as plt\n",
        "\n",
        "from sklearn.metrics import classification_report\n",
        "from sklearn.metrics import confusion_matrix\n",
        "\n",
        "from keras.callbacks import ReduceLROnPlateau\n",
        "from tensorflow.keras import layers\n",
        "from tensorflow.keras import regularizers\n",
        "import keras_tuner as kt\n",
        "from keras_tuner import HyperModel\n",
        "\n",
        "import random as python_random\n",
        "from collections import Counter\n",
        "\n",
        "from typing import Dict, List, Tuple\n",
        "\n",
        "# voor reproduceerbaarheid resulaten (tips gevonden via Google)\n",
        "os.environ['PYTHONHASHSEED']=str(42)\n",
        "def reset_random_seeds():\n",
        "   os.environ['PYTHONHASHSEED']=str(42)\n",
        "   tf.random.set_seed(42)\n",
        "   np.random.seed(42)\n",
        "   python_random.seed(42)\n",
        "  \n",
        "\n",
        "reset_random_seeds()\n"
      ]
    },
    {
      "cell_type": "code",
      "execution_count": null,
      "metadata": {
        "id": "mXWsn2w9mnum"
      },
      "outputs": [],
      "source": []
    },
    {
      "cell_type": "code",
      "execution_count": 6,
      "metadata": {
        "id": "QOaO89gTmnum"
      },
      "outputs": [],
      "source": [
        "def cfm_heatmap(\n",
        "    cfm: np.ndarray,\n",
        "    figsize: tuple = (8, 8),\n",
        "    scale: float = None,\n",
        "    labels: List[str] = None,\n",
        "    vmin: float = None,\n",
        "    vmax: float = None,\n",
        ") -> None:\n",
        "    \"\"\"\n",
        "    figsize: tuple, default (8,8)\n",
        "    scale: string. The direction over which the numbers are scaled.\n",
        "        Either None, 'total', 'rowwise' or 'colwise'\n",
        "    \"\"\"\n",
        "\n",
        "    if scale == \"total\":\n",
        "        cfm_norm = cfm / np.sum(cfm)\n",
        "    elif scale == \"rowwise\":\n",
        "        cfm_norm = cfm / np.sum(cfm, axis=1, keepdims=True)\n",
        "    elif scale == \"colwise\":\n",
        "        cfm_norm = cfm / np.sum(cfm, axis=0, keepdims=True)\n",
        "    else:\n",
        "        cfm_norm = cfm\n",
        "    plt.figure(figsize=figsize)\n",
        "    if labels is not None:\n",
        "        plot = sns.heatmap(\n",
        "            cfm_norm,\n",
        "            annot=cfm_norm,\n",
        "            vmin=vmin,\n",
        "            vmax=vmax,\n",
        "            xticklabels=labels,\n",
        "            yticklabels=labels,\n",
        "        )\n",
        "    else:\n",
        "        plot = sns.heatmap(cfm_norm, annot=cfm_norm, vmin=vmin, vmax=vmax)\n",
        "    plot.set(xlabel=\"Predicted\", ylabel=\"Target\")\n"
      ]
    },
    {
      "cell_type": "markdown",
      "metadata": {
        "id": "elg7PoXwmnum"
      },
      "source": [
        "We bepalen weer de datasets. We maken nu naast een train- en testset ook een validatieset, zodat we een unbiased set hebben om het uiteindelijke model op te toetsen."
      ]
    },
    {
      "cell_type": "code",
      "execution_count": 7,
      "metadata": {
        "colab": {
          "base_uri": "https://localhost:8080/"
        },
        "id": "eRvEmEqFmnun",
        "outputId": "2a7de45c-905a-4b29-b828-cc88e723f7f8"
      },
      "outputs": [
        {
          "name": "stdout",
          "output_type": "stream",
          "text": [
            "(10641, 64, 64, 3)\n",
            "(3548, 64, 64, 3)\n",
            "(3547, 64, 64, 3)\n"
          ]
        }
      ],
      "source": [
        "data = []\n",
        "labels = []\n",
        "\n",
        "for f in sorted(os.listdir(datadir_processed)):\n",
        "    folder = os.path.join(datadir_processed, f)\n",
        "    if os.path.isdir(folder):\n",
        "        #print(f\"{f} is a target class\")\n",
        "        for i in sorted(os.listdir(folder)):\n",
        "            image=tf.keras.preprocessing.image.load_img(folder+'/'+i, \n",
        "            target_size= (64,64))\n",
        "            image=np.array(image)\n",
        "            data.append(image)\n",
        "            labels.append(f)\n",
        "\n",
        "data = np.array(data)\n",
        "labels = list(labels)\n",
        "\n",
        "encoder = LabelEncoder() # het CNN wil numerieke waardes ipv tekstklasses\n",
        "labels = encoder.fit_transform(labels)\n",
        "\n",
        "\n",
        "X_train, X_test, y_train, y_test = train_test_split(data, labels, test_size=0.2,\n",
        "                                                shuffle=True,\n",
        "                                                random_state=42)\n",
        "\n",
        "X_train, X_valid, y_train, y_valid = train_test_split(X_train, y_train, test_size=0.25,\n",
        "                                                random_state=42)\n",
        "\n",
        "\n",
        "# Pre-processing\n",
        "X_train = X_train.astype('float32') / 255.\n",
        "X_test = X_test.astype('float32') / 255\n",
        "X_valid = X_valid.astype('float32') / 255\n",
        "\n",
        "print(X_train.shape)\n",
        "print(X_test.shape)\n",
        "print(X_valid.shape)\n"
      ]
    },
    {
      "cell_type": "markdown",
      "metadata": {
        "id": "N6juZt_Xmnun"
      },
      "source": [
        "# Het CNN model bouwen\n",
        "\n",
        "Ik ben wel een week bezig geweest om allerlei modellen te bouwen en te testen. Het model hieronder is waar ik uiteindelijk op uitgekomen ben.\n",
        "\n",
        "Het bestaat uit de volgende onderdelen:\n",
        "\n",
        "## Data augmentation\n",
        "Dit is een techniek die zorgt voor meer trainingsvoorbeelden. Dit kan er voor zorgen dat het model robuuster wordt en beter kan generaliseren.<br> \n",
        "Ik heb hier ook voor gekozen omdat de 'cigar shape smooth' klasse relatief weinig beelden heeft.\n",
        "Ik gebruik flip, rotation, translation en zoom. Dit lijkt goed te passen bij het soort beelden.\n",
        "\n",
        "## Convolutional layers\n",
        "Ik ben uitgekomen op 3 convolutional layers. Ik heb ook modellen geprobered met meer layers maar de performance werd niet beter, maar de doorlooptijd nam wel toe. <br>\n",
        "3 layers geeft de hypertuning wat mogelijkheden om te variëren met de verschillende parameters.\n",
        "\n",
        "### Aantal filters\n",
        "Het aantal filters wordt door hypertuning bepaald, maar een range tussen 32 en 128 lijkt goed als ik kijk naar voorbeelden van allerlei architecturen.\n",
        "\n",
        "### Kernel size\n",
        "De kernel size wordt door hypertuning bepaald, maar een range tussen 3 en 7 lijkt goed als ik kijk naar voorbeelden van allerlei architecturen. <br>\n",
        "De plaatjes zijn ook maar 64x64 pixels groot.\n",
        "\n",
        "### Kernel Initializer\n",
        "Om exploding/vanishing gradients tegen te gaan voeg ik een KI toe. \n",
        "\n",
        "### Kernel Regulizer\n",
        "Het model gaat behoorlijk overfitten, om dat tegen te gaan voeg ik een regulizer toe die gewichten en penalties toekent.\n",
        "\n",
        "## Activation\n",
        "Ik gebruik LeakyRelu bij de Convolutional Layers omdat dat bij mijn experimenten iets betere scores opleverde. Bij de Dense layers laat ik de hypertuner kiezen.\n",
        "\n",
        "## Max pooling\n",
        "Verwijdert niet-relevante elementen en maakt het model robuuster voor wijzigingen in de invoer.\n",
        "\n",
        "## Batch normalization\n",
        "Dit versnelt het trainingsproces en normaliseert de data in het model.\n",
        "\n",
        "## Dropout\n",
        "Ook dit helpt tegen overfitten. Ik laat de hypertuning zoeken wat goed werkt tussen 0.05 en 0.25.\n",
        "\n",
        "## Dense layers\n",
        "3 Dense layers (de laatste voor de output) is vrij gebruikelijk. Ik laat hypertuning het aantal units bepalen, <br> \n",
        "maar geef een grotere range voor de eerste laag, zodat een soort 'trechter' ontstaat.\n",
        "\n"
      ]
    },
    {
      "cell_type": "code",
      "execution_count": 8,
      "metadata": {
        "id": "9pXMFkCsmnuo"
      },
      "outputs": [],
      "source": [
        "INPUT_SHAPE = (64, 64, 3)\n",
        "NUM_CLASSES = 10\n",
        "\n",
        "class CNNHyperModel(HyperModel):\n",
        "    def __init__(self, input_shape, num_classes):\n",
        "        self.input_shape = input_shape\n",
        "        self.num_classes = num_classes\n",
        "\n",
        "    def build(self, hp):\n",
        "        \n",
        "        KI='he_uniform'\n",
        "        KR=regularizers.l2(hp.Float('l2', min_value=0.001, max_value=0.005, default=0.002, step=0.001))\n",
        "      \n",
        "        data_augmentation = tf.keras.Sequential([\n",
        "        keras.layers.RandomFlip(\"horizontal\"),\n",
        "        keras.layers.RandomRotation(0.2),\n",
        "        keras.layers.RandomTranslation(0.1, 0.1),\n",
        "        keras.layers.RandomZoom(0.2),\n",
        "        ])\n",
        "\n",
        "        \n",
        "        model = keras.Sequential()\n",
        "\n",
        "        data_augmentation\n",
        "\n",
        "        model.add(keras.layers.Conv2D(filters=hp.Choice('num_filters_1', # laag 1\n",
        "        values=[32, 64, 96, 128], default=32), kernel_size=\n",
        "        hp.Choice('num_kernels1',values=[3, 5, 7], default=5),\n",
        "        kernel_initializer=KI, kernel_regularizer=KR, \n",
        "        input_shape=self.input_shape))\n",
        "        \n",
        "        model.add(keras.layers.Conv2D(filters=hp.Choice('num_filters_2', # laag 2\n",
        "        values=[32, 64, 96, 128], default=32), kernel_size=\n",
        "        hp.Choice('num_kernels2',values=[3, 5, 7], default=5),\n",
        "        kernel_regularizer=KR))\n",
        "        \n",
        "        model.add(keras.layers.LeakyReLU(alpha=0.2))\n",
        "        model.add(keras.layers.MaxPooling2D(pool_size=2))\n",
        "        model.add(keras.layers.BatchNormalization())\n",
        "        model.add(keras.layers.Dropout(rate=hp.Float('dropout_1', \n",
        "        min_value=0.0, max_value=0.5, default=0.25, step=0.05)))\n",
        "              \n",
        "        model.add(keras.layers.Conv2D(filters=hp.Choice('num_filters_3', # laag 3\n",
        "        values=[32, 64, 96, 128], default=64), kernel_size=\n",
        "        hp.Choice('num_kernels3',values=[3, 5, 7], default=5),\n",
        "        kernel_regularizer=KR))\n",
        "        \n",
        "        model.add(keras.layers.LeakyReLU(alpha=0.2))\n",
        "        model.add(keras.layers.BatchNormalization())\n",
        "\n",
        "        model.add(keras.layers.Flatten())\n",
        "        \n",
        "        model.add(keras.layers.Dense(units=hp.Int('units_1', min_value=32, # laag 1\n",
        "        max_value=256, step=32, default=128), \n",
        "        activation=hp.Choice('dense_activation', \n",
        "        values=['relu', 'tanh', 'sigmoid'], default='relu'),\n",
        "        kernel_regularizer=KR))\n",
        "        \n",
        "        model.add(keras.layers.Dropout(rate=hp.Float('dropout_2', \n",
        "        min_value=0.0, max_value=0.5, default=0.25, step=0.05)))\n",
        "        \n",
        "        model.add(keras.layers.Dense(units=hp.Int('units_2', min_value=32, # laag 2\n",
        "        max_value=128, step=16, default=64), \n",
        "        activation=hp.Choice('dense_activation', \n",
        "        values=['relu', 'tanh', 'sigmoid'], default='relu'),\n",
        "        kernel_regularizer=KR))\n",
        "        \n",
        "        model.add(keras.layers.Dropout(rate=hp.Float('dropout_3', min_value=0.0, max_value=0.5, default=0.25, step=0.05)))\n",
        "        \n",
        "        model.add(keras.layers.Dense(self.num_classes, activation='softmax')) # laag 3\n",
        "\n",
        "        \n",
        "        model.compile(\n",
        "            optimizer=keras.optimizers.Adam(\n",
        "                hp.Float(\n",
        "                    'learning_rate',\n",
        "                    min_value=1e-4,\n",
        "                    max_value=1e-2,\n",
        "                    sampling='LOG',\n",
        "                    default=1e-3\n",
        "                )\n",
        "            ),\n",
        "            loss='sparse_categorical_crossentropy',\n",
        "            metrics=['accuracy']\n",
        "        )\n",
        "        return model\n",
        "\n",
        "hypermodel = CNNHyperModel(input_shape=INPUT_SHAPE, num_classes=NUM_CLASSES)"
      ]
    },
    {
      "cell_type": "markdown",
      "metadata": {
        "id": "J11NQpz2mnup"
      },
      "source": [
        "Nu bouw ik de hypertuner. Ik tune op de val_accuracy want het model moet goed werken op andere data dan de trainingsset. Op de trainset gaat de accuracy al snel over de 90%. <br>\n",
        "Ik tune maximaal 20 epochs omdat het anders veel te lang gaat duren, en uit mijn experimenten blijkt dat de beste scores al eerder worden bereikt."
      ]
    },
    {
      "cell_type": "code",
      "execution_count": 9,
      "metadata": {
        "colab": {
          "base_uri": "https://localhost:8080/"
        },
        "id": "dmcG6tuNmnup",
        "outputId": "e3d608ca-9e0b-4632-9322-b7c1786c2992"
      },
      "outputs": [
        {
          "name": "stderr",
          "output_type": "stream",
          "text": [
            "/usr/local/lib/python3.7/dist-packages/ipykernel_launcher.py:1: DeprecationWarning: `import kerastuner` is deprecated, please use `import keras_tuner`.\n",
            "  \"\"\"Entry point for launching an IPython kernel.\n"
          ]
        }
      ],
      "source": [
        "from kerastuner.tuners import Hyperband\n",
        "\n",
        "tuner = kt.Hyperband(\n",
        "    hypermodel,\n",
        "    overwrite=True,\n",
        "    objective='val_accuracy',\n",
        "    max_epochs=20,\n",
        "    executions_per_trial=1,\n",
        "    hyperband_iterations=1,\n",
        "    directory=datadir_model,\n",
        "    project_name='galaxies'\n",
        "    )\n"
      ]
    },
    {
      "cell_type": "code",
      "execution_count": 10,
      "metadata": {
        "colab": {
          "base_uri": "https://localhost:8080/"
        },
        "id": "fMGAZwnjmnup",
        "outputId": "c636b24d-b471-466e-9c38-d6bd88a33784"
      },
      "outputs": [
        {
          "name": "stdout",
          "output_type": "stream",
          "text": [
            "Search space summary\n",
            "Default search space size: 14\n",
            "l2 (Float)\n",
            "{'default': 0.002, 'conditions': [], 'min_value': 0.001, 'max_value': 0.005, 'step': 0.001, 'sampling': None}\n",
            "num_filters_1 (Choice)\n",
            "{'default': 32, 'conditions': [], 'values': [32, 64, 96, 128], 'ordered': True}\n",
            "num_kernels1 (Choice)\n",
            "{'default': 5, 'conditions': [], 'values': [3, 5, 7], 'ordered': True}\n",
            "num_filters_2 (Choice)\n",
            "{'default': 32, 'conditions': [], 'values': [32, 64, 96, 128], 'ordered': True}\n",
            "num_kernels2 (Choice)\n",
            "{'default': 5, 'conditions': [], 'values': [3, 5, 7], 'ordered': True}\n",
            "dropout_1 (Float)\n",
            "{'default': 0.25, 'conditions': [], 'min_value': 0.0, 'max_value': 0.5, 'step': 0.05, 'sampling': None}\n",
            "num_filters_3 (Choice)\n",
            "{'default': 64, 'conditions': [], 'values': [32, 64, 96, 128], 'ordered': True}\n",
            "num_kernels3 (Choice)\n",
            "{'default': 5, 'conditions': [], 'values': [3, 5, 7], 'ordered': True}\n",
            "units_1 (Int)\n",
            "{'default': 128, 'conditions': [], 'min_value': 32, 'max_value': 256, 'step': 32, 'sampling': None}\n",
            "dense_activation (Choice)\n",
            "{'default': 'relu', 'conditions': [], 'values': ['relu', 'tanh', 'sigmoid'], 'ordered': False}\n",
            "dropout_2 (Float)\n",
            "{'default': 0.25, 'conditions': [], 'min_value': 0.0, 'max_value': 0.5, 'step': 0.05, 'sampling': None}\n",
            "units_2 (Int)\n",
            "{'default': 64, 'conditions': [], 'min_value': 32, 'max_value': 128, 'step': 16, 'sampling': None}\n",
            "dropout_3 (Float)\n",
            "{'default': 0.25, 'conditions': [], 'min_value': 0.0, 'max_value': 0.5, 'step': 0.05, 'sampling': None}\n",
            "learning_rate (Float)\n",
            "{'default': 0.001, 'conditions': [], 'min_value': 0.0001, 'max_value': 0.01, 'step': None, 'sampling': 'log'}\n"
          ]
        }
      ],
      "source": [
        "tuner.search_space_summary() # samenvatting van mogelijke parameters in het model"
      ]
    },
    {
      "cell_type": "markdown",
      "metadata": {
        "id": "8Bboc-samnuq"
      },
      "source": [
        "# Hypertuning\n",
        "\n",
        "### <font color='red'>Let op! Duurt 10 uur op CPU / 1 uur op Colab GPU</font>\n",
        "\n",
        "Om overfitting te voorkomen gebruik ik EarlyStopping als de validation loss begint toe te nemen na een plateau, met een patience van 2 om een incidentele stijging te negeren."
      ]
    },
    {
      "cell_type": "code",
      "execution_count": 11,
      "metadata": {
        "colab": {
          "base_uri": "https://localhost:8080/"
        },
        "id": "CuRiK4MUmnuq",
        "outputId": "230a6b16-2f0f-4603-869f-860771384470"
      },
      "outputs": [
        {
          "name": "stdout",
          "output_type": "stream",
          "text": [
            "Trial 30 Complete [00h 01m 05s]\n",
            "val_accuracy: 0.43811672925949097\n",
            "\n",
            "Best val_accuracy So Far: 0.6566112041473389\n",
            "Total elapsed time: 00h 31m 35s\n",
            "INFO:tensorflow:Oracle triggered exit\n"
          ]
        }
      ],
      "source": [
        "tuner.search(X_train, y_train,\n",
        "             validation_data=(X_valid, y_valid),\n",
        "             callbacks=[tf.keras.callbacks.EarlyStopping('val_loss', patience=2)])"
      ]
    },
    {
      "cell_type": "markdown",
      "metadata": {
        "id": "q55IIi3Tmnuq"
      },
      "source": [
        "Na 30 trials beslist de tuner dat er geen verbetering meer is en stopt het tunen. De beste uitslagen staan hieronder."
      ]
    },
    {
      "cell_type": "code",
      "execution_count": 12,
      "metadata": {
        "colab": {
          "base_uri": "https://localhost:8080/"
        },
        "id": "CCekFMHDmnuq",
        "outputId": "ac13734a-21b4-4d05-aab4-d4d6addf9748"
      },
      "outputs": [
        {
          "name": "stdout",
          "output_type": "stream",
          "text": [
            "Results summary\n",
            "Results in /content/HuubS_ML_Opdracht/template/models/galaxies\n",
            "Showing 10 best trials\n",
            "Objective(name='val_accuracy', direction='max')\n",
            "Trial summary\n",
            "Hyperparameters:\n",
            "l2: 0.004\n",
            "num_filters_1: 32\n",
            "num_kernels1: 7\n",
            "num_filters_2: 64\n",
            "num_kernels2: 5\n",
            "dropout_1: 0.05\n",
            "num_filters_3: 128\n",
            "num_kernels3: 5\n",
            "units_1: 160\n",
            "dense_activation: sigmoid\n",
            "dropout_2: 0.0\n",
            "units_2: 80\n",
            "dropout_3: 0.2\n",
            "learning_rate: 0.0002588664435216088\n",
            "tuner/epochs: 20\n",
            "tuner/initial_epoch: 0\n",
            "tuner/bracket: 0\n",
            "tuner/round: 0\n",
            "Score: 0.6566112041473389\n",
            "Trial summary\n",
            "Hyperparameters:\n",
            "l2: 0.002\n",
            "num_filters_1: 64\n",
            "num_kernels1: 5\n",
            "num_filters_2: 32\n",
            "num_kernels2: 7\n",
            "dropout_1: 0.4\n",
            "num_filters_3: 32\n",
            "num_kernels3: 7\n",
            "units_1: 96\n",
            "dense_activation: sigmoid\n",
            "dropout_2: 0.30000000000000004\n",
            "units_2: 48\n",
            "dropout_3: 0.15000000000000002\n",
            "learning_rate: 0.00024174309730405136\n",
            "tuner/epochs: 20\n",
            "tuner/initial_epoch: 7\n",
            "tuner/bracket: 2\n",
            "tuner/round: 2\n",
            "tuner/trial_id: e3dd0991c01490b26cdd77dfd2cee9d3\n",
            "Score: 0.6537919640541077\n",
            "Trial summary\n",
            "Hyperparameters:\n",
            "l2: 0.001\n",
            "num_filters_1: 96\n",
            "num_kernels1: 3\n",
            "num_filters_2: 32\n",
            "num_kernels2: 3\n",
            "dropout_1: 0.5\n",
            "num_filters_3: 32\n",
            "num_kernels3: 7\n",
            "units_1: 224\n",
            "dense_activation: sigmoid\n",
            "dropout_2: 0.1\n",
            "units_2: 64\n",
            "dropout_3: 0.2\n",
            "learning_rate: 0.000191223759437469\n",
            "tuner/epochs: 20\n",
            "tuner/initial_epoch: 7\n",
            "tuner/bracket: 2\n",
            "tuner/round: 2\n",
            "tuner/trial_id: 8835359563a9e55afb8f089d503c2e26\n",
            "Score: 0.6193966865539551\n",
            "Trial summary\n",
            "Hyperparameters:\n",
            "l2: 0.001\n",
            "num_filters_1: 96\n",
            "num_kernels1: 3\n",
            "num_filters_2: 96\n",
            "num_kernels2: 5\n",
            "dropout_1: 0.05\n",
            "num_filters_3: 32\n",
            "num_kernels3: 7\n",
            "units_1: 256\n",
            "dense_activation: relu\n",
            "dropout_2: 0.2\n",
            "units_2: 48\n",
            "dropout_3: 0.05\n",
            "learning_rate: 0.00022102350500721615\n",
            "tuner/epochs: 20\n",
            "tuner/initial_epoch: 7\n",
            "tuner/bracket: 1\n",
            "tuner/round: 1\n",
            "tuner/trial_id: c7f88eda105ab13aa7ab0832fdc5c6c8\n",
            "Score: 0.6134761571884155\n",
            "Trial summary\n",
            "Hyperparameters:\n",
            "l2: 0.002\n",
            "num_filters_1: 64\n",
            "num_kernels1: 3\n",
            "num_filters_2: 128\n",
            "num_kernels2: 7\n",
            "dropout_1: 0.15000000000000002\n",
            "num_filters_3: 64\n",
            "num_kernels3: 3\n",
            "units_1: 224\n",
            "dense_activation: tanh\n",
            "dropout_2: 0.1\n",
            "units_2: 96\n",
            "dropout_3: 0.4\n",
            "learning_rate: 0.00012596741609878804\n",
            "tuner/epochs: 20\n",
            "tuner/initial_epoch: 0\n",
            "tuner/bracket: 0\n",
            "tuner/round: 0\n",
            "Score: 0.600225567817688\n",
            "Trial summary\n",
            "Hyperparameters:\n",
            "l2: 0.001\n",
            "num_filters_1: 96\n",
            "num_kernels1: 3\n",
            "num_filters_2: 96\n",
            "num_kernels2: 5\n",
            "dropout_1: 0.05\n",
            "num_filters_3: 32\n",
            "num_kernels3: 7\n",
            "units_1: 256\n",
            "dense_activation: relu\n",
            "dropout_2: 0.2\n",
            "units_2: 48\n",
            "dropout_3: 0.05\n",
            "learning_rate: 0.00022102350500721615\n",
            "tuner/epochs: 7\n",
            "tuner/initial_epoch: 0\n",
            "tuner/bracket: 1\n",
            "tuner/round: 0\n",
            "Score: 0.5886664986610413\n",
            "Trial summary\n",
            "Hyperparameters:\n",
            "l2: 0.002\n",
            "num_filters_1: 128\n",
            "num_kernels1: 3\n",
            "num_filters_2: 64\n",
            "num_kernels2: 5\n",
            "dropout_1: 0.4\n",
            "num_filters_3: 96\n",
            "num_kernels3: 7\n",
            "units_1: 224\n",
            "dense_activation: tanh\n",
            "dropout_2: 0.15000000000000002\n",
            "units_2: 48\n",
            "dropout_3: 0.05\n",
            "learning_rate: 0.00012045060648884652\n",
            "tuner/epochs: 3\n",
            "tuner/initial_epoch: 0\n",
            "tuner/bracket: 2\n",
            "tuner/round: 0\n",
            "Score: 0.5077530145645142\n",
            "Trial summary\n",
            "Hyperparameters:\n",
            "l2: 0.001\n",
            "num_filters_1: 96\n",
            "num_kernels1: 3\n",
            "num_filters_2: 32\n",
            "num_kernels2: 3\n",
            "dropout_1: 0.5\n",
            "num_filters_3: 32\n",
            "num_kernels3: 7\n",
            "units_1: 224\n",
            "dense_activation: sigmoid\n",
            "dropout_2: 0.1\n",
            "units_2: 64\n",
            "dropout_3: 0.2\n",
            "learning_rate: 0.000191223759437469\n",
            "tuner/epochs: 7\n",
            "tuner/initial_epoch: 3\n",
            "tuner/bracket: 2\n",
            "tuner/round: 1\n",
            "tuner/trial_id: fe56e047a82c9c98761ed97055990f2d\n",
            "Score: 0.5069072246551514\n",
            "Trial summary\n",
            "Hyperparameters:\n",
            "l2: 0.002\n",
            "num_filters_1: 64\n",
            "num_kernels1: 5\n",
            "num_filters_2: 32\n",
            "num_kernels2: 7\n",
            "dropout_1: 0.4\n",
            "num_filters_3: 32\n",
            "num_kernels3: 7\n",
            "units_1: 96\n",
            "dense_activation: sigmoid\n",
            "dropout_2: 0.30000000000000004\n",
            "units_2: 48\n",
            "dropout_3: 0.15000000000000002\n",
            "learning_rate: 0.00024174309730405136\n",
            "tuner/epochs: 7\n",
            "tuner/initial_epoch: 3\n",
            "tuner/bracket: 2\n",
            "tuner/round: 1\n",
            "tuner/trial_id: 74c8b512b72b3011b386a292913804eb\n",
            "Score: 0.5052157044410706\n",
            "Trial summary\n",
            "Hyperparameters:\n",
            "l2: 0.002\n",
            "num_filters_1: 128\n",
            "num_kernels1: 3\n",
            "num_filters_2: 64\n",
            "num_kernels2: 5\n",
            "dropout_1: 0.4\n",
            "num_filters_3: 96\n",
            "num_kernels3: 7\n",
            "units_1: 224\n",
            "dense_activation: tanh\n",
            "dropout_2: 0.15000000000000002\n",
            "units_2: 48\n",
            "dropout_3: 0.05\n",
            "learning_rate: 0.00012045060648884652\n",
            "tuner/epochs: 7\n",
            "tuner/initial_epoch: 3\n",
            "tuner/bracket: 2\n",
            "tuner/round: 1\n",
            "tuner/trial_id: 838a212703ae0518a7dd35f554985cf9\n",
            "Score: 0.5001409649848938\n"
          ]
        }
      ],
      "source": [
        "# Show a summary of the search\n",
        "tuner.results_summary()"
      ]
    },
    {
      "cell_type": "markdown",
      "metadata": {
        "id": "NAoYkcr6mnur"
      },
      "source": [
        "Ik zoek nu de beste hyperparameters."
      ]
    },
    {
      "cell_type": "code",
      "execution_count": 13,
      "metadata": {
        "id": "qjCoXIsHmnur"
      },
      "outputs": [],
      "source": [
        "best_hps=tuner.get_best_hyperparameters()[0] # beste instellingen"
      ]
    },
    {
      "cell_type": "markdown",
      "metadata": {
        "id": "1MNnI9l8mnur"
      },
      "source": [
        "### Model met beste parameters\n",
        "### <font color='red'>Let op! Duurt weer erg lang uur op CPU!</font>\n",
        "\n",
        "Ik bouw nu een model met de best gevonden parameters, en train dat voor 20 epochs."
      ]
    },
    {
      "cell_type": "code",
      "execution_count": 14,
      "metadata": {
        "colab": {
          "base_uri": "https://localhost:8080/"
        },
        "id": "x0Bb5b7Smnur",
        "outputId": "1d8345be-4ccc-4e9a-ce03-ce92e7230475"
      },
      "outputs": [
        {
          "name": "stdout",
          "output_type": "stream",
          "text": [
            "Epoch 1/20\n",
            "333/333 [==============================] - 8s 21ms/step - loss: 3.1571 - accuracy: 0.3355 - val_loss: 2.6601 - val_accuracy: 0.3121\n",
            "Epoch 2/20\n",
            "333/333 [==============================] - 6s 19ms/step - loss: 2.3848 - accuracy: 0.4458 - val_loss: 2.2296 - val_accuracy: 0.4962\n",
            "Epoch 3/20\n",
            "333/333 [==============================] - 7s 20ms/step - loss: 2.1728 - accuracy: 0.4931 - val_loss: 2.2988 - val_accuracy: 0.4415\n",
            "Epoch 4/20\n",
            "333/333 [==============================] - 7s 20ms/step - loss: 2.0145 - accuracy: 0.5485 - val_loss: 1.9070 - val_accuracy: 0.5830\n",
            "Epoch 5/20\n",
            "333/333 [==============================] - 7s 20ms/step - loss: 1.9001 - accuracy: 0.5861 - val_loss: 1.9974 - val_accuracy: 0.5092\n",
            "Epoch 6/20\n",
            "333/333 [==============================] - 7s 20ms/step - loss: 1.8340 - accuracy: 0.6059 - val_loss: 1.9314 - val_accuracy: 0.5376\n",
            "Epoch 7/20\n",
            "333/333 [==============================] - 7s 20ms/step - loss: 1.7883 - accuracy: 0.6209 - val_loss: 1.7832 - val_accuracy: 0.6307\n",
            "Epoch 8/20\n",
            "333/333 [==============================] - 7s 20ms/step - loss: 1.7456 - accuracy: 0.6411 - val_loss: 1.7026 - val_accuracy: 0.6496\n",
            "Epoch 9/20\n",
            "333/333 [==============================] - 7s 20ms/step - loss: 1.7012 - accuracy: 0.6509 - val_loss: 1.6871 - val_accuracy: 0.6403\n",
            "Epoch 10/20\n",
            "333/333 [==============================] - 7s 20ms/step - loss: 1.6678 - accuracy: 0.6579 - val_loss: 1.7565 - val_accuracy: 0.6222\n",
            "Epoch 11/20\n",
            "333/333 [==============================] - 7s 20ms/step - loss: 1.6574 - accuracy: 0.6630 - val_loss: 1.6652 - val_accuracy: 0.6465\n",
            "Epoch 12/20\n",
            "333/333 [==============================] - 7s 20ms/step - loss: 1.6280 - accuracy: 0.6775 - val_loss: 1.6528 - val_accuracy: 0.6617\n",
            "Epoch 13/20\n",
            "333/333 [==============================] - 7s 20ms/step - loss: 1.6221 - accuracy: 0.6802 - val_loss: 1.7022 - val_accuracy: 0.6346\n",
            "Epoch 14/20\n",
            "333/333 [==============================] - 7s 20ms/step - loss: 1.6009 - accuracy: 0.6830 - val_loss: 1.6041 - val_accuracy: 0.6775\n",
            "Epoch 15/20\n",
            "333/333 [==============================] - 7s 20ms/step - loss: 1.5851 - accuracy: 0.6951 - val_loss: 1.7610 - val_accuracy: 0.6360\n",
            "Epoch 16/20\n",
            "333/333 [==============================] - 7s 20ms/step - loss: 1.5730 - accuracy: 0.6978 - val_loss: 1.6244 - val_accuracy: 0.6687\n",
            "Epoch 17/20\n",
            "333/333 [==============================] - 7s 20ms/step - loss: 1.5685 - accuracy: 0.6966 - val_loss: 1.9939 - val_accuracy: 0.5484\n",
            "Epoch 18/20\n",
            "333/333 [==============================] - 7s 20ms/step - loss: 1.5580 - accuracy: 0.7095 - val_loss: 1.7076 - val_accuracy: 0.6372\n",
            "Epoch 19/20\n",
            "333/333 [==============================] - 7s 20ms/step - loss: 1.5375 - accuracy: 0.7161 - val_loss: 1.6880 - val_accuracy: 0.6482\n",
            "Epoch 20/20\n",
            "333/333 [==============================] - 7s 20ms/step - loss: 1.5264 - accuracy: 0.7192 - val_loss: 1.5833 - val_accuracy: 0.6862\n",
            "Best epoch: 20\n"
          ]
        }
      ],
      "source": [
        "# Build the model with the optimal hyperparameters and train it on the data for 50 epochs\n",
        "model = tuner.hypermodel.build(best_hps)\n",
        "history = model.fit(X_train, y_train, epochs=20,validation_data=(X_valid, y_valid))\n",
        "\n",
        "val_loss_per_epoch = history.history['val_loss']\n",
        "best_epoch = val_loss_per_epoch.index(min(val_loss_per_epoch)) + 1\n",
        "print('Best epoch: %d' % (best_epoch,))\n",
        "\n",
        "# Retrieve the best model.\n",
        "best_model = tuner.get_best_models(num_models=1)[0]"
      ]
    },
    {
      "cell_type": "markdown",
      "metadata": {
        "id": "FAHptn5Lmnur"
      },
      "source": [
        "### Het moment van de waarheid\n",
        "Nu laat ik dit beste model los op de testset. Voor het model is dit dus data die het nog nooit heeft gezien."
      ]
    },
    {
      "cell_type": "code",
      "execution_count": 15,
      "metadata": {
        "colab": {
          "base_uri": "https://localhost:8080/"
        },
        "id": "SpyGqxZ-mnur",
        "outputId": "b7b4b93e-ec32-47eb-d7fa-95c12aef0338"
      },
      "outputs": [
        {
          "name": "stdout",
          "output_type": "stream",
          "text": [
            "111/111 [==============================] - 1s 7ms/step - loss: 1.7086 - accuracy: 0.6497\n"
          ]
        }
      ],
      "source": [
        "# Evaluate the best model.\n",
        "loss, accuracy = best_model.evaluate(X_test, y_test)"
      ]
    },
    {
      "cell_type": "markdown",
      "metadata": {
        "id": "YpbgwHa7mnus"
      },
      "source": [
        "### Observatie:\n",
        "De accuracy ligt dicht bij de validation set, wat voor mij betekent dat het model goed generaliseert. Ik visualiseer het verloop van het leren van het model."
      ]
    },
    {
      "cell_type": "code",
      "execution_count": 16,
      "metadata": {
        "colab": {
          "base_uri": "https://localhost:8080/",
          "height": 870
        },
        "id": "7xg_nfR5mnus",
        "outputId": "68f3dd58-2d07-460e-88de-05718d94731e"
      },
      "outputs": [
        {
          "data": {
            "image/png": "[encoded data removed]",
            "text/plain": [
              "<Figure size 1080x1080 with 1 Axes>"
            ]
          },
          "metadata": {},
          "output_type": "display_data"
        }
      ],
      "source": [
        "pd.DataFrame(history.history).plot(figsize=(15, 15))\n",
        "plt.grid(True)\n",
        "plt.gca().set_ylim(0, 3) # set the vertical range to [0-3]\n",
        "plt.show()"
      ]
    },
    {
      "cell_type": "markdown",
      "metadata": {
        "id": "626ZyfYPmnus"
      },
      "source": [
        "Je ziet hier dat de trainingsaccuracy na verloop van tijd de validation accuracy achter zich gaat laten, wat betekent dat het model gaat overfitten."
      ]
    },
    {
      "cell_type": "markdown",
      "metadata": {
        "id": "55Yhgbscmnus"
      },
      "source": [
        "### Classificeren op de testset\n",
        "Dan ga ik nu kijken hoe goed het model het doet per klasse. Dit is waar het uiteindelijk om gaat. Mijn verwachting is dat dit CNN model beter presteert dan het RandomForest, <br>\n",
        "maar dat de twee 'probleem'klasses het nog steeds niet goed zullen doen."
      ]
    },
    {
      "cell_type": "code",
      "execution_count": 17,
      "metadata": {
        "id": "2VKTPTCNmnus"
      },
      "outputs": [],
      "source": [
        "#y_test = np.argmax(y_test,axis=1)\n",
        "predict = best_model.predict(X_test).argmax(axis=1)"
      ]
    },
    {
      "cell_type": "code",
      "execution_count": 18,
      "metadata": {
        "colab": {
          "base_uri": "https://localhost:8080/"
        },
        "id": "MSjS0JBBmnus",
        "outputId": "10104235-22d6-451b-8adf-f8103fe693b7"
      },
      "outputs": [
        {
          "name": "stdout",
          "output_type": "stream",
          "text": [
            "              precision    recall  f1-score   support\n",
            "\n",
            "           0       0.58      0.60      0.59       393\n",
            "           1       0.00      0.00      0.00        68\n",
            "           2       0.42      0.17      0.24       218\n",
            "           3       0.82      0.70      0.75       378\n",
            "           4       0.71      0.86      0.78       279\n",
            "           5       0.75      0.46      0.57       380\n",
            "           6       0.82      0.85      0.83       563\n",
            "           7       0.64      0.88      0.74       399\n",
            "           8       0.49      0.57      0.52       516\n",
            "           9       0.55      0.66      0.60       354\n",
            "\n",
            "    accuracy                           0.65      3548\n",
            "   macro avg       0.58      0.57      0.56      3548\n",
            "weighted avg       0.64      0.65      0.63      3548\n",
            "\n"
          ]
        },
        {
          "name": "stderr",
          "output_type": "stream",
          "text": [
            "/usr/local/lib/python3.7/dist-packages/sklearn/metrics/_classification.py:1318: UndefinedMetricWarning: Precision and F-score are ill-defined and being set to 0.0 in labels with no predicted samples. Use `zero_division` parameter to control this behavior.\n",
            "  _warn_prf(average, modifier, msg_start, len(result))\n",
            "/usr/local/lib/python3.7/dist-packages/sklearn/metrics/_classification.py:1318: UndefinedMetricWarning: Precision and F-score are ill-defined and being set to 0.0 in labels with no predicted samples. Use `zero_division` parameter to control this behavior.\n",
            "  _warn_prf(average, modifier, msg_start, len(result))\n",
            "/usr/local/lib/python3.7/dist-packages/sklearn/metrics/_classification.py:1318: UndefinedMetricWarning: Precision and F-score are ill-defined and being set to 0.0 in labels with no predicted samples. Use `zero_division` parameter to control this behavior.\n",
            "  _warn_prf(average, modifier, msg_start, len(result))\n"
          ]
        }
      ],
      "source": [
        "#encoder = LabelEncoder()\n",
        "#y_test = encoder.fit_transform(y_test)\n",
        "#predict = encoder.fit_transform(predict)\n",
        "\n",
        "print(classification_report(y_test, predict))"
      ]
    },
    {
      "cell_type": "code",
      "execution_count": 19,
      "metadata": {
        "colab": {
          "base_uri": "https://localhost:8080/",
          "height": 724
        },
        "id": "9-0S8qZDmnut",
        "outputId": "fea34c59-1013-409e-d363-7e27cca2d3a9"
      },
      "outputs": [
        {
          "data": {
            "image/png": "[encoded data removed]",
            "text/plain": [
              "<Figure size 864x864 with 2 Axes>"
            ]
          },
          "metadata": {},
          "output_type": "display_data"
        }
      ],
      "source": [
        "cfm = confusion_matrix(y_test, predict)\n",
        "cfm_heatmap(cfm, figsize=(12,12), scale='rowwise', vmax= 0.8)"
      ]
    },
    {
      "cell_type": "markdown",
      "metadata": {
        "id": "8xzFZlF_mnut"
      },
      "source": [
        "### Observatie\n",
        "Sommige klasses scoren boven de 80%, wat inderdaad veel beter is dan het Randomforest. \n",
        "De 'Disturbed' en 'Cigar Shaped Smooth' klassen presteren nog steeds slecht / het slechtst, zoals ik verwacht had. \n",
        "\n",
        "Overall is de performance nog steeds niet heel erg goed. Maar niet iedere dataset levert scores boven de 90% op!"
      ]
    },
    {
      "cell_type": "markdown",
      "metadata": {
        "id": "cmlQUsjdmnut"
      },
      "source": [
        "# Eindconclusies\n",
        "\n",
        "De meeste van mijn hypotheses zijn volgens mij bevestigt. Dit is een uitdagende dataset waardoor het lastig is om hele hoge scores neer te zetten.\n",
        "Ik zie dat een CNN inderdaad de beste uitkomsten oplevert, dit is ook de meest logische keuze voor image classification.\n",
        "De 'Cigar Shaped Smooth' is inderdaad lastig gebleken, maar de 'Disturbed' klasse is echt een probleem, en dat ligt aan de data/labeling. "
      ]
    }
  ],
  "metadata": {
    "accelerator": "GPU",
    "colab": {
      "name": "3_CNN def.ipynb",
      "provenance": []
    },
    "interpreter": {
      "hash": "d031ad01bed61ded824456c2d8715b797c0f37e7c3a3e3c3c540f3dac9fb955e"
    },
    "kernelspec": {
      "display_name": "Python 3.8.1 64-bit ('hu-deeplearning-lSm0EZYV-py3.8': venv)",
      "language": "python",
      "name": "python3"
    },
    "language_info": {
      "codemirror_mode": {
        "name": "ipython",
        "version": 3
      },
      "file_extension": ".py",
      "mimetype": "text/x-python",
      "name": "python",
      "nbconvert_exporter": "python",
      "pygments_lexer": "ipython3",
      "version": "3.8.1"
    },
    "orig_nbformat": 4
  },
  "nbformat": 4,
  "nbformat_minor": 0
}
