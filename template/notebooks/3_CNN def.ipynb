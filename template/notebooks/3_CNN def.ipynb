{
 "cells": [
  {
   "cell_type": "markdown",
   "metadata": {},
   "source": [
    "# Colab\n",
    "Tijdens de lessen van Raoul bleek dat bij veel studenten (ook bij mij) het niet lukte om een neuraal netwerk te trainen met behulp van een GPU. Als oplossing heeft Raoul toen aanbevolen om Google Colab te gebruiken. <br>\n",
    "Hiervoor moet soms wel de code worden aangepast. Ik heb geprobeerd dit notebook zo te maken dat het zowel in Colab als op een laptop/PC kan draaien, maar alleen in Colab wordt dus gebruik gemaakt van een GPU."
   ]
  },
  {
   "cell_type": "code",
   "execution_count": 1,
   "metadata": {},
   "outputs": [],
   "source": [
    "try:\n",
    "    # %tensorflow_version only exists in Colab.\n",
    "    %tensorflow_version 2.x\n",
    "    IS_COLAB = True\n",
    "except Exception:\n",
    "    IS_COLAB = False\n",
    "    datadir_processed = Path(\"../data/processed\")\n",
    "    datadir_model = Path(\"../models\")\n",
    "    \n",
    "if IS_COLAB:\n",
    "    !git clone https://github.com/Lenkus1/HuubS_ML_Opdracht.git\n",
    "    %cd HuubS_ML_Opdracht/template\n",
    "    %pip install loguru\n",
    "    %pip install -q -U keras-tuner\n",
    "    datadir_processed = \"/content/HuubS_ML_Opdracht/template/data/processed\"\n",
    "    datadir_model = \"/content/HuubS_ML_Opdracht/template/models\""
   ]
  },
  {
   "cell_type": "markdown",
   "metadata": {},
   "source": [
    "# Convolutional Neural Network (CNN)\n",
    "\n",
    "Een CNN is op dit moment het beste algoritme voor het verwerken van afbeeldingen. Een CNN reduceert de complexiteit en maakt het netwerk geschikter voor zijn taak. <br> \n",
    "Over het algemeen heeft een pixel linksboven in een foto immers weinig te maken met een pixel rechtsonder. Bij CNN's worden afbeeldingen opgedeeld in kleine rasters van goed behapbare stukjes. <br>\n",
    "Ik verwacht dat deze techniek het beste presteert op mijn dataset. Maar HOE goed is de vraag. Ik verwacht in ieder geval voor de klasses 2 en 3 (De 'Disturbed' en de cigar) nog steeds geen hele goede resultaten. <br>\n",
    "Hoe goed het algoritme ook is, als de input data niet goed is zal het resultaat nog steeds mager zijn.\n"
   ]
  },
  {
   "cell_type": "code",
   "execution_count": 18,
   "metadata": {},
   "outputs": [
    {
     "name": "stdout",
     "output_type": "stream",
     "text": [
      "The autoreload extension is already loaded. To reload it, use:\n",
      "  %reload_ext autoreload\n"
     ]
    }
   ],
   "source": [
    "# laden van libraries\n",
    "\n",
    "%load_ext autoreload\n",
    "%autoreload 2\n",
    "\n",
    "%pip install keras-tuner\n",
    "\n",
    "from pathlib import Path\n",
    "import os\n",
    "import sys\n",
    "sys.path.insert(0, \"..\")\n",
    "sys.path\n",
    "\n",
    "# loading libraries, some settings for plots\n",
    "\n",
    "import numpy as np\n",
    "import seaborn as sns\n",
    "sns.set_theme()\n",
    "\n",
    "import pandas as pd\n",
    "\n",
    "import tensorflow as tf\n",
    "from tensorflow import keras\n",
    "\n",
    "from sklearn.model_selection import train_test_split\n",
    "from sklearn.preprocessing import LabelEncoder\n",
    "from tensorflow.keras.utils import to_categorical\n",
    "import matplotlib.pyplot as plt\n",
    "\n",
    "from sklearn.metrics import classification_report\n",
    "from sklearn.metrics import confusion_matrix\n",
    "\n",
    "from keras.callbacks import ReduceLROnPlateau\n",
    "from tensorflow.keras import layers\n",
    "from tensorflow.keras import regularizers\n",
    "import keras_tuner as kt\n",
    "from keras_tuner import HyperModel\n",
    "\n",
    "import random as python_random\n",
    "from collections import Counter\n",
    "\n",
    "from typing import Dict, List, Tuple\n",
    "\n",
    "# voor reproduceerbaarheid resulaten (tips gevonden via Google)\n",
    "os.environ['PYTHONHASHSEED']=str(42)\n",
    "def reset_random_seeds():\n",
    "   os.environ['PYTHONHASHSEED']=str(42)\n",
    "   tf.random.set_seed(42)\n",
    "   np.random.seed(42)\n",
    "   python_random.seed(42)\n",
    "  \n",
    "\n",
    "reset_random_seeds()\n",
    "\n"
   ]
  },
  {
   "cell_type": "markdown",
   "metadata": {},
   "source": [
    "### Functies en Colab\n",
    "Vanwege het runnen in Colab definiëer ik alle functies in het notebook zelf."
   ]
  },
  {
   "cell_type": "code",
   "execution_count": 4,
   "metadata": {},
   "outputs": [],
   "source": [
    "def cfm_heatmap(\n",
    "    cfm: np.ndarray,\n",
    "    figsize: tuple = (8, 8),\n",
    "    scale: float = None,\n",
    "    labels: List[str] = None,\n",
    "    vmin: float = None,\n",
    "    vmax: float = None,\n",
    ") -> None:\n",
    "    \"\"\"\n",
    "    figsize: tuple, default (8,8)\n",
    "    scale: string. The direction over which the numbers are scaled.\n",
    "        Either None, 'total', 'rowwise' or 'colwise'\n",
    "    \"\"\"\n",
    "\n",
    "    if scale == \"total\":\n",
    "        cfm_norm = cfm / np.sum(cfm)\n",
    "    elif scale == \"rowwise\":\n",
    "        cfm_norm = cfm / np.sum(cfm, axis=1, keepdims=True)\n",
    "    elif scale == \"colwise\":\n",
    "        cfm_norm = cfm / np.sum(cfm, axis=0, keepdims=True)\n",
    "    else:\n",
    "        cfm_norm = cfm\n",
    "    plt.figure(figsize=figsize)\n",
    "    if labels is not None:\n",
    "        plot = sns.heatmap(\n",
    "            cfm_norm,\n",
    "            annot=cfm_norm,\n",
    "            vmin=vmin,\n",
    "            vmax=vmax,\n",
    "            xticklabels=labels,\n",
    "            yticklabels=labels,\n",
    "        )\n",
    "    else:\n",
    "        plot = sns.heatmap(cfm_norm, annot=cfm_norm, vmin=vmin, vmax=vmax)\n",
    "    plot.set(xlabel=\"Predicted\", ylabel=\"Target\")\n"
   ]
  },
  {
   "cell_type": "markdown",
   "metadata": {},
   "source": [
    "We bepalen weer de datasets. We maken nu naast een train- en testset ook een validatieset, zodat we een unbiased set hebben om het uiteindelijke model op te toetsen."
   ]
  },
  {
   "cell_type": "code",
   "execution_count": 21,
   "metadata": {},
   "outputs": [
    {
     "name": "stdout",
     "output_type": "stream",
     "text": [
      "(12414, 64, 64, 3)\n",
      "(3548, 64, 64, 3)\n",
      "(1774, 64, 64, 3)\n"
     ]
    }
   ],
   "source": [
    "data = []\n",
    "labels = []\n",
    "\n",
    "for f in sorted(os.listdir(datadir_processed)):\n",
    "    folder = os.path.join(datadir_processed, f)\n",
    "    if os.path.isdir(folder):\n",
    "        #print(f\"{f} is a target class\")\n",
    "        for i in sorted(os.listdir(folder)):\n",
    "            image=tf.keras.preprocessing.image.load_img(folder+'/'+i, \n",
    "            target_size= (64,64))\n",
    "            image=np.array(image)\n",
    "            data.append(image)\n",
    "            labels.append(f)\n",
    "\n",
    "data = np.array(data)\n",
    "labels = list(labels)\n",
    "\n",
    "encoder = LabelEncoder() # het CNN wil numerieke waardes ipv tekstklasses\n",
    "labels = encoder.fit_transform(labels)\n",
    "\n",
    "\n",
    "X_train, X_test, y_train, y_test = train_test_split(data, labels, test_size=0.2,\n",
    "                                                shuffle=True,\n",
    "                                                random_state=42)\n",
    "\n",
    "X_train, X_valid, y_train, y_valid = train_test_split(X_train, y_train, \n",
    "                                        test_size=0.25, random_state=42)\n",
    "\n",
    "\n",
    "# Pre-processing\n",
    "X_train = X_train.astype('float32') / 255.\n",
    "X_test = X_test.astype('float32') / 255\n",
    "X_valid = X_valid.astype('float32') / 255\n",
    "\n",
    "print(X_train.shape)\n",
    "print(X_test.shape)\n",
    "print(X_valid.shape)\n"
   ]
  },
  {
   "cell_type": "markdown",
   "metadata": {},
   "source": [
    "# Het CNN model bouwen\n",
    "\n",
    "Ik ben wel een week bezig geweest om allerlei modellen te bouwen en te testen. Het model hieronder is waar ik uiteindelijk op uitgekomen ben.\n",
    "\n",
    "Het bestaat uit de volgende onderdelen:\n",
    "\n",
    "## Data augmentation\n",
    "Dit is een techniek die zorgt voor meer trainingsvoorbeelden. Dit kan er voor zorgen dat het model robuuster wordt en beter kan generaliseren.<br> \n",
    "Ik heb hier ook voor gekozen omdat de 'cigar shape smooth' klasse relatief weinig beelden heeft.\n",
    "Ik gebruik flip, rotation, translation en zoom. Dit lijkt goed te passen bij het soort beelden.\n",
    "\n",
    "## Convolutional layers\n",
    "Ik ben uitgekomen op 3 convolutional layers. Ik heb ook modellen geprobered met meer layers maar de performance werd niet beter, maar de doorlooptijd nam wel toe. <br>\n",
    "3 layers geeft de hypertuning wat mogelijkheden om te variëren met de verschillende parameters.\n",
    "\n",
    "### Aantal filters\n",
    "Het aantal filters wordt door hypertuning bepaald, maar een range tussen 32 en 128 lijkt goed als ik kijk naar voorbeelden van allerlei architecturen.\n",
    "\n",
    "### Kernel size\n",
    "De kernel size wordt door hypertuning bepaald, maar een range tussen 3 en 7 lijkt goed als ik kijk naar voorbeelden van allerlei architecturen. <br>\n",
    "De plaatjes zijn ook maar 64x64 pixels groot.\n",
    "\n",
    "### Kernel Initializer\n",
    "Om exploding/vanishing gradients tegen te gaan voeg ik een KI toe. \n",
    "\n",
    "### Kernel Regulizer\n",
    "Het model gaat behoorlijk overfitten, om dat tegen te gaan voeg ik een regulizer toe die gewichten en penalties toekent.\n",
    "\n",
    "## Activation\n",
    "Ik gebruik LeakyRelu bij de Convolutional Layers omdat dat bij mijn experimenten iets betere scores opleverde. Bij de Dense layers laat ik de hypertuner kiezen.\n",
    "\n",
    "## Max pooling\n",
    "Verwijdert niet-relevante elementen en maakt het model robuuster voor wijzigingen in de invoer.\n",
    "\n",
    "## Batch normalization\n",
    "Dit versnelt het trainingsproces en normaliseert de data in het model.\n",
    "\n",
    "## Dropout\n",
    "Ook dit helpt tegen overfitten. Ik laat de hypertuning zoeken wat goed werkt tussen 0.05 en 0.25.\n",
    "\n",
    "## Dense layers\n",
    "3 Dense layers (de laatste voor de output) is vrij gebruikelijk. Ik laat hypertuning het aantal units bepalen, <br> \n",
    "maar geef een grotere range voor de eerste laag, zodat een soort 'trechter' ontstaat.\n",
    "\n"
   ]
  },
  {
   "cell_type": "code",
   "execution_count": 6,
   "metadata": {},
   "outputs": [
    {
     "name": "stderr",
     "output_type": "stream",
     "text": [
      "C:\\Users\\hjtfs\\AppData\\Local\\Temp/ipykernel_14228/4132021529.py:1: DeprecationWarning: `import kerastuner` is deprecated, please use `import keras_tuner`.\n",
      "  from kerastuner import HyperModel\n"
     ]
    }
   ],
   "source": [
    "INPUT_SHAPE = (64, 64, 3)\n",
    "NUM_CLASSES = 10\n",
    "\n",
    "class CNNHyperModel(HyperModel):\n",
    "    def __init__(self, input_shape, num_classes):\n",
    "        self.input_shape = input_shape\n",
    "        self.num_classes = num_classes\n",
    "\n",
    "    def build(self, hp):\n",
    "        \n",
    "        KI='he_uniform'\n",
    "        KR=regularizers.l2(hp.Float('l2', min_value=0.001, max_value=0.005, \n",
    "        default=0.002, step=0.001))\n",
    "      \n",
    "        data_augmentation = tf.keras.Sequential([\n",
    "        keras.layers.RandomFlip(\"horizontal\"),\n",
    "        keras.layers.RandomRotation(0.2),\n",
    "        keras.layers.RandomTranslation(0.1, 0.1),\n",
    "        keras.layers.RandomZoom(0.2),\n",
    "        ])\n",
    "\n",
    "        \n",
    "        model = keras.Sequential()\n",
    "\n",
    "        data_augmentation\n",
    "\n",
    "        model.add(keras.layers.Conv2D(filters=hp.Choice('num_filters_1', #laag1\n",
    "        values=[32, 64, 96, 128], default=32), kernel_size=\n",
    "        hp.Choice('num_kernels1',values=[3, 5, 7], default=5),\n",
    "        kernel_initializer=KI, kernel_regularizer=KR, \n",
    "        input_shape=self.input_shape))\n",
    "        \n",
    "        model.add(keras.layers.Conv2D(filters=hp.Choice('num_filters_2', #laag2\n",
    "        values=[32, 64, 96, 128], default=32), kernel_size=\n",
    "        hp.Choice('num_kernels2',values=[3, 5, 7], default=5),\n",
    "        kernel_regularizer=KR))\n",
    "        \n",
    "        model.add(keras.layers.LeakyReLU(alpha=0.2))\n",
    "        model.add(keras.layers.MaxPooling2D(pool_size=2))\n",
    "        model.add(keras.layers.BatchNormalization())\n",
    "        model.add(keras.layers.Dropout(rate=hp.Float('dropout_1', \n",
    "        min_value=0.0, max_value=0.5, default=0.25, step=0.05)))\n",
    "              \n",
    "        model.add(keras.layers.Conv2D(filters=hp.Choice('num_filters_3', #laag3\n",
    "        values=[32, 64, 96, 128], default=64), kernel_size=\n",
    "        hp.Choice('num_kernels3',values=[3, 5, 7], default=5),\n",
    "        kernel_regularizer=KR))\n",
    "        \n",
    "        model.add(keras.layers.LeakyReLU(alpha=0.2))\n",
    "        model.add(keras.layers.BatchNormalization())\n",
    "\n",
    "        model.add(keras.layers.Flatten())\n",
    "        \n",
    "        model.add(keras.layers.Dense(units=hp.Int('units_1', min_value=32, #laag1\n",
    "        max_value=256, step=32, default=128), \n",
    "        activation=hp.Choice('dense_activation', \n",
    "        values=['relu', 'tanh', 'sigmoid'], default='relu'),\n",
    "        kernel_regularizer=KR))\n",
    "        \n",
    "        model.add(keras.layers.Dropout(rate=hp.Float('dropout_2', \n",
    "        min_value=0.0, max_value=0.5, default=0.25, step=0.05)))\n",
    "        \n",
    "        model.add(keras.layers.Dense(units=hp.Int('units_2', min_value=32, #laag2\n",
    "        max_value=128, step=16, default=64), \n",
    "        activation=hp.Choice('dense_activation', \n",
    "        values=['relu', 'tanh', 'sigmoid'], default='relu'),\n",
    "        kernel_regularizer=KR))\n",
    "        \n",
    "        model.add(keras.layers.Dropout(rate=hp.Float('dropout_3', min_value=0.0, \n",
    "        max_value=0.5, default=0.25, step=0.05)))\n",
    "        \n",
    "        model.add(keras.layers.Dense(self.num_classes, \n",
    "        activation='softmax')) # laag 3\n",
    "\n",
    "        \n",
    "        model.compile(\n",
    "            optimizer=keras.optimizers.Adam(\n",
    "                hp.Float(\n",
    "                    'learning_rate',\n",
    "                    min_value=1e-4,\n",
    "                    max_value=1e-2,\n",
    "                    sampling='LOG',\n",
    "                    default=1e-3\n",
    "                )\n",
    "            ),\n",
    "            loss='sparse_categorical_crossentropy',\n",
    "            metrics=['accuracy']\n",
    "        )\n",
    "        return model\n",
    "\n",
    "hypermodel = CNNHyperModel(input_shape=INPUT_SHAPE, num_classes=NUM_CLASSES)"
   ]
  },
  {
   "cell_type": "markdown",
   "metadata": {},
   "source": [
    "Nu bouw ik de hypertuner. Ik tune op de val_accuracy want het model moet goed werken op andere data dan de trainingsset. Op de trainset gaat de accuracy al snel over de 90%. <br>\n",
    "Ik tune maximaal 20 epochs omdat het anders veel te lang gaat duren, en uit mijn experimenten blijkt dat de beste scores al eerder worden bereikt."
   ]
  },
  {
   "cell_type": "code",
   "execution_count": 7,
   "metadata": {},
   "outputs": [],
   "source": [
    "from kerastuner.tuners import Hyperband\n",
    "\n",
    "tuner = kt.Hyperband(\n",
    "    hypermodel,\n",
    "    overwrite=True,\n",
    "    objective='val_accuracy',\n",
    "    max_epochs=20,\n",
    "    executions_per_trial=1,\n",
    "    hyperband_iterations=1,\n",
    "    directory=datadir_model,\n",
    "    project_name='galaxies'\n",
    "    )\n"
   ]
  },
  {
   "cell_type": "code",
   "execution_count": 8,
   "metadata": {},
   "outputs": [
    {
     "name": "stdout",
     "output_type": "stream",
     "text": [
      "Search space summary\n",
      "Default search space size: 14\n",
      "l2 (Float)\n",
      "{'default': 0.002, 'conditions': [], 'min_value': 0.001, 'max_value': 0.005, 'step': 0.001, 'sampling': None}\n",
      "num_filters_1 (Choice)\n",
      "{'default': 32, 'conditions': [], 'values': [32, 64, 96, 128], 'ordered': True}\n",
      "num_kernels1 (Choice)\n",
      "{'default': 5, 'conditions': [], 'values': [3, 5, 7], 'ordered': True}\n",
      "num_filters_2 (Choice)\n",
      "{'default': 32, 'conditions': [], 'values': [32, 64, 96, 128], 'ordered': True}\n",
      "num_kernels2 (Choice)\n",
      "{'default': 5, 'conditions': [], 'values': [3, 5, 7], 'ordered': True}\n",
      "dropout_1 (Float)\n",
      "{'default': 0.25, 'conditions': [], 'min_value': 0.0, 'max_value': 0.5, 'step': 0.05, 'sampling': None}\n",
      "num_filters_3 (Choice)\n",
      "{'default': 64, 'conditions': [], 'values': [32, 64, 96, 128], 'ordered': True}\n",
      "num_kernels3 (Choice)\n",
      "{'default': 5, 'conditions': [], 'values': [3, 5, 7], 'ordered': True}\n",
      "units_1 (Int)\n",
      "{'default': 128, 'conditions': [], 'min_value': 32, 'max_value': 256, 'step': 32, 'sampling': None}\n",
      "dense_activation (Choice)\n",
      "{'default': 'relu', 'conditions': [], 'values': ['relu', 'tanh', 'sigmoid'], 'ordered': False}\n",
      "dropout_2 (Float)\n",
      "{'default': 0.25, 'conditions': [], 'min_value': 0.0, 'max_value': 0.5, 'step': 0.05, 'sampling': None}\n",
      "units_2 (Int)\n",
      "{'default': 64, 'conditions': [], 'min_value': 32, 'max_value': 128, 'step': 16, 'sampling': None}\n",
      "dropout_3 (Float)\n",
      "{'default': 0.25, 'conditions': [], 'min_value': 0.0, 'max_value': 0.5, 'step': 0.05, 'sampling': None}\n",
      "learning_rate (Float)\n",
      "{'default': 0.001, 'conditions': [], 'min_value': 0.0001, 'max_value': 0.01, 'step': None, 'sampling': 'log'}\n"
     ]
    }
   ],
   "source": [
    "tuner.search_space_summary() # samenvatting van mogelijke parameters in het model"
   ]
  },
  {
   "cell_type": "markdown",
   "metadata": {},
   "source": [
    "# Hypertuning\n",
    "\n",
    "### <font color='red'>Let op! Duurt 10 uur op CPU / 1 uur op Colab GPU</font>\n",
    "\n",
    "Om overfitting te voorkomen gebruik ik EarlyStopping als de validation loss begint toe te nemen na een plateau, met een patience van 2 om een incidentele stijging te negeren."
   ]
  },
  {
   "cell_type": "code",
   "execution_count": 9,
   "metadata": {},
   "outputs": [
    {
     "name": "stdout",
     "output_type": "stream",
     "text": [
      "Trial 30 Complete [00h 30m 42s]\n",
      "val_accuracy: 0.5479143261909485\n",
      "\n",
      "Best val_accuracy So Far: 0.630777895450592\n",
      "Total elapsed time: 09h 25m 39s\n",
      "INFO:tensorflow:Oracle triggered exit\n"
     ]
    }
   ],
   "source": [
    "tuner.search(X_train, y_train,\n",
    "             validation_data=(X_valid, y_valid),\n",
    "             callbacks=[tf.keras.callbacks.EarlyStopping('val_loss', \n",
    "             patience=2)])"
   ]
  },
  {
   "cell_type": "markdown",
   "metadata": {},
   "source": [
    "Na 30 trials beslist de tuner dat er geen verbetering meer is en stopt het tunen. De beste uitslagen staan hieronder."
   ]
  },
  {
   "cell_type": "code",
   "execution_count": 10,
   "metadata": {},
   "outputs": [
    {
     "name": "stdout",
     "output_type": "stream",
     "text": [
      "Results summary\n",
      "Results in ..\\models\\galaxies\n",
      "Showing 10 best trials\n",
      "Objective(name='val_accuracy', direction='max')\n",
      "Trial summary\n",
      "Hyperparameters:\n",
      "l2: 0.002\n",
      "num_filters_1: 128\n",
      "num_kernels1: 3\n",
      "num_filters_2: 64\n",
      "num_kernels2: 5\n",
      "dropout_1: 0.4\n",
      "num_filters_3: 96\n",
      "num_kernels3: 7\n",
      "units_1: 224\n",
      "dense_activation: tanh\n",
      "dropout_2: 0.15000000000000002\n",
      "units_2: 48\n",
      "dropout_3: 0.05\n",
      "learning_rate: 0.00012045060648884652\n",
      "tuner/epochs: 20\n",
      "tuner/initial_epoch: 7\n",
      "tuner/bracket: 2\n",
      "tuner/round: 2\n",
      "tuner/trial_id: 9ce0cd5735706fa0c1631fa395f5184e\n",
      "Score: 0.630777895450592\n",
      "Trial summary\n",
      "Hyperparameters:\n",
      "l2: 0.002\n",
      "num_filters_1: 64\n",
      "num_kernels1: 3\n",
      "num_filters_2: 128\n",
      "num_kernels2: 7\n",
      "dropout_1: 0.15000000000000002\n",
      "num_filters_3: 64\n",
      "num_kernels3: 3\n",
      "units_1: 224\n",
      "dense_activation: tanh\n",
      "dropout_2: 0.1\n",
      "units_2: 96\n",
      "dropout_3: 0.4\n",
      "learning_rate: 0.00012596741609878804\n",
      "tuner/epochs: 20\n",
      "tuner/initial_epoch: 0\n",
      "tuner/bracket: 0\n",
      "tuner/round: 0\n",
      "Score: 0.6223224401473999\n",
      "Trial summary\n",
      "Hyperparameters:\n",
      "l2: 0.001\n",
      "num_filters_1: 96\n",
      "num_kernels1: 3\n",
      "num_filters_2: 96\n",
      "num_kernels2: 5\n",
      "dropout_1: 0.05\n",
      "num_filters_3: 32\n",
      "num_kernels3: 7\n",
      "units_1: 256\n",
      "dense_activation: relu\n",
      "dropout_2: 0.2\n",
      "units_2: 48\n",
      "dropout_3: 0.05\n",
      "learning_rate: 0.00022102350500721615\n",
      "tuner/epochs: 7\n",
      "tuner/initial_epoch: 0\n",
      "tuner/bracket: 1\n",
      "tuner/round: 0\n",
      "Score: 0.621758759021759\n",
      "Trial summary\n",
      "Hyperparameters:\n",
      "l2: 0.004\n",
      "num_filters_1: 32\n",
      "num_kernels1: 7\n",
      "num_filters_2: 64\n",
      "num_kernels2: 5\n",
      "dropout_1: 0.05\n",
      "num_filters_3: 128\n",
      "num_kernels3: 5\n",
      "units_1: 160\n",
      "dense_activation: sigmoid\n",
      "dropout_2: 0.0\n",
      "units_2: 80\n",
      "dropout_3: 0.2\n",
      "learning_rate: 0.0002588664435216088\n",
      "tuner/epochs: 20\n",
      "tuner/initial_epoch: 0\n",
      "tuner/bracket: 0\n",
      "tuner/round: 0\n",
      "Score: 0.6189402341842651\n",
      "Trial summary\n",
      "Hyperparameters:\n",
      "l2: 0.001\n",
      "num_filters_1: 96\n",
      "num_kernels1: 3\n",
      "num_filters_2: 96\n",
      "num_kernels2: 5\n",
      "dropout_1: 0.05\n",
      "num_filters_3: 32\n",
      "num_kernels3: 7\n",
      "units_1: 256\n",
      "dense_activation: relu\n",
      "dropout_2: 0.2\n",
      "units_2: 48\n",
      "dropout_3: 0.05\n",
      "learning_rate: 0.00022102350500721615\n",
      "tuner/epochs: 20\n",
      "tuner/initial_epoch: 7\n",
      "tuner/bracket: 1\n",
      "tuner/round: 1\n",
      "tuner/trial_id: 9209612e61a8be933678e6c85a76d70f\n",
      "Score: 0.616121768951416\n",
      "Trial summary\n",
      "Hyperparameters:\n",
      "l2: 0.005\n",
      "num_filters_1: 128\n",
      "num_kernels1: 5\n",
      "num_filters_2: 64\n",
      "num_kernels2: 3\n",
      "dropout_1: 0.30000000000000004\n",
      "num_filters_3: 32\n",
      "num_kernels3: 3\n",
      "units_1: 256\n",
      "dense_activation: sigmoid\n",
      "dropout_2: 0.15000000000000002\n",
      "units_2: 64\n",
      "dropout_3: 0.4\n",
      "learning_rate: 0.0006071044349038084\n",
      "tuner/epochs: 20\n",
      "tuner/initial_epoch: 7\n",
      "tuner/bracket: 2\n",
      "tuner/round: 2\n",
      "tuner/trial_id: 9d069795fd3d54b303db364e466eea13\n",
      "Score: 0.5614430904388428\n",
      "Trial summary\n",
      "Hyperparameters:\n",
      "l2: 0.005\n",
      "num_filters_1: 128\n",
      "num_kernels1: 5\n",
      "num_filters_2: 64\n",
      "num_kernels2: 3\n",
      "dropout_1: 0.30000000000000004\n",
      "num_filters_3: 32\n",
      "num_kernels3: 3\n",
      "units_1: 256\n",
      "dense_activation: sigmoid\n",
      "dropout_2: 0.15000000000000002\n",
      "units_2: 64\n",
      "dropout_3: 0.4\n",
      "learning_rate: 0.0006071044349038084\n",
      "tuner/epochs: 7\n",
      "tuner/initial_epoch: 3\n",
      "tuner/bracket: 2\n",
      "tuner/round: 1\n",
      "tuner/trial_id: e054fc3c9af6b6ba0a114fbcc5c9b0f6\n",
      "Score: 0.5490416884422302\n",
      "Trial summary\n",
      "Hyperparameters:\n",
      "l2: 0.004\n",
      "num_filters_1: 96\n",
      "num_kernels1: 7\n",
      "num_filters_2: 32\n",
      "num_kernels2: 3\n",
      "dropout_1: 0.25\n",
      "num_filters_3: 128\n",
      "num_kernels3: 7\n",
      "units_1: 96\n",
      "dense_activation: tanh\n",
      "dropout_2: 0.4\n",
      "units_2: 80\n",
      "dropout_3: 0.1\n",
      "learning_rate: 0.00029945003945709285\n",
      "tuner/epochs: 20\n",
      "tuner/initial_epoch: 0\n",
      "tuner/bracket: 0\n",
      "tuner/round: 0\n",
      "Score: 0.5479143261909485\n",
      "Trial summary\n",
      "Hyperparameters:\n",
      "l2: 0.004\n",
      "num_filters_1: 32\n",
      "num_kernels1: 3\n",
      "num_filters_2: 96\n",
      "num_kernels2: 5\n",
      "dropout_1: 0.25\n",
      "num_filters_3: 64\n",
      "num_kernels3: 5\n",
      "units_1: 96\n",
      "dense_activation: relu\n",
      "dropout_2: 0.0\n",
      "units_2: 96\n",
      "dropout_3: 0.25\n",
      "learning_rate: 0.0010413788678113095\n",
      "tuner/epochs: 20\n",
      "tuner/initial_epoch: 7\n",
      "tuner/bracket: 1\n",
      "tuner/round: 1\n",
      "tuner/trial_id: 87920a1fd793fa87f6c8f653be6cfd18\n",
      "Score: 0.5253664255142212\n",
      "Trial summary\n",
      "Hyperparameters:\n",
      "l2: 0.004\n",
      "num_filters_1: 32\n",
      "num_kernels1: 3\n",
      "num_filters_2: 96\n",
      "num_kernels2: 5\n",
      "dropout_1: 0.25\n",
      "num_filters_3: 64\n",
      "num_kernels3: 5\n",
      "units_1: 96\n",
      "dense_activation: relu\n",
      "dropout_2: 0.0\n",
      "units_2: 96\n",
      "dropout_3: 0.25\n",
      "learning_rate: 0.0010413788678113095\n",
      "tuner/epochs: 7\n",
      "tuner/initial_epoch: 0\n",
      "tuner/bracket: 1\n",
      "tuner/round: 0\n",
      "Score: 0.5095828771591187\n"
     ]
    }
   ],
   "source": [
    "# Show a summary of the search\n",
    "tuner.results_summary()"
   ]
  },
  {
   "cell_type": "markdown",
   "metadata": {},
   "source": [
    "Ik zoek nu de beste hyperparameters."
   ]
  },
  {
   "cell_type": "code",
   "execution_count": 11,
   "metadata": {},
   "outputs": [],
   "source": [
    "best_hps=tuner.get_best_hyperparameters()[0] # beste instellingen"
   ]
  },
  {
   "cell_type": "markdown",
   "metadata": {},
   "source": [
    "### Model met beste parameters\n",
    "### <font color='red'>Let op! Duurt weer erg lang uur op CPU!</font>\n",
    "\n",
    "Ik bouw nu een model met de best gevonden parameters, en train dat voor 20 epochs."
   ]
  },
  {
   "cell_type": "code",
   "execution_count": 12,
   "metadata": {},
   "outputs": [
    {
     "name": "stdout",
     "output_type": "stream",
     "text": [
      "Epoch 1/20\n",
      "388/388 [==============================] - 259s 667ms/step - loss: 3.6134 - accuracy: 0.3602 - val_loss: 3.4043 - val_accuracy: 0.3828\n",
      "Epoch 2/20\n",
      "388/388 [==============================] - 255s 656ms/step - loss: 3.2061 - accuracy: 0.4489 - val_loss: 3.2109 - val_accuracy: 0.4149\n",
      "Epoch 3/20\n",
      "388/388 [==============================] - 260s 670ms/step - loss: 2.9615 - accuracy: 0.4863 - val_loss: 3.0622 - val_accuracy: 0.4064\n",
      "Epoch 4/20\n",
      "388/388 [==============================] - 255s 658ms/step - loss: 2.7415 - accuracy: 0.5271 - val_loss: 2.7945 - val_accuracy: 0.4707\n",
      "Epoch 5/20\n",
      "388/388 [==============================] - 257s 664ms/step - loss: 2.5765 - accuracy: 0.5520 - val_loss: 2.6869 - val_accuracy: 0.4791\n",
      "Epoch 6/20\n",
      "388/388 [==============================] - 258s 664ms/step - loss: 2.4458 - accuracy: 0.5825 - val_loss: 2.5777 - val_accuracy: 0.5135\n",
      "Epoch 7/20\n",
      "388/388 [==============================] - 254s 656ms/step - loss: 2.3352 - accuracy: 0.6066 - val_loss: 2.4930 - val_accuracy: 0.5287\n",
      "Epoch 8/20\n",
      "388/388 [==============================] - 262s 674ms/step - loss: 2.2213 - accuracy: 0.6368 - val_loss: 2.4321 - val_accuracy: 0.5445\n",
      "Epoch 9/20\n",
      "388/388 [==============================] - 259s 668ms/step - loss: 2.1382 - accuracy: 0.6565 - val_loss: 2.4638 - val_accuracy: 0.5180\n",
      "Epoch 10/20\n",
      "388/388 [==============================] - 259s 667ms/step - loss: 2.0463 - accuracy: 0.6835 - val_loss: 2.2298 - val_accuracy: 0.5998\n",
      "Epoch 11/20\n",
      "388/388 [==============================] - 255s 658ms/step - loss: 1.9656 - accuracy: 0.7044 - val_loss: 2.3418 - val_accuracy: 0.5727\n",
      "Epoch 12/20\n",
      "388/388 [==============================] - 255s 658ms/step - loss: 1.8845 - accuracy: 0.7287 - val_loss: 2.2072 - val_accuracy: 0.6037\n",
      "Epoch 13/20\n",
      "388/388 [==============================] - 256s 661ms/step - loss: 1.7954 - accuracy: 0.7522 - val_loss: 2.1970 - val_accuracy: 0.6009\n",
      "Epoch 14/20\n",
      "388/388 [==============================] - 257s 662ms/step - loss: 1.7276 - accuracy: 0.7729 - val_loss: 2.0971 - val_accuracy: 0.6274\n",
      "Epoch 15/20\n",
      "388/388 [==============================] - 258s 666ms/step - loss: 1.6486 - accuracy: 0.7982 - val_loss: 2.1317 - val_accuracy: 0.6240\n",
      "Epoch 16/20\n",
      "388/388 [==============================] - 253s 652ms/step - loss: 1.5798 - accuracy: 0.8203 - val_loss: 2.1062 - val_accuracy: 0.6178\n",
      "Epoch 17/20\n",
      "388/388 [==============================] - 258s 664ms/step - loss: 1.5182 - accuracy: 0.8388 - val_loss: 2.0983 - val_accuracy: 0.6285\n",
      "Epoch 18/20\n",
      "388/388 [==============================] - 254s 655ms/step - loss: 1.4492 - accuracy: 0.8623 - val_loss: 2.0830 - val_accuracy: 0.6336\n",
      "Epoch 19/20\n",
      "388/388 [==============================] - 254s 656ms/step - loss: 1.3852 - accuracy: 0.8801 - val_loss: 2.0623 - val_accuracy: 0.6353\n",
      "Epoch 20/20\n",
      "388/388 [==============================] - 259s 668ms/step - loss: 1.3428 - accuracy: 0.8888 - val_loss: 2.1006 - val_accuracy: 0.6364\n",
      "Best epoch: 19\n"
     ]
    }
   ],
   "source": [
    "# Build the model with the optimal hyperparameters and train it on the data for 50 epochs\n",
    "model = tuner.hypermodel.build(best_hps)\n",
    "history = model.fit(X_train, y_train, epochs=20,validation_data=(X_valid, \n",
    "y_valid))\n",
    "\n",
    "val_loss_per_epoch = history.history['val_loss']\n",
    "best_epoch = val_loss_per_epoch.index(min(val_loss_per_epoch)) + 1\n",
    "print('Best epoch: %d' % (best_epoch,))\n",
    "\n",
    "# Retrieve the best model.\n",
    "best_model = tuner.get_best_models(num_models=1)[0]"
   ]
  },
  {
   "cell_type": "markdown",
   "metadata": {},
   "source": [
    "### Het moment van de waarheid\n",
    "Nu laat ik dit beste model los op de testset. Voor het model is dit dus data die het nog nooit heeft gezien."
   ]
  },
  {
   "cell_type": "code",
   "execution_count": 13,
   "metadata": {},
   "outputs": [
    {
     "name": "stdout",
     "output_type": "stream",
     "text": [
      "111/111 [==============================] - 16s 141ms/step - loss: 2.1781 - accuracy: 0.6364\n"
     ]
    }
   ],
   "source": [
    "# Evaluate the best model.\n",
    "loss, accuracy = best_model.evaluate(X_test, y_test)"
   ]
  },
  {
   "cell_type": "markdown",
   "metadata": {},
   "source": [
    "### Observatie:\n",
    "De accuracy ligt dicht bij de validation set, wat voor mij betekent dat het model goed generaliseert. Ik visualiseer het verloop van het leren van het model."
   ]
  },
  {
   "cell_type": "code",
   "execution_count": 14,
   "metadata": {},
   "outputs": [
    {
     "data": {
      "image/png": "[encoded data removed]",
      "text/plain": [
       "<Figure size 1080x1080 with 1 Axes>"
      ]
     },
     "metadata": {},
     "output_type": "display_data"
    }
   ],
   "source": [
    "pd.DataFrame(history.history).plot(figsize=(15, 15))\n",
    "plt.grid(True)\n",
    "plt.gca().set_ylim(0, 2) # set the vertical range to [0-2]\n",
    "plt.show()"
   ]
  },
  {
   "cell_type": "markdown",
   "metadata": {},
   "source": [
    "Je ziet hier dat de trainingsaccuracy na verloop van tijd de validation accuracy achter zich gaat laten, wat betekent dat het model gaat overfitten."
   ]
  },
  {
   "cell_type": "markdown",
   "metadata": {},
   "source": [
    "### Classificeren op de testset\n",
    "Dan ga ik nu kijken hoe goed het model het doet per klasse. Dit is waar het uiteindelijk om gaat. Mijn verwachting is dat dit CNN model beter presteert dan het RandomForest, <br>\n",
    "maar dat de twee 'probleem'klasses het nog steeds niet goed zullen doen."
   ]
  },
  {
   "cell_type": "code",
   "execution_count": null,
   "metadata": {},
   "outputs": [],
   "source": [
    "#y_test = np.argmax(y_test,axis=1)\n",
    "predict = best_model.predict(X_test).argmax(axis=1)"
   ]
  },
  {
   "cell_type": "code",
   "execution_count": 16,
   "metadata": {},
   "outputs": [
    {
     "name": "stdout",
     "output_type": "stream",
     "text": [
      "              precision    recall  f1-score   support\n",
      "\n",
      "           0       0.50      0.65      0.56       393\n",
      "           1       0.71      0.35      0.47        68\n",
      "           2       0.36      0.17      0.24       218\n",
      "           3       0.78      0.80      0.79       378\n",
      "           4       0.80      0.81      0.80       279\n",
      "           5       0.55      0.57      0.56       380\n",
      "           6       0.78      0.86      0.82       563\n",
      "           7       0.71      0.76      0.73       399\n",
      "           8       0.46      0.48      0.47       516\n",
      "           9       0.68      0.45      0.54       354\n",
      "\n",
      "    accuracy                           0.64      3548\n",
      "   macro avg       0.63      0.59      0.60      3548\n",
      "weighted avg       0.63      0.64      0.63      3548\n",
      "\n"
     ]
    }
   ],
   "source": [
    "#encoder = LabelEncoder()\n",
    "#y_test = encoder.fit_transform(y_test)\n",
    "#predict = encoder.fit_transform(predict)\n",
    "\n",
    "print(classification_report(y_test, predict))"
   ]
  },
  {
   "cell_type": "code",
   "execution_count": 17,
   "metadata": {},
   "outputs": [
    {
     "data": {
      "image/png": "[encoded data removed]",
      "text/plain": [
       "<Figure size 864x864 with 2 Axes>"
      ]
     },
     "metadata": {},
     "output_type": "display_data"
    }
   ],
   "source": [
    "cfm = confusion_matrix(y_test, predict)\n",
    "cfm_heatmap(cfm, figsize=(12,12), scale='rowwise', vmax= 0.8)"
   ]
  },
  {
   "cell_type": "markdown",
   "metadata": {},
   "source": [
    "### Observatie\n",
    "Sommige klasses scoren boven de 80%, wat inderdaad veel beter is dan het Randomforest. \n",
    "De 'Disturbed' en 'Cigar Shaped Smooth' klassen presteren nog steeds slecht / het slechtst, zoals ik verwacht had.\n",
    "\n",
    "Overall is de performance nog steeds niet heel erg goed. Maar niet iedere dataset levert scores boven de 90% op!"
   ]
  },
  {
   "cell_type": "markdown",
   "metadata": {},
   "source": [
    "# Eindconclusies\n",
    "\n",
    "De meeste van mijn hypotheses zijn volgens mij bevestigt. Dit is een uitdagende dataset waardoor het lastig is om hele hoge scores neer te zetten.\n",
    "Ik zie dat een CNN inderdaad de beste uitkomsten oplevert, dit is ook de meest logische keuze voor image classification.\n",
    "De 'Cigar Shaped Smooth' is inderdaad lastig gebleken, maar de 'Disturbed' klasse is echt een probleem, en dat ligt aan de data/labeling. "
   ]
  }
 ],
 "metadata": {
  "interpreter": {
   "hash": "d031ad01bed61ded824456c2d8715b797c0f37e7c3a3e3c3c540f3dac9fb955e"
  },
  "kernelspec": {
   "display_name": "Python 3.8.1 64-bit ('hu-deeplearning-lSm0EZYV-py3.8': venv)",
   "language": "python",
   "name": "python3"
  },
  "language_info": {
   "codemirror_mode": {
    "name": "ipython",
    "version": 3
   },
   "file_extension": ".py",
   "mimetype": "text/x-python",
   "name": "python",
   "nbconvert_exporter": "python",
   "pygments_lexer": "ipython3",
   "version": "3.8.1"
  },
  "orig_nbformat": 4
 },
 "nbformat": 4,
 "nbformat_minor": 2
}
