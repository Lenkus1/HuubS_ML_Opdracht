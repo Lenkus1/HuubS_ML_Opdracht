{
  "cells": [
    {
      "cell_type": "markdown",
      "metadata": {
        "id": "mnuBZuYM2CKU"
      },
      "source": [
        "# Colab\n",
        "Tijdens de lessen van Raoul bleek dat bij veel studenten (ook bij mij) het niet lukte om een neuraal netwerk te trainen met behulp van een GPU. Als oplossing heeft Raoul toen aanbevolen om Google Colab te gebruiken. <br>\n",
        "Hiervoor moet soms wel de code worden aangepast. Ik heb geprobeerd dit notebook zo te maken dat het zowel in Colab als op een laptop/PC kan draaien, maar alleen in Colab wordt dus gebruik gemaakt van een GPU."
      ]
    },
    {
      "cell_type": "code",
      "execution_count": 1,
      "metadata": {
        "colab": {
          "base_uri": "https://localhost:8080/"
        },
        "id": "emCQE3xa2CKV",
        "outputId": "6bb53601-cb4e-4515-8ba5-d858cb689f11"
      },
      "outputs": [
        {
          "name": "stdout",
          "output_type": "stream",
          "text": [
            "Cloning into 'HuubS_ML_Opdracht'...\n",
            "remote: Enumerating objects: 35623, done.\u001b[K\n",
            "remote: Counting objects: 100% (35623/35623), done.\u001b[K\n",
            "remote: Compressing objects: 100% (35542/35542), done.\u001b[K\n",
            "remote: Total 35623 (delta 113), reused 35552 (delta 71), pack-reused 0\u001b[K\n",
            "Receiving objects: 100% (35623/35623), 160.54 MiB | 20.11 MiB/s, done.\n",
            "Resolving deltas: 100% (113/113), done.\n",
            "Checking out files: 100% (17794/17794), done.\n",
            "/content/HuubS_ML_Opdracht/template\n",
            "Collecting loguru\n",
            "  Downloading loguru-0.6.0-py3-none-any.whl (58 kB)\n",
            "\u001b[K     |████████████████████████████████| 58 kB 3.8 MB/s \n",
            "\u001b[?25hInstalling collected packages: loguru\n",
            "Successfully installed loguru-0.6.0\n",
            "\u001b[K     |████████████████████████████████| 98 kB 4.4 MB/s \n",
            "\u001b[?25h"
          ]
        }
      ],
      "source": [
        "try:\n",
        "    # %tensorflow_version only exists in Colab.\n",
        "    %tensorflow_version 2.x\n",
        "    IS_COLAB = True\n",
        "except Exception:\n",
        "    IS_COLAB = False\n",
        "    datadir_processed = Path(\"../data/processed\")\n",
        "    datadir_model = Path(\"../models\")\n",
        "    \n",
        "if IS_COLAB:\n",
        "    !git clone https://github.com/Lenkus1/HuubS_ML_Opdracht.git\n",
        "    %cd HuubS_ML_Opdracht/template\n",
        "    %pip install loguru\n",
        "    %pip install -q -U keras-tuner\n",
        "    datadir_processed = \"/content/HuubS_ML_Opdracht/template/data/processed\"\n",
        "    datadir_model = \"/content/HuubS_ML_Opdracht/template/models\""
      ]
    },
    {
      "cell_type": "markdown",
      "metadata": {
        "id": "mQ1vO0iv2CKW"
      },
      "source": [
        "# Convolutional Neural Network (CNN)\n",
        "\n",
        "Een CNN is op dit moment het beste algoritme voor het verwerken van afbeeldingen. Een CNN reduceert de complexiteit en maakt het netwerk geschikter voor zijn taak. <br> \n",
        "Over het algemeen heeft een pixel linksboven in een foto immers weinig te maken met een pixel rechtsonder. Bij CNN's worden afbeeldingen opgedeeld in kleine rasters van goed behapbare stukjes. <br>\n",
        "Ik verwacht dat deze techniek het beste presteert op mijn dataset. Maar HOE goed is de vraag. Ik verwacht in ieder geval voor de klassen '1' en '2' (De 'Disturbed' en de cigar) nog steeds geen hele goede resultaten. <br>\n",
        "Hoe goed het algoritme ook is, als de input data niet goed is zal het resultaat nog steeds mager zijn.\n"
      ]
    },
    {
      "cell_type": "code",
      "execution_count": 2,
      "metadata": {
        "colab": {
          "base_uri": "https://localhost:8080/"
        },
        "id": "p7ztSguu2CKW",
        "outputId": "93ab6984-3e86-45bc-e29c-ab74eea61562"
      },
      "outputs": [
        {
          "name": "stdout",
          "output_type": "stream",
          "text": [
            "Requirement already satisfied: keras-tuner in /usr/local/lib/python3.7/dist-packages (1.1.0)\n",
            "Requirement already satisfied: ipython in /usr/local/lib/python3.7/dist-packages (from keras-tuner) (5.5.0)\n",
            "Requirement already satisfied: requests in /usr/local/lib/python3.7/dist-packages (from keras-tuner) (2.23.0)\n",
            "Requirement already satisfied: scipy in /usr/local/lib/python3.7/dist-packages (from keras-tuner) (1.4.1)\n",
            "Requirement already satisfied: kt-legacy in /usr/local/lib/python3.7/dist-packages (from keras-tuner) (1.0.4)\n",
            "Requirement already satisfied: tensorboard in /usr/local/lib/python3.7/dist-packages (from keras-tuner) (2.7.0)\n",
            "Requirement already satisfied: packaging in /usr/local/lib/python3.7/dist-packages (from keras-tuner) (21.3)\n",
            "Requirement already satisfied: numpy in /usr/local/lib/python3.7/dist-packages (from keras-tuner) (1.19.5)\n",
            "Requirement already satisfied: simplegeneric>0.8 in /usr/local/lib/python3.7/dist-packages (from ipython->keras-tuner) (0.8.1)\n",
            "Requirement already satisfied: prompt-toolkit<2.0.0,>=1.0.4 in /usr/local/lib/python3.7/dist-packages (from ipython->keras-tuner) (1.0.18)\n",
            "Requirement already satisfied: pickleshare in /usr/local/lib/python3.7/dist-packages (from ipython->keras-tuner) (0.7.5)\n",
            "Requirement already satisfied: pexpect in /usr/local/lib/python3.7/dist-packages (from ipython->keras-tuner) (4.8.0)\n",
            "Requirement already satisfied: pygments in /usr/local/lib/python3.7/dist-packages (from ipython->keras-tuner) (2.6.1)\n",
            "Requirement already satisfied: traitlets>=4.2 in /usr/local/lib/python3.7/dist-packages (from ipython->keras-tuner) (5.1.1)\n",
            "Requirement already satisfied: setuptools>=18.5 in /usr/local/lib/python3.7/dist-packages (from ipython->keras-tuner) (57.4.0)\n",
            "Requirement already satisfied: decorator in /usr/local/lib/python3.7/dist-packages (from ipython->keras-tuner) (4.4.2)\n",
            "Requirement already satisfied: wcwidth in /usr/local/lib/python3.7/dist-packages (from prompt-toolkit<2.0.0,>=1.0.4->ipython->keras-tuner) (0.2.5)\n",
            "Requirement already satisfied: six>=1.9.0 in /usr/local/lib/python3.7/dist-packages (from prompt-toolkit<2.0.0,>=1.0.4->ipython->keras-tuner) (1.15.0)\n",
            "Requirement already satisfied: pyparsing!=3.0.5,>=2.0.2 in /usr/local/lib/python3.7/dist-packages (from packaging->keras-tuner) (3.0.7)\n",
            "Requirement already satisfied: ptyprocess>=0.5 in /usr/local/lib/python3.7/dist-packages (from pexpect->ipython->keras-tuner) (0.7.0)\n",
            "Requirement already satisfied: certifi>=2017.4.17 in /usr/local/lib/python3.7/dist-packages (from requests->keras-tuner) (2021.10.8)\n",
            "Requirement already satisfied: chardet<4,>=3.0.2 in /usr/local/lib/python3.7/dist-packages (from requests->keras-tuner) (3.0.4)\n",
            "Requirement already satisfied: urllib3!=1.25.0,!=1.25.1,<1.26,>=1.21.1 in /usr/local/lib/python3.7/dist-packages (from requests->keras-tuner) (1.24.3)\n",
            "Requirement already satisfied: idna<3,>=2.5 in /usr/local/lib/python3.7/dist-packages (from requests->keras-tuner) (2.10)\n",
            "Requirement already satisfied: wheel>=0.26 in /usr/local/lib/python3.7/dist-packages (from tensorboard->keras-tuner) (0.37.1)\n",
            "Requirement already satisfied: tensorboard-data-server<0.7.0,>=0.6.0 in /usr/local/lib/python3.7/dist-packages (from tensorboard->keras-tuner) (0.6.1)\n",
            "Requirement already satisfied: werkzeug>=0.11.15 in /usr/local/lib/python3.7/dist-packages (from tensorboard->keras-tuner) (1.0.1)\n",
            "Requirement already satisfied: tensorboard-plugin-wit>=1.6.0 in /usr/local/lib/python3.7/dist-packages (from tensorboard->keras-tuner) (1.8.1)\n",
            "Requirement already satisfied: google-auth<3,>=1.6.3 in /usr/local/lib/python3.7/dist-packages (from tensorboard->keras-tuner) (1.35.0)\n",
            "Requirement already satisfied: grpcio>=1.24.3 in /usr/local/lib/python3.7/dist-packages (from tensorboard->keras-tuner) (1.43.0)\n",
            "Requirement already satisfied: absl-py>=0.4 in /usr/local/lib/python3.7/dist-packages (from tensorboard->keras-tuner) (1.0.0)\n",
            "Requirement already satisfied: markdown>=2.6.8 in /usr/local/lib/python3.7/dist-packages (from tensorboard->keras-tuner) (3.3.6)\n",
            "Requirement already satisfied: protobuf>=3.6.0 in /usr/local/lib/python3.7/dist-packages (from tensorboard->keras-tuner) (3.17.3)\n",
            "Requirement already satisfied: google-auth-oauthlib<0.5,>=0.4.1 in /usr/local/lib/python3.7/dist-packages (from tensorboard->keras-tuner) (0.4.6)\n",
            "Requirement already satisfied: pyasn1-modules>=0.2.1 in /usr/local/lib/python3.7/dist-packages (from google-auth<3,>=1.6.3->tensorboard->keras-tuner) (0.2.8)\n",
            "Requirement already satisfied: cachetools<5.0,>=2.0.0 in /usr/local/lib/python3.7/dist-packages (from google-auth<3,>=1.6.3->tensorboard->keras-tuner) (4.2.4)\n",
            "Requirement already satisfied: rsa<5,>=3.1.4 in /usr/local/lib/python3.7/dist-packages (from google-auth<3,>=1.6.3->tensorboard->keras-tuner) (4.8)\n",
            "Requirement already satisfied: requests-oauthlib>=0.7.0 in /usr/local/lib/python3.7/dist-packages (from google-auth-oauthlib<0.5,>=0.4.1->tensorboard->keras-tuner) (1.3.1)\n",
            "Requirement already satisfied: importlib-metadata>=4.4 in /usr/local/lib/python3.7/dist-packages (from markdown>=2.6.8->tensorboard->keras-tuner) (4.10.1)\n",
            "Requirement already satisfied: zipp>=0.5 in /usr/local/lib/python3.7/dist-packages (from importlib-metadata>=4.4->markdown>=2.6.8->tensorboard->keras-tuner) (3.7.0)\n",
            "Requirement already satisfied: typing-extensions>=3.6.4 in /usr/local/lib/python3.7/dist-packages (from importlib-metadata>=4.4->markdown>=2.6.8->tensorboard->keras-tuner) (3.10.0.2)\n",
            "Requirement already satisfied: pyasn1<0.5.0,>=0.4.6 in /usr/local/lib/python3.7/dist-packages (from pyasn1-modules>=0.2.1->google-auth<3,>=1.6.3->tensorboard->keras-tuner) (0.4.8)\n",
            "Requirement already satisfied: oauthlib>=3.0.0 in /usr/local/lib/python3.7/dist-packages (from requests-oauthlib>=0.7.0->google-auth-oauthlib<0.5,>=0.4.1->tensorboard->keras-tuner) (3.2.0)\n"
          ]
        }
      ],
      "source": [
        "# laden van libraries\n",
        "\n",
        "%load_ext autoreload\n",
        "%autoreload 2\n",
        "\n",
        "%pip install keras-tuner\n",
        "\n",
        "from pathlib import Path\n",
        "import os\n",
        "import sys\n",
        "sys.path.insert(0, \"..\")\n",
        "sys.path\n",
        "\n",
        "# loading libraries, some settings for plots\n",
        "\n",
        "import numpy as np\n",
        "import seaborn as sns\n",
        "sns.set_theme()\n",
        "\n",
        "import pandas as pd\n",
        "\n",
        "import tensorflow as tf\n",
        "from tensorflow import keras\n",
        "\n",
        "from sklearn.model_selection import train_test_split\n",
        "from sklearn.preprocessing import LabelEncoder\n",
        "from tensorflow.keras.utils import to_categorical\n",
        "import matplotlib.pyplot as plt\n",
        "\n",
        "from sklearn.metrics import classification_report\n",
        "from sklearn.metrics import confusion_matrix\n",
        "\n",
        "from keras.callbacks import ReduceLROnPlateau\n",
        "from tensorflow.keras import layers\n",
        "from tensorflow.keras import regularizers\n",
        "import keras_tuner as kt\n",
        "from keras_tuner import HyperModel\n",
        "\n",
        "import random as python_random\n",
        "from collections import Counter\n",
        "\n",
        "from typing import Dict, List, Tuple\n",
        "\n",
        "# voor reproduceerbaarheid restulaten (tips gevonden via Google)\n",
        "os.environ['PYTHONHASHSEED']=str(42)\n",
        "def reset_random_seeds():\n",
        "   os.environ['PYTHONHASHSEED']=str(42)\n",
        "   tf.random.set_seed(42)\n",
        "   np.random.seed(42)\n",
        "   python_random.seed(42)\n",
        "  \n",
        "\n",
        "reset_random_seeds()\n",
        "\n"
      ]
    },
    {
      "cell_type": "markdown",
      "metadata": {
        "id": "uyatLvwL2CKX"
      },
      "source": [
        "### Functies en Colab\n",
        "Vanwege het runnen in Colab definiëer ik alle functies in het notebook zelf."
      ]
    },
    {
      "cell_type": "code",
      "execution_count": 3,
      "metadata": {
        "id": "0e_U6WzE2CKY"
      },
      "outputs": [],
      "source": [
        "def cfm_heatmap(\n",
        "    cfm: np.ndarray,\n",
        "    figsize: tuple = (8, 8),\n",
        "    scale: float = None,\n",
        "    labels: List[str] = None,\n",
        "    vmin: float = None,\n",
        "    vmax: float = None,\n",
        ") -> None:\n",
        "    \"\"\"\n",
        "    figsize: tuple, default (8,8)\n",
        "    scale: string. The direction over which the numbers are scaled.\n",
        "        Either None, 'total', 'rowwise' or 'colwise'\n",
        "    \"\"\"\n",
        "\n",
        "    if scale == \"total\":\n",
        "        cfm_norm = cfm / np.sum(cfm)\n",
        "    elif scale == \"rowwise\":\n",
        "        cfm_norm = cfm / np.sum(cfm, axis=1, keepdims=True)\n",
        "    elif scale == \"colwise\":\n",
        "        cfm_norm = cfm / np.sum(cfm, axis=0, keepdims=True)\n",
        "    else:\n",
        "        cfm_norm = cfm\n",
        "    plt.figure(figsize=figsize)\n",
        "    if labels is not None:\n",
        "        plot = sns.heatmap(\n",
        "            cfm_norm,\n",
        "            annot=cfm_norm,\n",
        "            vmin=vmin,\n",
        "            vmax=vmax,\n",
        "            xticklabels=labels,\n",
        "            yticklabels=labels,\n",
        "        )\n",
        "    else:\n",
        "        plot = sns.heatmap(cfm_norm, annot=cfm_norm, vmin=vmin, vmax=vmax)\n",
        "    plot.set(xlabel=\"Predicted\", ylabel=\"Target\")\n"
      ]
    },
    {
      "cell_type": "markdown",
      "metadata": {
        "id": "CnAzr1qq2CKY"
      },
      "source": [
        "We bepalen weer de datasets. We maken nu naast een train- en testset ook een validatieset, zodat we een unbiased set hebben om het uiteindelijke model op te toetsen."
      ]
    },
    {
      "cell_type": "code",
      "execution_count": 4,
      "metadata": {
        "colab": {
          "base_uri": "https://localhost:8080/"
        },
        "id": "ptAAmlMj2CKY",
        "outputId": "f618d227-7433-4a65-df2e-a38046da1391"
      },
      "outputs": [
        {
          "name": "stdout",
          "output_type": "stream",
          "text": [
            "(10641, 64, 64, 3)\n",
            "(3548, 64, 64, 3)\n",
            "(3547, 64, 64, 3)\n"
          ]
        }
      ],
      "source": [
        "data = []\n",
        "labels = []\n",
        "\n",
        "for f in sorted(os.listdir(datadir_processed)):\n",
        "    folder = os.path.join(datadir_processed, f)\n",
        "    if os.path.isdir(folder):\n",
        "        #print(f\"{f} is a target class\")\n",
        "        for i in sorted(os.listdir(folder)):\n",
        "            image=tf.keras.preprocessing.image.load_img(folder+'/'+i, \n",
        "            target_size= (64,64))\n",
        "            image=np.array(image)\n",
        "            data.append(image)\n",
        "            labels.append(f)\n",
        "\n",
        "data = np.array(data)\n",
        "labels = list(labels)\n",
        "\n",
        "encoder = LabelEncoder() # het CNN wil numerieke waardes ipv tekstklasses\n",
        "labels = encoder.fit_transform(labels)\n",
        "\n",
        "\n",
        "X_train, X_test, y_train, y_test = train_test_split(data, labels, test_size=0.2, #train/test\n",
        "                                                shuffle=True,\n",
        "                                                random_state=42)\n",
        "\n",
        "X_train, X_valid, y_train, y_valid = train_test_split(X_train, y_train, # validatieset\n",
        "                                        test_size=0.25, random_state=42)\n",
        "\n",
        "\n",
        "# Pre-processing\n",
        "X_train = X_train.astype('float32') / 255.\n",
        "X_test = X_test.astype('float32') / 255\n",
        "X_valid = X_valid.astype('float32') / 255\n",
        "\n",
        "print(X_train.shape)\n",
        "print(X_test.shape)\n",
        "print(X_valid.shape)\n"
      ]
    },
    {
      "cell_type": "markdown",
      "metadata": {
        "id": "6ks7tcUs2CKZ"
      },
      "source": [
        "# Het CNN model bouwen\n",
        "\n",
        "Ik ben wel een week bezig geweest om allerlei modellen te bouwen en te testen. Het model hieronder is waar ik uiteindelijk op uitgekomen ben.\n",
        "\n",
        "Het bestaat uit de volgende onderdelen:\n",
        "\n",
        "## Data augmentation\n",
        "Dit is een techniek die zorgt voor meer trainingsvoorbeelden. Dit kan er voor zorgen dat het model robuuster wordt en beter kan generaliseren.<br> \n",
        "Ik heb hier ook voor gekozen omdat de 'cigar shape smooth' klasse relatief weinig beelden heeft.\n",
        "Ik gebruik flip, rotation, translation en zoom. Dit lijkt goed te passen bij het soort beelden.\n",
        "\n",
        "## Convolutional layers\n",
        "Ik ben uitgekomen op 3 convolutional layers. Ik heb ook modellen geprobered met meer layers maar de performance werd niet beter, maar de doorlooptijd nam wel toe. <br>\n",
        "3 layers geeft de hypertuning wat mogelijkheden om te variëren met de verschillende parameters.\n",
        "\n",
        "### Aantal filters\n",
        "Het aantal filters wordt door hypertuning bepaald, maar een range tussen 32 en 128 lijkt goed als ik kijk naar voorbeelden van allerlei architecturen.\n",
        "\n",
        "### Kernel size\n",
        "De kernel size wordt door hypertuning bepaald, maar een range tussen 3 en 7 lijkt goed als ik kijk naar voorbeelden van allerlei architecturen. <br>\n",
        "De plaatjes zijn ook maar 64x64 pixels groot.\n",
        "\n",
        "### Kernel Initializer\n",
        "Om exploding/vanishing gradients tegen te gaan voeg ik een KI toe. \n",
        "\n",
        "### Kernel Regulizer\n",
        "Het model gaat behoorlijk overfitten, om dat tegen te gaan voeg ik een regulizer toe die gewichten en penalties toekent.\n",
        "\n",
        "## Activation\n",
        "Ik gebruik LeakyRelu bij de Convolutional Layers omdat dat bij mijn experimenten iets betere scores opleverde. Bij de Dense layers laat ik de hypertuner kiezen.\n",
        "\n",
        "## Max pooling\n",
        "Verwijdert niet-relevante elementen en maakt het model robuuster voor wijzigingen in de invoer.\n",
        "\n",
        "## Batch normalization\n",
        "Dit versnelt het trainingsproces en normaliseert de data in het model.\n",
        "\n",
        "## Dropout\n",
        "Ook dit helpt tegen overfitten. Ik laat de hypertuning zoeken wat goed werkt tussen 0.05 en 0.25.\n",
        "\n",
        "## Dense layers\n",
        "3 Dense layers (de laatste voor de output) is vrij gebruikelijk. Ik laat hypertuning het aantal units bepalen, <br> \n",
        "maar geef een grotere range voor de eerste laag, zodat een soort 'trechter' ontstaat.\n",
        "\n"
      ]
    },
    {
      "cell_type": "code",
      "execution_count": 5,
      "metadata": {
        "id": "bSjOt3342CKZ"
      },
      "outputs": [],
      "source": [
        "INPUT_SHAPE = (64, 64, 3)\n",
        "NUM_CLASSES = 10\n",
        "\n",
        "class CNNHyperModel(HyperModel):\n",
        "    def __init__(self, input_shape, num_classes):\n",
        "        self.input_shape = input_shape\n",
        "        self.num_classes = num_classes\n",
        "\n",
        "    def build(self, hp):\n",
        "        \n",
        "        KI='he_uniform'\n",
        "        KR=regularizers.l2(hp.Float('l2', min_value=0.001, max_value=0.005, \n",
        "        default=0.002, step=0.001))\n",
        "      \n",
        "        data_augmentation = tf.keras.Sequential([\n",
        "        keras.layers.RandomFlip(\"horizontal\"),\n",
        "        keras.layers.RandomRotation(0.2),\n",
        "        keras.layers.RandomTranslation(0.1, 0.1),\n",
        "        keras.layers.RandomZoom(0.2),\n",
        "        ])\n",
        "\n",
        "        \n",
        "        model = keras.Sequential()\n",
        "\n",
        "        data_augmentation\n",
        "\n",
        "        model.add(keras.layers.Conv2D(filters=hp.Choice('num_filters_1', #laag1\n",
        "        values=[32, 64, 96, 128], default=32), kernel_size=\n",
        "        hp.Choice('num_kernels1',values=[3, 5, 7], default=5),\n",
        "        kernel_initializer=KI, kernel_regularizer=KR, \n",
        "        input_shape=self.input_shape))\n",
        "        \n",
        "        model.add(keras.layers.Conv2D(filters=hp.Choice('num_filters_2', #laag2\n",
        "        values=[32, 64, 96, 128], default=32), kernel_size=\n",
        "        hp.Choice('num_kernels2',values=[3, 5, 7], default=5),\n",
        "        kernel_regularizer=KR))\n",
        "        \n",
        "        model.add(keras.layers.LeakyReLU(alpha=0.2))\n",
        "        model.add(keras.layers.MaxPooling2D(pool_size=2))\n",
        "        model.add(keras.layers.BatchNormalization())\n",
        "        model.add(keras.layers.Dropout(rate=hp.Float('dropout_1', \n",
        "        min_value=0.0, max_value=0.5, default=0.25, step=0.05)))\n",
        "              \n",
        "        model.add(keras.layers.Conv2D(filters=hp.Choice('num_filters_3', #laag3\n",
        "        values=[32, 64, 96, 128], default=64), kernel_size=\n",
        "        hp.Choice('num_kernels3',values=[3, 5, 7], default=5),\n",
        "        kernel_regularizer=KR))\n",
        "        \n",
        "        model.add(keras.layers.LeakyReLU(alpha=0.2))\n",
        "        model.add(keras.layers.BatchNormalization())\n",
        "\n",
        "        model.add(keras.layers.Flatten())\n",
        "        \n",
        "        model.add(keras.layers.Dense(units=hp.Int('units_1', min_value=32, #laag1\n",
        "        max_value=256, step=32, default=128), \n",
        "        activation=hp.Choice('dense_activation', \n",
        "        values=['relu', 'tanh', 'sigmoid'], default='relu'),\n",
        "        kernel_regularizer=KR))\n",
        "        \n",
        "        model.add(keras.layers.Dropout(rate=hp.Float('dropout_2', \n",
        "        min_value=0.0, max_value=0.5, default=0.25, step=0.05)))\n",
        "        \n",
        "        model.add(keras.layers.Dense(units=hp.Int('units_2', min_value=32, #laag2\n",
        "        max_value=128, step=16, default=64), \n",
        "        activation=hp.Choice('dense_activation', \n",
        "        values=['relu', 'tanh', 'sigmoid'], default='relu'),\n",
        "        kernel_regularizer=KR))\n",
        "        \n",
        "        model.add(keras.layers.Dropout(rate=hp.Float('dropout_3', min_value=0.0, \n",
        "        max_value=0.5, default=0.25, step=0.05)))\n",
        "        \n",
        "        model.add(keras.layers.Dense(self.num_classes, \n",
        "        activation='softmax')) # laag 3\n",
        "\n",
        "        \n",
        "        model.compile(\n",
        "            optimizer=keras.optimizers.Adam(\n",
        "                hp.Float(\n",
        "                    'learning_rate',\n",
        "                    min_value=1e-4,\n",
        "                    max_value=1e-2,\n",
        "                    sampling='LOG',\n",
        "                    default=1e-3\n",
        "                )\n",
        "            ),\n",
        "            loss='sparse_categorical_crossentropy',\n",
        "            metrics=['accuracy']\n",
        "        )\n",
        "        return model\n",
        "\n",
        "hypermodel = CNNHyperModel(input_shape=INPUT_SHAPE, num_classes=NUM_CLASSES)"
      ]
    },
    {
      "cell_type": "markdown",
      "metadata": {
        "id": "Ym_tza7_2CKZ"
      },
      "source": [
        "Nu bouw ik de hypertuner. Ik tune op de val_accuracy want het model moet goed werken op andere data dan de trainingsset. Op de trainset gaat de accuracy al snel over de 70%. <br>\n",
        "Ik tune maximaal 20 epochs omdat het anders veel te lang gaat duren, en uit mijn experimenten blijkt dat de beste scores al eerder worden bereikt."
      ]
    },
    {
      "cell_type": "code",
      "execution_count": 6,
      "metadata": {
        "colab": {
          "base_uri": "https://localhost:8080/"
        },
        "id": "LuhlTxGQ2CKa",
        "outputId": "6fb25396-0c4a-411f-ea94-4f0504f5a3d0"
      },
      "outputs": [
        {
          "name": "stderr",
          "output_type": "stream",
          "text": [
            "/usr/local/lib/python3.7/dist-packages/ipykernel_launcher.py:1: DeprecationWarning: `import kerastuner` is deprecated, please use `import keras_tuner`.\n",
            "  \"\"\"Entry point for launching an IPython kernel.\n"
          ]
        }
      ],
      "source": [
        "from kerastuner.tuners import Hyperband\n",
        "\n",
        "tuner = kt.Hyperband(\n",
        "    hypermodel,\n",
        "    overwrite=True,\n",
        "    objective='val_accuracy',\n",
        "    max_epochs=20,\n",
        "    executions_per_trial=1,\n",
        "    hyperband_iterations=1,\n",
        "    directory=datadir_model,\n",
        "    project_name='galaxies'\n",
        "    )\n"
      ]
    },
    {
      "cell_type": "code",
      "execution_count": 7,
      "metadata": {
        "colab": {
          "base_uri": "https://localhost:8080/"
        },
        "id": "accE3PDV2CKa",
        "outputId": "0aed07b1-97f7-4877-ab24-99c85e7056a1"
      },
      "outputs": [
        {
          "name": "stdout",
          "output_type": "stream",
          "text": [
            "Search space summary\n",
            "Default search space size: 14\n",
            "l2 (Float)\n",
            "{'default': 0.002, 'conditions': [], 'min_value': 0.001, 'max_value': 0.005, 'step': 0.001, 'sampling': None}\n",
            "num_filters_1 (Choice)\n",
            "{'default': 32, 'conditions': [], 'values': [32, 64, 96, 128], 'ordered': True}\n",
            "num_kernels1 (Choice)\n",
            "{'default': 5, 'conditions': [], 'values': [3, 5, 7], 'ordered': True}\n",
            "num_filters_2 (Choice)\n",
            "{'default': 32, 'conditions': [], 'values': [32, 64, 96, 128], 'ordered': True}\n",
            "num_kernels2 (Choice)\n",
            "{'default': 5, 'conditions': [], 'values': [3, 5, 7], 'ordered': True}\n",
            "dropout_1 (Float)\n",
            "{'default': 0.25, 'conditions': [], 'min_value': 0.0, 'max_value': 0.5, 'step': 0.05, 'sampling': None}\n",
            "num_filters_3 (Choice)\n",
            "{'default': 64, 'conditions': [], 'values': [32, 64, 96, 128], 'ordered': True}\n",
            "num_kernels3 (Choice)\n",
            "{'default': 5, 'conditions': [], 'values': [3, 5, 7], 'ordered': True}\n",
            "units_1 (Int)\n",
            "{'default': 128, 'conditions': [], 'min_value': 32, 'max_value': 256, 'step': 32, 'sampling': None}\n",
            "dense_activation (Choice)\n",
            "{'default': 'relu', 'conditions': [], 'values': ['relu', 'tanh', 'sigmoid'], 'ordered': False}\n",
            "dropout_2 (Float)\n",
            "{'default': 0.25, 'conditions': [], 'min_value': 0.0, 'max_value': 0.5, 'step': 0.05, 'sampling': None}\n",
            "units_2 (Int)\n",
            "{'default': 64, 'conditions': [], 'min_value': 32, 'max_value': 128, 'step': 16, 'sampling': None}\n",
            "dropout_3 (Float)\n",
            "{'default': 0.25, 'conditions': [], 'min_value': 0.0, 'max_value': 0.5, 'step': 0.05, 'sampling': None}\n",
            "learning_rate (Float)\n",
            "{'default': 0.001, 'conditions': [], 'min_value': 0.0001, 'max_value': 0.01, 'step': None, 'sampling': 'log'}\n"
          ]
        }
      ],
      "source": [
        "tuner.search_space_summary() # samenvatting van mogelijke parameters in het model"
      ]
    },
    {
      "cell_type": "markdown",
      "metadata": {
        "id": "rLbOwWll2CKa"
      },
      "source": [
        "# Hypertuning\n",
        "\n",
        "### <font color='red'>Let op! Duurt 10 uur op CPU / 1 uur op Colab GPU</font>\n",
        "\n",
        "Om overfitting te voorkomen gebruik ik EarlyStopping als de validation loss begint toe te nemen na een plateau, met een patience van 2 om een incidentele stijging te negeren."
      ]
    },
    {
      "cell_type": "code",
      "execution_count": 8,
      "metadata": {
        "colab": {
          "base_uri": "https://localhost:8080/"
        },
        "id": "2loEWlw42CKa",
        "outputId": "c98e2b7e-07c1-4d87-bfbf-1fc7907f94f2"
      },
      "outputs": [
        {
          "name": "stdout",
          "output_type": "stream",
          "text": [
            "Trial 30 Complete [00h 03m 22s]\n",
            "val_accuracy: 0.4471384286880493\n",
            "\n",
            "Best val_accuracy So Far: 0.6619678735733032\n",
            "Total elapsed time: 01h 03m 03s\n",
            "INFO:tensorflow:Oracle triggered exit\n"
          ]
        }
      ],
      "source": [
        "tuner.search(X_train, y_train,\n",
        "             validation_data=(X_valid, y_valid),\n",
        "             callbacks=[tf.keras.callbacks.EarlyStopping('val_loss', \n",
        "             patience=2)])"
      ]
    },
    {
      "cell_type": "markdown",
      "metadata": {
        "id": "1GQj7GoH2CKa"
      },
      "source": [
        "Na 30 trials beslist de tuner dat er geen verbetering meer is en stopt het tunen. De beste uitslagen staan hieronder."
      ]
    },
    {
      "cell_type": "code",
      "execution_count": 9,
      "metadata": {
        "colab": {
          "base_uri": "https://localhost:8080/"
        },
        "id": "uvm9v8B92CKb",
        "outputId": "351ac869-931d-4b0e-9d1a-dc3f5f09a293"
      },
      "outputs": [
        {
          "name": "stdout",
          "output_type": "stream",
          "text": [
            "Results summary\n",
            "Results in /content/HuubS_ML_Opdracht/template/models/galaxies\n",
            "Showing 10 best trials\n",
            "Objective(name='val_accuracy', direction='max')\n",
            "Trial summary\n",
            "Hyperparameters:\n",
            "l2: 0.002\n",
            "num_filters_1: 64\n",
            "num_kernels1: 5\n",
            "num_filters_2: 32\n",
            "num_kernels2: 7\n",
            "dropout_1: 0.4\n",
            "num_filters_3: 32\n",
            "num_kernels3: 7\n",
            "units_1: 96\n",
            "dense_activation: sigmoid\n",
            "dropout_2: 0.30000000000000004\n",
            "units_2: 48\n",
            "dropout_3: 0.15000000000000002\n",
            "learning_rate: 0.00024174309730405136\n",
            "tuner/epochs: 20\n",
            "tuner/initial_epoch: 7\n",
            "tuner/bracket: 2\n",
            "tuner/round: 2\n",
            "tuner/trial_id: 81937d7f1bc0c25c4180e254c26b91e3\n",
            "Score: 0.6619678735733032\n",
            "Trial summary\n",
            "Hyperparameters:\n",
            "l2: 0.004\n",
            "num_filters_1: 32\n",
            "num_kernels1: 7\n",
            "num_filters_2: 64\n",
            "num_kernels2: 5\n",
            "dropout_1: 0.05\n",
            "num_filters_3: 128\n",
            "num_kernels3: 5\n",
            "units_1: 160\n",
            "dense_activation: sigmoid\n",
            "dropout_2: 0.0\n",
            "units_2: 80\n",
            "dropout_3: 0.2\n",
            "learning_rate: 0.0002588664435216088\n",
            "tuner/epochs: 20\n",
            "tuner/initial_epoch: 0\n",
            "tuner/bracket: 0\n",
            "tuner/round: 0\n",
            "Score: 0.6405413150787354\n",
            "Trial summary\n",
            "Hyperparameters:\n",
            "l2: 0.001\n",
            "num_filters_1: 96\n",
            "num_kernels1: 3\n",
            "num_filters_2: 32\n",
            "num_kernels2: 3\n",
            "dropout_1: 0.5\n",
            "num_filters_3: 32\n",
            "num_kernels3: 7\n",
            "units_1: 224\n",
            "dense_activation: sigmoid\n",
            "dropout_2: 0.1\n",
            "units_2: 64\n",
            "dropout_3: 0.2\n",
            "learning_rate: 0.000191223759437469\n",
            "tuner/epochs: 20\n",
            "tuner/initial_epoch: 7\n",
            "tuner/bracket: 2\n",
            "tuner/round: 2\n",
            "tuner/trial_id: 3094f2f8bd060899432032c4dd6897f1\n",
            "Score: 0.6061460375785828\n",
            "Trial summary\n",
            "Hyperparameters:\n",
            "l2: 0.001\n",
            "num_filters_1: 96\n",
            "num_kernels1: 3\n",
            "num_filters_2: 96\n",
            "num_kernels2: 5\n",
            "dropout_1: 0.05\n",
            "num_filters_3: 32\n",
            "num_kernels3: 7\n",
            "units_1: 256\n",
            "dense_activation: relu\n",
            "dropout_2: 0.2\n",
            "units_2: 48\n",
            "dropout_3: 0.05\n",
            "learning_rate: 0.00022102350500721615\n",
            "tuner/epochs: 20\n",
            "tuner/initial_epoch: 7\n",
            "tuner/bracket: 1\n",
            "tuner/round: 1\n",
            "tuner/trial_id: 9bebf37e104916b3a4a6a3bbe51e91d4\n",
            "Score: 0.5934592485427856\n",
            "Trial summary\n",
            "Hyperparameters:\n",
            "l2: 0.001\n",
            "num_filters_1: 96\n",
            "num_kernels1: 3\n",
            "num_filters_2: 96\n",
            "num_kernels2: 5\n",
            "dropout_1: 0.05\n",
            "num_filters_3: 32\n",
            "num_kernels3: 7\n",
            "units_1: 256\n",
            "dense_activation: relu\n",
            "dropout_2: 0.2\n",
            "units_2: 48\n",
            "dropout_3: 0.05\n",
            "learning_rate: 0.00022102350500721615\n",
            "tuner/epochs: 7\n",
            "tuner/initial_epoch: 0\n",
            "tuner/bracket: 1\n",
            "tuner/round: 0\n",
            "Score: 0.5920495986938477\n",
            "Trial summary\n",
            "Hyperparameters:\n",
            "l2: 0.002\n",
            "num_filters_1: 64\n",
            "num_kernels1: 3\n",
            "num_filters_2: 128\n",
            "num_kernels2: 7\n",
            "dropout_1: 0.15000000000000002\n",
            "num_filters_3: 64\n",
            "num_kernels3: 3\n",
            "units_1: 224\n",
            "dense_activation: tanh\n",
            "dropout_2: 0.1\n",
            "units_2: 96\n",
            "dropout_3: 0.4\n",
            "learning_rate: 0.00012596741609878804\n",
            "tuner/epochs: 20\n",
            "tuner/initial_epoch: 0\n",
            "tuner/bracket: 0\n",
            "tuner/round: 0\n",
            "Score: 0.5802085995674133\n",
            "Trial summary\n",
            "Hyperparameters:\n",
            "l2: 0.002\n",
            "num_filters_1: 64\n",
            "num_kernels1: 5\n",
            "num_filters_2: 32\n",
            "num_kernels2: 7\n",
            "dropout_1: 0.4\n",
            "num_filters_3: 32\n",
            "num_kernels3: 7\n",
            "units_1: 96\n",
            "dense_activation: sigmoid\n",
            "dropout_2: 0.30000000000000004\n",
            "units_2: 48\n",
            "dropout_3: 0.15000000000000002\n",
            "learning_rate: 0.00024174309730405136\n",
            "tuner/epochs: 7\n",
            "tuner/initial_epoch: 3\n",
            "tuner/bracket: 2\n",
            "tuner/round: 1\n",
            "tuner/trial_id: 720361f235b2599db360622e7ce76fbc\n",
            "Score: 0.5269241333007812\n",
            "Trial summary\n",
            "Hyperparameters:\n",
            "l2: 0.001\n",
            "num_filters_1: 96\n",
            "num_kernels1: 3\n",
            "num_filters_2: 32\n",
            "num_kernels2: 3\n",
            "dropout_1: 0.5\n",
            "num_filters_3: 32\n",
            "num_kernels3: 7\n",
            "units_1: 224\n",
            "dense_activation: sigmoid\n",
            "dropout_2: 0.1\n",
            "units_2: 64\n",
            "dropout_3: 0.2\n",
            "learning_rate: 0.000191223759437469\n",
            "tuner/epochs: 7\n",
            "tuner/initial_epoch: 3\n",
            "tuner/bracket: 2\n",
            "tuner/round: 1\n",
            "tuner/trial_id: 4ea517a674b7dfe98bd3010d18fcd160\n",
            "Score: 0.5176205039024353\n",
            "Trial summary\n",
            "Hyperparameters:\n",
            "l2: 0.002\n",
            "num_filters_1: 96\n",
            "num_kernels1: 5\n",
            "num_filters_2: 32\n",
            "num_kernels2: 3\n",
            "dropout_1: 0.5\n",
            "num_filters_3: 96\n",
            "num_kernels3: 5\n",
            "units_1: 224\n",
            "dense_activation: relu\n",
            "dropout_2: 0.5\n",
            "units_2: 112\n",
            "dropout_3: 0.2\n",
            "learning_rate: 0.00012272497908151855\n",
            "tuner/epochs: 20\n",
            "tuner/initial_epoch: 7\n",
            "tuner/bracket: 1\n",
            "tuner/round: 1\n",
            "tuner/trial_id: a7827fd23e1e06e0b5009f99afbabc20\n",
            "Score: 0.4866084158420563\n",
            "Trial summary\n",
            "Hyperparameters:\n",
            "l2: 0.005\n",
            "num_filters_1: 128\n",
            "num_kernels1: 5\n",
            "num_filters_2: 64\n",
            "num_kernels2: 3\n",
            "dropout_1: 0.30000000000000004\n",
            "num_filters_3: 32\n",
            "num_kernels3: 3\n",
            "units_1: 256\n",
            "dense_activation: sigmoid\n",
            "dropout_2: 0.15000000000000002\n",
            "units_2: 64\n",
            "dropout_3: 0.4\n",
            "learning_rate: 0.0006071044349038084\n",
            "tuner/epochs: 7\n",
            "tuner/initial_epoch: 3\n",
            "tuner/bracket: 2\n",
            "tuner/round: 1\n",
            "tuner/trial_id: 4496598a8117130551863869220ba1bf\n",
            "Score: 0.4818156063556671\n"
          ]
        }
      ],
      "source": [
        "# Show a summary of the search\n",
        "tuner.results_summary()"
      ]
    },
    {
      "cell_type": "markdown",
      "metadata": {
        "id": "RfHzVURc2CKb"
      },
      "source": [
        "Ik zoek nu de beste hyperparameters."
      ]
    },
    {
      "cell_type": "code",
      "execution_count": 10,
      "metadata": {
        "id": "G-xBrpyx2CKb"
      },
      "outputs": [],
      "source": [
        "best_hps=tuner.get_best_hyperparameters()[0] # beste instellingen"
      ]
    },
    {
      "cell_type": "markdown",
      "metadata": {
        "id": "NcJaE9LW2CKb"
      },
      "source": [
        "### Model met beste parameters\n",
        "### <font color='red'>Let op! Duurt weer erg lang op CPU!</font>\n",
        "\n",
        "Ik bouw nu een model met de best gevonden parameters, en train dat voor 20 epochs."
      ]
    },
    {
      "cell_type": "code",
      "execution_count": 11,
      "metadata": {
        "colab": {
          "base_uri": "https://localhost:8080/"
        },
        "id": "hDXtcU5C2CKc",
        "outputId": "a56235c2-0390-4905-e2f0-e791eaedf27b"
      },
      "outputs": [
        {
          "name": "stdout",
          "output_type": "stream",
          "text": [
            "Epoch 1/20\n",
            "333/333 [==============================] - 11s 31ms/step - loss: 2.7351 - accuracy: 0.2783 - val_loss: 2.3664 - val_accuracy: 0.3437\n",
            "Epoch 2/20\n",
            "333/333 [==============================] - 10s 30ms/step - loss: 2.2125 - accuracy: 0.4017 - val_loss: 2.0265 - val_accuracy: 0.4432\n",
            "Epoch 3/20\n",
            "333/333 [==============================] - 10s 30ms/step - loss: 2.0097 - accuracy: 0.4436 - val_loss: 1.9316 - val_accuracy: 0.4429\n",
            "Epoch 4/20\n",
            "333/333 [==============================] - 10s 30ms/step - loss: 1.8846 - accuracy: 0.4781 - val_loss: 1.8095 - val_accuracy: 0.5075\n",
            "Epoch 5/20\n",
            "333/333 [==============================] - 10s 30ms/step - loss: 1.7751 - accuracy: 0.5236 - val_loss: 1.7507 - val_accuracy: 0.5393\n",
            "Epoch 6/20\n",
            "333/333 [==============================] - 10s 30ms/step - loss: 1.6991 - accuracy: 0.5566 - val_loss: 1.9918 - val_accuracy: 0.4009\n",
            "Epoch 7/20\n",
            "333/333 [==============================] - 10s 30ms/step - loss: 1.6351 - accuracy: 0.5734 - val_loss: 1.5539 - val_accuracy: 0.6112\n",
            "Epoch 8/20\n",
            "333/333 [==============================] - 10s 30ms/step - loss: 1.5846 - accuracy: 0.5929 - val_loss: 1.5078 - val_accuracy: 0.6217\n",
            "Epoch 9/20\n",
            "333/333 [==============================] - 10s 30ms/step - loss: 1.5431 - accuracy: 0.6137 - val_loss: 1.6752 - val_accuracy: 0.5348\n",
            "Epoch 10/20\n",
            "333/333 [==============================] - 10s 30ms/step - loss: 1.4932 - accuracy: 0.6282 - val_loss: 1.4951 - val_accuracy: 0.6197\n",
            "Epoch 11/20\n",
            "333/333 [==============================] - 10s 30ms/step - loss: 1.4573 - accuracy: 0.6408 - val_loss: 1.4394 - val_accuracy: 0.6420\n",
            "Epoch 12/20\n",
            "333/333 [==============================] - 10s 30ms/step - loss: 1.4276 - accuracy: 0.6526 - val_loss: 1.5178 - val_accuracy: 0.6092\n",
            "Epoch 13/20\n",
            "333/333 [==============================] - 10s 30ms/step - loss: 1.3853 - accuracy: 0.6680 - val_loss: 1.3967 - val_accuracy: 0.6566\n",
            "Epoch 14/20\n",
            "333/333 [==============================] - 10s 30ms/step - loss: 1.3651 - accuracy: 0.6732 - val_loss: 1.3670 - val_accuracy: 0.6656\n",
            "Epoch 15/20\n",
            "333/333 [==============================] - 10s 30ms/step - loss: 1.3462 - accuracy: 0.6777 - val_loss: 1.3839 - val_accuracy: 0.6524\n",
            "Epoch 16/20\n",
            "333/333 [==============================] - 10s 30ms/step - loss: 1.3111 - accuracy: 0.6963 - val_loss: 1.3536 - val_accuracy: 0.6744\n",
            "Epoch 17/20\n",
            "333/333 [==============================] - 10s 30ms/step - loss: 1.2942 - accuracy: 0.7016 - val_loss: 1.4823 - val_accuracy: 0.6262\n",
            "Epoch 18/20\n",
            "333/333 [==============================] - 10s 30ms/step - loss: 1.2748 - accuracy: 0.7049 - val_loss: 1.4571 - val_accuracy: 0.6324\n",
            "Epoch 19/20\n",
            "333/333 [==============================] - 10s 30ms/step - loss: 1.2438 - accuracy: 0.7215 - val_loss: 1.3386 - val_accuracy: 0.6735\n",
            "Epoch 20/20\n",
            "333/333 [==============================] - 10s 30ms/step - loss: 1.2171 - accuracy: 0.7298 - val_loss: 1.3940 - val_accuracy: 0.6527\n",
            "Best epoch: 19\n"
          ]
        }
      ],
      "source": [
        "# Build the model with the optimal hyperparameters and train it on the data for 50 epochs\n",
        "model = tuner.hypermodel.build(best_hps)\n",
        "history = model.fit(X_train, y_train, epochs=20,validation_data=(X_valid, \n",
        "y_valid))\n",
        "\n",
        "val_loss_per_epoch = history.history['val_loss']\n",
        "best_epoch = val_loss_per_epoch.index(min(val_loss_per_epoch)) + 1\n",
        "print('Best epoch: %d' % (best_epoch,))\n",
        "\n",
        "# Retrieve the best model.\n",
        "best_model = tuner.get_best_models(num_models=1)[0]"
      ]
    },
    {
      "cell_type": "markdown",
      "metadata": {
        "id": "nucx19Qh2CKc"
      },
      "source": [
        "### Het moment van de waarheid\n",
        "Nu laat ik dit beste model los op de testset. Voor het model is dit dus data die het nog nooit heeft gezien."
      ]
    },
    {
      "cell_type": "code",
      "execution_count": 12,
      "metadata": {
        "colab": {
          "base_uri": "https://localhost:8080/"
        },
        "id": "0lWE53CK2CKc",
        "outputId": "bf8f5cb5-26d0-4cbc-a0bf-f651b2e82971"
      },
      "outputs": [
        {
          "name": "stdout",
          "output_type": "stream",
          "text": [
            "111/111 [==============================] - 2s 12ms/step - loss: 1.4006 - accuracy: 0.6497\n"
          ]
        }
      ],
      "source": [
        "# Evaluate the best model.\n",
        "loss, accuracy = best_model.evaluate(X_test, y_test)"
      ]
    },
    {
      "cell_type": "markdown",
      "metadata": {
        "id": "BvOIglWO2CKc"
      },
      "source": [
        "### Observatie:\n",
        "De accuracy ligt dicht bij de validation set, wat voor mij betekent dat het model goed generaliseert. Ik visualiseer het verloop van het leren van het model."
      ]
    },
    {
      "cell_type": "code",
      "execution_count": 13,
      "metadata": {
        "colab": {
          "base_uri": "https://localhost:8080/",
          "height": 870
        },
        "id": "KUD5gNEY2CKc",
        "outputId": "0fcae1e7-7fbd-480d-a473-e48bc384ffe8"
      },
      "outputs": [
        {
          "data": {
            "image/png": "[encoded data removed]",
            "text/plain": [
              "<Figure size 1080x1080 with 1 Axes>"
            ]
          },
          "metadata": {},
          "output_type": "display_data"
        }
      ],
      "source": [
        "pd.DataFrame(history.history).plot(figsize=(15, 15))\n",
        "plt.grid(True)\n",
        "plt.gca().set_ylim(0, 2) # set the vertical range to [0-2]\n",
        "plt.show()"
      ]
    },
    {
      "cell_type": "markdown",
      "metadata": {
        "id": "C9aRM1MR2CKd"
      },
      "source": [
        "Je ziet hier dat de accuracy en loss lijnen elkaar best netjes volgen tot aan epoch 15, hierna beginnen ze uit elkaar te lopen."
      ]
    },
    {
      "cell_type": "markdown",
      "metadata": {
        "id": "FZiTo00s2CKd"
      },
      "source": [
        "### Classificeren op de testset\n",
        "Dan ga ik nu kijken hoe goed het model het doet per klasse. Dit is waar het uiteindelijk om gaat. Mijn verwachting is dat dit CNN model beter presteert dan het RandomForest, <br>\n",
        "maar dat de twee 'probleem' klasses het nog steeds niet goed zullen doen."
      ]
    },
    {
      "cell_type": "code",
      "execution_count": 14,
      "metadata": {
        "id": "lzaMeWb72CKd"
      },
      "outputs": [],
      "source": [
        "predict = best_model.predict(X_test).argmax(axis=1)"
      ]
    },
    {
      "cell_type": "code",
      "execution_count": 15,
      "metadata": {
        "colab": {
          "base_uri": "https://localhost:8080/"
        },
        "id": "0ZJ46p282CKd",
        "outputId": "0e974134-7eaa-48a1-8c33-a21a24bd8408"
      },
      "outputs": [
        {
          "name": "stdout",
          "output_type": "stream",
          "text": [
            "              precision    recall  f1-score   support\n",
            "\n",
            "           0       0.55      0.67      0.60       393\n",
            "           1       0.00      0.00      0.00        68\n",
            "           2       0.56      0.05      0.08       218\n",
            "           3       0.78      0.81      0.79       378\n",
            "           4       0.74      0.88      0.80       279\n",
            "           5       0.66      0.57      0.61       380\n",
            "           6       0.81      0.89      0.85       563\n",
            "           7       0.61      0.87      0.72       399\n",
            "           8       0.47      0.38      0.42       516\n",
            "           9       0.55      0.62      0.58       354\n",
            "\n",
            "    accuracy                           0.65      3548\n",
            "   macro avg       0.57      0.57      0.55      3548\n",
            "weighted avg       0.63      0.65      0.62      3548\n",
            "\n"
          ]
        },
        {
          "name": "stderr",
          "output_type": "stream",
          "text": [
            "/usr/local/lib/python3.7/dist-packages/sklearn/metrics/_classification.py:1318: UndefinedMetricWarning: Precision and F-score are ill-defined and being set to 0.0 in labels with no predicted samples. Use `zero_division` parameter to control this behavior.\n",
            "  _warn_prf(average, modifier, msg_start, len(result))\n",
            "/usr/local/lib/python3.7/dist-packages/sklearn/metrics/_classification.py:1318: UndefinedMetricWarning: Precision and F-score are ill-defined and being set to 0.0 in labels with no predicted samples. Use `zero_division` parameter to control this behavior.\n",
            "  _warn_prf(average, modifier, msg_start, len(result))\n",
            "/usr/local/lib/python3.7/dist-packages/sklearn/metrics/_classification.py:1318: UndefinedMetricWarning: Precision and F-score are ill-defined and being set to 0.0 in labels with no predicted samples. Use `zero_division` parameter to control this behavior.\n",
            "  _warn_prf(average, modifier, msg_start, len(result))\n"
          ]
        }
      ],
      "source": [
        "print(classification_report(y_test, predict))"
      ]
    },
    {
      "cell_type": "code",
      "execution_count": 16,
      "metadata": {
        "colab": {
          "base_uri": "https://localhost:8080/",
          "height": 724
        },
        "id": "EjTdpLgY2CKd",
        "outputId": "254aee8a-b9f7-4e39-8984-140854ccb3e0"
      },
      "outputs": [
        {
          "data": {
            "image/png": "[encoded data removed]",
            "text/plain": [
              "<Figure size 864x864 with 2 Axes>"
            ]
          },
          "metadata": {},
          "output_type": "display_data"
        }
      ],
      "source": [
        "cfm = confusion_matrix(y_test, predict)\n",
        "cfm_heatmap(cfm, figsize=(12,12), scale='rowwise', vmax= 0.8)"
      ]
    },
    {
      "cell_type": "markdown",
      "metadata": {
        "id": "fb_5pMUY2CKd"
      },
      "source": [
        "### Observatie\n",
        "Sommige klasses scoren boven de 80%, wat inderdaad beter is dan het Randomforest. Maar deze scores zijn op de testset, dus het model presteert echt een stuk beter dan Randomforest.\n",
        "De 'Disturbed' en 'Cigar Shaped Smooth' klassen presteren nog steeds slecht / het slechtst, zoals ik verwacht had. Maar dit is wel heel slecht! Het tunen laat deze klassen blijkbaar zoveel mogelijk buiten beschouwing om zo beter te presteren op de overige klassen.\n",
        "\n",
        "Overall is de performance nog steeds niet heel erg goed. Maar niet iedere dataset levert scores boven de 90% op!"
      ]
    },
    {
      "cell_type": "markdown",
      "metadata": {
        "id": "gTHUUUsf2CKd"
      },
      "source": [
        "# Eindconclusies\n",
        "\n",
        "De meeste van mijn hypotheses zijn volgens mij bevestigt. Dit is een uitdagende dataset waardoor het lastig is om hele hoge scores neer te zetten.\n",
        "Ik zie dat een CNN inderdaad de beste uitkomsten oplevert, dit is ook de meest logische keuze voor image classification.\n",
        "De 'Cigar Shaped Smooth' en de 'Disturbed' klasse zijn echt een probleem, en dat ligt waarschijnlijk aan de data/labeling. \n",
        "\n",
        "Ik vond dit een hele leuke opdracht en ik heb het gevoel dat ik de afgelopen weken veel heb geleerd.\n",
        "Python is nog een hele uitdaging voor mij en daardoor kostte deze opdracht mij ontzettend veel tijd. Veel errors in het begin, maar uiteindelijk werkt alles.\n",
        "\n",
        "Belangrijkste lessen, zeker voor de neurale netwerken, is: 'no free lunch' en als de data niet van hoge kwaliteit is, geeft een model ook geen hoge scores.\n",
        "Er bestaat geen ultiem model dat voor alle datasets het beste werkt. Het is ook niet zo dat je alle opties in een model kan stoppen, hypertuning aan kunt zetten, \n",
        "en dat er dan supergoede scores uitkomen.\n",
        "\n",
        "Data augmenation, dropout, BatchNormalization etc. toevoegen levert geen grote, maar eerder subtiele verschillen op in de uitkomsten.\n",
        "Ik heb zelfs een pre-trained Resnet met 34 lagen geprobeerd, dat leverde geen grote verschillen op met het model dat ik uiteindelijk gebruikt.\n",
        "\n",
        "Raoul zei al tijdens de lessen dat het ook vaak een kwestie van ervaring is, waarmee je een gevoel voor de data leert ontwikkelen. Hier ben ik het na deze opdracht mee eens.\n",
        "Ik heb het gevoel dat ik nu echt pas aan het begin sta wat betreft Machine Learning, maar ik kijk er erg naar uit om hier mee verder te gaan.\n",
        "\n",
        "Huub Schonenberg (Lenkus1 op Github)\n",
        "13-02-2022\n"
      ]
    }
  ],
  "metadata": {
    "accelerator": "GPU",
    "colab": {
      "name": "3_CNN def.ipynb",
      "provenance": []
    },
    "interpreter": {
      "hash": "d031ad01bed61ded824456c2d8715b797c0f37e7c3a3e3c3c540f3dac9fb955e"
    },
    "kernelspec": {
      "display_name": "Python 3.8.1 64-bit ('hu-deeplearning-lSm0EZYV-py3.8': venv)",
      "language": "python",
      "name": "python3"
    },
    "language_info": {
      "codemirror_mode": {
        "name": "ipython",
        "version": 3
      },
      "file_extension": ".py",
      "mimetype": "text/x-python",
      "name": "python",
      "nbconvert_exporter": "python",
      "pygments_lexer": "ipython3",
      "version": "3.8.1"
    },
    "orig_nbformat": 4
  },
  "nbformat": 4,
  "nbformat_minor": 0
}
