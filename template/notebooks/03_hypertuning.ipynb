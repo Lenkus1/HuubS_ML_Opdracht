{
 "cells": [
  {
   "cell_type": "code",
   "execution_count": 1,
   "metadata": {},
   "outputs": [],
   "source": [
    "try:\n",
    "    # %tensorflow_version only exists in Colab.\n",
    "    %tensorflow_version 2.x\n",
    "    IS_COLAB = True\n",
    "except Exception:\n",
    "    IS_COLAB = False\n",
    "\n",
    "if IS_COLAB:\n",
    "    %pip install -q \"ray[tune]\" \n",
    "    %pip install -U hyperopt"
   ]
  },
  {
   "cell_type": "code",
   "execution_count": 2,
   "metadata": {},
   "outputs": [],
   "source": [
    "import urllib\n",
    "import tensorflow as tf\n",
    "from pathlib import Path\n",
    "from filelock import FileLock"
   ]
  },
  {
   "cell_type": "code",
   "execution_count": 3,
   "metadata": {},
   "outputs": [],
   "source": [
    "datadir = Path(\"./data/raw\")\n",
    "if not datadir.exists():\n",
    "    datadir.mkdir(parents=True)"
   ]
  },
  {
   "cell_type": "code",
   "execution_count": 4,
   "metadata": {},
   "outputs": [
    {
     "name": "stdout",
     "output_type": "stream",
     "text": [
      "Downloading data from http://download.tensorflow.org/example_images/flower_photos.tgz\n",
      "228818944/228813984 [==============================] - 39s 0us/step\n",
      "228827136/228813984 [==============================] - 39s 0us/step\n"
     ]
    }
   ],
   "source": [
    "DOWNLOAD_URL = 'http://download.tensorflow.org/example_images/flower_photos.tgz'\n",
    "flowers_dir = tf.keras.utils.get_file(origin=DOWNLOAD_URL,\n",
    "                                   fname='flower_photos',\n",
    "                                   cache_dir=datadir,\n",
    "                                   untar=True)"
   ]
  },
  {
   "cell_type": "code",
   "execution_count": 5,
   "metadata": {},
   "outputs": [
    {
     "data": {
      "text/plain": [
       "'data/raw/datasets/flower_photos'"
      ]
     },
     "execution_count": 5,
     "metadata": {},
     "output_type": "execute_result"
    }
   ],
   "source": [
    "flowers_dir"
   ]
  },
  {
   "cell_type": "code",
   "execution_count": 6,
   "metadata": {},
   "outputs": [],
   "source": [
    "targetsize = (150, 150)"
   ]
  },
  {
   "cell_type": "code",
   "execution_count": 7,
   "metadata": {},
   "outputs": [
    {
     "name": "stdout",
     "output_type": "stream",
     "text": [
      "Found 3670 files belonging to 5 classes.\n",
      "Using 2936 files for training.\n"
     ]
    },
    {
     "name": "stderr",
     "output_type": "stream",
     "text": [
      "2021-12-20 22:03:32.701521: I tensorflow/core/platform/cpu_feature_guard.cc:151] This TensorFlow binary is optimized with oneAPI Deep Neural Network Library (oneDNN) to use the following CPU instructions in performance-critical operations:  AVX2 FMA\n",
      "To enable them in other operations, rebuild TensorFlow with the appropriate compiler flags.\n"
     ]
    }
   ],
   "source": [
    "train_ds = tf.keras.utils.image_dataset_from_directory(\n",
    "  flowers_dir,\n",
    "  validation_split=0.2,\n",
    "  subset=\"training\",\n",
    "  seed=123,\n",
    "  image_size=targetsize,\n",
    "  batch_size=32)"
   ]
  },
  {
   "cell_type": "code",
   "execution_count": 8,
   "metadata": {},
   "outputs": [],
   "source": [
    "X, y = next(iter(train_ds))"
   ]
  },
  {
   "cell_type": "code",
   "execution_count": 9,
   "metadata": {},
   "outputs": [
    {
     "data": {
      "text/plain": [
       "PosixPath('data/raw')"
      ]
     },
     "execution_count": 9,
     "metadata": {},
     "output_type": "execute_result"
    }
   ],
   "source": [
    "datadir"
   ]
  },
  {
   "cell_type": "code",
   "execution_count": 10,
   "metadata": {},
   "outputs": [
    {
     "data": {
      "text/plain": [
       "(TensorShape([32, 150, 150, 3]), TensorShape([32]))"
      ]
     },
     "execution_count": 10,
     "metadata": {},
     "output_type": "execute_result"
    }
   ],
   "source": [
    "X.shape, y.shape"
   ]
  },
  {
   "cell_type": "code",
   "execution_count": 11,
   "metadata": {},
   "outputs": [
    {
     "data": {
      "text/plain": [
       "<tf.Tensor: shape=(32,), dtype=int32, numpy=\n",
       "array([2, 1, 4, 3, 1, 2, 1, 2, 4, 1, 4, 4, 3, 4, 1, 2, 0, 4, 1, 1, 1, 4,\n",
       "       3, 2, 3, 1, 4, 2, 2, 3, 4, 3], dtype=int32)>"
      ]
     },
     "execution_count": 11,
     "metadata": {},
     "output_type": "execute_result"
    }
   ],
   "source": [
    "y"
   ]
  },
  {
   "cell_type": "code",
   "execution_count": 12,
   "metadata": {},
   "outputs": [],
   "source": [
    "def create_model(config):\n",
    "    import tensorflow as tf\n",
    "    model = tf.keras.models.Sequential()\n",
    "    for _ in range(config[\"conv\"]):\n",
    "        model.add(tf.keras.layers.Conv2D(16, 3, activation=\"relu\"))\n",
    "        model.add(tf.keras.layers.MaxPool2D((2,2)))\n",
    "    model.add(tf.keras.layers.Flatten())\n",
    "    for _ in range(config[\"hidden\"]):\n",
    "        model.add(tf.keras.layers.Dense(128, activation=\"relu\"))\n",
    "    model.add(tf.keras.layers.Dense(10, activation=\"softmax\"))\n",
    "    model.compile(\n",
    "        optimizer=\"adam\", \n",
    "        loss='sparse_categorical_crossentropy', metrics=['accuracy'])\n",
    "    return model"
   ]
  },
  {
   "cell_type": "code",
   "execution_count": 13,
   "metadata": {},
   "outputs": [],
   "source": [
    "def train_on_flowers(config):\n",
    "    lock = str(config[\"datadir\"]) + \".lock\"\n",
    "    with FileLock(lock):\n",
    "        train = tf.keras.utils.image_dataset_from_directory(\n",
    "                    config[\"datadir\"],\n",
    "                    validation_split=0.2,\n",
    "                    subset=\"training\",\n",
    "                    seed=123,\n",
    "                    image_size=(150, 150),\n",
    "                    batch_size=32)\n",
    "        valid = tf.keras.utils.image_dataset_from_directory(\n",
    "                    config[\"datadir\"],\n",
    "                    validation_split=0.2,\n",
    "                    subset=\"validation\",\n",
    "                    seed=123,\n",
    "                    image_size=(150, 150),\n",
    "                    batch_size=32)\n",
    "\n",
    "    model = create_model(config)\n",
    "\n",
    "    model.fit(train, \n",
    "    validation_data=valid, \n",
    "    verbose=1, epochs=config[\"epochs\"])\n",
    "    "
   ]
  },
  {
   "cell_type": "code",
   "execution_count": 14,
   "metadata": {},
   "outputs": [
    {
     "data": {
      "text/plain": [
       "PosixPath('/Users/rgrouls/Documents/academy/HU/ml-21/5-vision/notebooks/data/raw/datasets/flower_photos')"
      ]
     },
     "execution_count": 14,
     "metadata": {},
     "output_type": "execute_result"
    }
   ],
   "source": [
    "Path(flowers_dir).absolute()"
   ]
  },
  {
   "cell_type": "code",
   "execution_count": 15,
   "metadata": {},
   "outputs": [],
   "source": [
    "config = { \n",
    "    \"conv\" : 2,\n",
    "    \"hidden\" : 2,\n",
    "    \"epochs\" : 2,\n",
    "    \"datadir\" : Path(flowers_dir).absolute()\n",
    "}"
   ]
  },
  {
   "cell_type": "code",
   "execution_count": null,
   "metadata": {},
   "outputs": [],
   "source": [
    "train_on_flowers(config)"
   ]
  },
  {
   "cell_type": "code",
   "execution_count": 17,
   "metadata": {},
   "outputs": [],
   "source": [
    "import tensorflow.keras as keras\n",
    "from ray import tune\n",
    "\n",
    "class TuneReporterCallback(keras.callbacks.Callback):\n",
    "    \"\"\"Tune Callback for Keras.\n",
    "    \n",
    "    The callback is invoked every epoch.\n",
    "    \"\"\"\n",
    "\n",
    "    def __init__(self, logs={}):\n",
    "        self.iteration = 0\n",
    "        super(TuneReporterCallback, self).__init__()\n",
    "\n",
    "    def on_epoch_end(self, batch, logs={}):\n",
    "        self.iteration += 1\n",
    "        tune.report(keras_info=logs, mean_accuracy=logs.get(\"accuracy\"), mean_loss=logs.get(\"loss\"),\n",
    "         val_loss=logs.get(\"val_loss\"))"
   ]
  },
  {
   "cell_type": "code",
   "execution_count": 18,
   "metadata": {},
   "outputs": [],
   "source": [
    "def train_on_flowers(config):\n",
    "    lock = str(config[\"datadir\"]) + \".lock\"\n",
    "    with FileLock(lock):\n",
    "        train = tf.keras.utils.image_dataset_from_directory(\n",
    "                    config[\"datadir\"],\n",
    "                    validation_split=0.2,\n",
    "                    subset=\"training\",\n",
    "                    seed=123,\n",
    "                    image_size=(150, 150),\n",
    "                    batch_size=32)\n",
    "        valid = tf.keras.utils.image_dataset_from_directory(\n",
    "                    config[\"datadir\"],\n",
    "                    validation_split=0.2,\n",
    "                    subset=\"validation\",\n",
    "                    seed=123,\n",
    "                    image_size=(150, 150),\n",
    "                    batch_size=32)\n",
    "        AUTOTUNE = tf.data.AUTOTUNE\n",
    "\n",
    "        train = train.cache().prefetch(buffer_size=AUTOTUNE)\n",
    "        valid = valid.cache().prefetch(buffer_size=AUTOTUNE)\n",
    "\n",
    "    callbacks = [TuneReporterCallback()]\n",
    "    model = create_model(config)\n",
    "\n",
    "    model.fit(train, \n",
    "    validation_data=valid, \n",
    "    callbacks=callbacks,\n",
    "    verbose=1, epochs=config[\"epochs\"])"
   ]
  },
  {
   "cell_type": "code",
   "execution_count": 20,
   "metadata": {},
   "outputs": [],
   "source": [
    "config = { \n",
    "    \"conv\" : tune.randint(1, 4),\n",
    "    \"hidden\" : tune.randint(1, 4),\n",
    "    \"epochs\" : 2,\n",
    "    \"datadir\" : Path(flowers_dir).absolute()\n",
    "}"
   ]
  },
  {
   "cell_type": "code",
   "execution_count": 22,
   "metadata": {},
   "outputs": [
    {
     "data": {
      "text/html": [
       "== Status ==<br>Current time: 2021-12-20 22:05:13 (running for 00:00:42.65)<br>Memory usage on this node: 10.2/16.0 GiB<br>Using FIFO scheduling algorithm.<br>Resources requested: 1.0/8 CPUs, 0/0 GPUs, 0.0/4.28 GiB heap, 0.0/2.14 GiB objects<br>Result logdir: /Users/rgrouls/Documents/academy/HU/ml-21/5-vision/notebooks/logs/train_on_flowers_2021-12-20_22-04-31<br>Number of trials: 2/2 (1 ERROR, 1 RUNNING)<br><table>\n",
       "<thead>\n",
       "<tr><th>Trial name               </th><th>status  </th><th>loc            </th><th style=\"text-align: right;\">  conv</th><th>datadir                                                                                     </th><th style=\"text-align: right;\">  epochs</th><th style=\"text-align: right;\">  hidden</th><th style=\"text-align: right;\">     acc</th><th style=\"text-align: right;\">   loss</th><th style=\"text-align: right;\">  iter</th><th style=\"text-align: right;\">  total time (s)</th><th style=\"text-align: right;\">  val_loss</th><th style=\"text-align: right;\">  neg_mean_loss</th></tr>\n",
       "</thead>\n",
       "<tbody>\n",
       "<tr><td>train_on_flowers_6d17bfac</td><td>RUNNING </td><td>127.0.0.1:75095</td><td style=\"text-align: right;\">     2</td><td>/Users/rgrouls/Documents/academy/HU/ml-21/5-vision/notebooks/data/raw/datasets/flower_photos</td><td style=\"text-align: right;\">       2</td><td style=\"text-align: right;\">       1</td><td style=\"text-align: right;\">0.270436</td><td style=\"text-align: right;\">42.3013</td><td style=\"text-align: right;\">     1</td><td style=\"text-align: right;\">         24.9523</td><td style=\"text-align: right;\">   2.27351</td><td style=\"text-align: right;\">       -42.3013</td></tr>\n",
       "<tr><td>train_on_flowers_6fef975e</td><td>ERROR   </td><td>127.0.0.1:75090</td><td style=\"text-align: right;\">     3</td><td>/Users/rgrouls/Documents/academy/HU/ml-21/5-vision/notebooks/data/raw/datasets/flower_photos</td><td style=\"text-align: right;\">       2</td><td style=\"text-align: right;\">       3</td><td style=\"text-align: right;\">        </td><td style=\"text-align: right;\">       </td><td style=\"text-align: right;\">      </td><td style=\"text-align: right;\">                </td><td style=\"text-align: right;\">          </td><td style=\"text-align: right;\">               </td></tr>\n",
       "</tbody>\n",
       "</table><br>Number of errored trials: 1<br><table>\n",
       "<thead>\n",
       "<tr><th>Trial name               </th><th style=\"text-align: right;\">  # failures</th><th>error file                                                                                                                                                                                                                                                             </th></tr>\n",
       "</thead>\n",
       "<tbody>\n",
       "<tr><td>train_on_flowers_6fef975e</td><td style=\"text-align: right;\">           1</td><td>/Users/rgrouls/Documents/academy/HU/ml-21/5-vision/notebooks/logs/train_on_flowers_2021-12-20_22-04-31/train_on_flowers_6fef975e_2_conv=3,datadir=_Users_rgrouls_Documents_academy_HU_ml-21_5-vision_notebooks_data_raw_datasets_flower_p_2021-12-20_22-04-36/error.txt</td></tr>\n",
       "</tbody>\n",
       "</table><br>"
      ],
      "text/plain": [
       "<IPython.core.display.HTML object>"
      ]
     },
     "metadata": {},
     "output_type": "display_data"
    },
    {
     "name": "stderr",
     "output_type": "stream",
     "text": [
      "\u001b[2m\u001b[36m(ImplicitFunc pid=75095)\u001b[0m Traceback (most recent call last):\n",
      "\u001b[2m\u001b[36m(ImplicitFunc pid=75095)\u001b[0m   File \"/Users/rgrouls/.pyenv/versions/3.8.12/lib/python3.8/threading.py\", line 306, in wait\n",
      "\u001b[2m\u001b[36m(ImplicitFunc pid=75095)\u001b[0m     gotit = waiter.acquire(True, timeout)\n",
      "\u001b[2m\u001b[36m(ImplicitFunc pid=75095)\u001b[0m KeyboardInterrupt\n",
      "\u001b[2m\u001b[36m(ImplicitFunc pid=75095)\u001b[0m \n",
      "\u001b[2m\u001b[36m(ImplicitFunc pid=75095)\u001b[0m During handling of the above exception, another exception occurred:\n",
      "\u001b[2m\u001b[36m(ImplicitFunc pid=75095)\u001b[0m \n",
      "\u001b[2m\u001b[36m(ImplicitFunc pid=75095)\u001b[0m Traceback (most recent call last):\n",
      "\u001b[2m\u001b[36m(ImplicitFunc pid=75095)\u001b[0m   File \"/Users/rgrouls/.pyenv/versions/3.8.12/lib/python3.8/queue.py\", line 179, in get\n",
      "\u001b[2m\u001b[36m(ImplicitFunc pid=75095)\u001b[0m     self.not_empty.wait(remaining)\n",
      "\u001b[2m\u001b[36m(ImplicitFunc pid=75095)\u001b[0m   File \"/Users/rgrouls/.pyenv/versions/3.8.12/lib/python3.8/threading.py\", line 306, in wait\n",
      "\u001b[2m\u001b[36m(ImplicitFunc pid=75095)\u001b[0m     gotit = waiter.acquire(True, timeout)\n",
      "\u001b[2m\u001b[36m(ImplicitFunc pid=75095)\u001b[0m   File \"/Users/rgrouls/Library/Caches/pypoetry/virtualenvs/hu-deeplearning-R-urKDRm-py3.8/lib/python3.8/site-packages/ray/worker.py\", line 428, in sigterm_handler\n",
      "\u001b[2m\u001b[36m(ImplicitFunc pid=75095)\u001b[0m     sys.exit(1)\n",
      "\u001b[2m\u001b[36m(ImplicitFunc pid=75095)\u001b[0m SystemExit: 1\n",
      "\u001b[2m\u001b[36m(ImplicitFunc pid=75095)\u001b[0m \n",
      "\u001b[2m\u001b[36m(ImplicitFunc pid=75095)\u001b[0m During handling of the above exception, another exception occurred:\n",
      "\u001b[2m\u001b[36m(ImplicitFunc pid=75095)\u001b[0m \n",
      "\u001b[2m\u001b[36m(ImplicitFunc pid=75095)\u001b[0m Traceback (most recent call last):\n",
      "\u001b[2m\u001b[36m(ImplicitFunc pid=75095)\u001b[0m   File \"python/ray/_raylet.pyx\", line 618, in ray._raylet.execute_task\n",
      "\u001b[2m\u001b[36m(ImplicitFunc pid=75095)\u001b[0m   File \"python/ray/_raylet.pyx\", line 659, in ray._raylet.execute_task\n",
      "\u001b[2m\u001b[36m(ImplicitFunc pid=75095)\u001b[0m   File \"python/ray/_raylet.pyx\", line 625, in ray._raylet.execute_task\n",
      "\u001b[2m\u001b[36m(ImplicitFunc pid=75095)\u001b[0m   File \"python/ray/_raylet.pyx\", line 629, in ray._raylet.execute_task\n",
      "\u001b[2m\u001b[36m(ImplicitFunc pid=75095)\u001b[0m   File \"python/ray/_raylet.pyx\", line 578, in ray._raylet.execute_task.function_executor\n",
      "\u001b[2m\u001b[36m(ImplicitFunc pid=75095)\u001b[0m   File \"/Users/rgrouls/Library/Caches/pypoetry/virtualenvs/hu-deeplearning-R-urKDRm-py3.8/lib/python3.8/site-packages/ray/_private/function_manager.py\", line 609, in actor_method_executor\n",
      "\u001b[2m\u001b[36m(ImplicitFunc pid=75095)\u001b[0m     return method(__ray_actor, *args, **kwargs)\n",
      "\u001b[2m\u001b[36m(ImplicitFunc pid=75095)\u001b[0m   File \"/Users/rgrouls/Library/Caches/pypoetry/virtualenvs/hu-deeplearning-R-urKDRm-py3.8/lib/python3.8/site-packages/ray/util/tracing/tracing_helper.py\", line 451, in _resume_span\n",
      "\u001b[2m\u001b[36m(ImplicitFunc pid=75095)\u001b[0m     return method(self, *_args, **_kwargs)\n",
      "\u001b[2m\u001b[36m(ImplicitFunc pid=75095)\u001b[0m   File \"/Users/rgrouls/Library/Caches/pypoetry/virtualenvs/hu-deeplearning-R-urKDRm-py3.8/lib/python3.8/site-packages/ray/tune/trainable.py\", line 255, in train_buffered\n",
      "\u001b[2m\u001b[36m(ImplicitFunc pid=75095)\u001b[0m     result = self.train()\n",
      "\u001b[2m\u001b[36m(ImplicitFunc pid=75095)\u001b[0m   File \"/Users/rgrouls/Library/Caches/pypoetry/virtualenvs/hu-deeplearning-R-urKDRm-py3.8/lib/python3.8/site-packages/ray/util/tracing/tracing_helper.py\", line 451, in _resume_span\n",
      "\u001b[2m\u001b[36m(ImplicitFunc pid=75095)\u001b[0m     return method(self, *_args, **_kwargs)\n",
      "\u001b[2m\u001b[36m(ImplicitFunc pid=75095)\u001b[0m   File \"/Users/rgrouls/Library/Caches/pypoetry/virtualenvs/hu-deeplearning-R-urKDRm-py3.8/lib/python3.8/site-packages/ray/tune/trainable.py\", line 314, in train\n",
      "\u001b[2m\u001b[36m(ImplicitFunc pid=75095)\u001b[0m     result = self.step()\n",
      "\u001b[2m\u001b[36m(ImplicitFunc pid=75095)\u001b[0m   File \"/Users/rgrouls/Library/Caches/pypoetry/virtualenvs/hu-deeplearning-R-urKDRm-py3.8/lib/python3.8/site-packages/ray/util/tracing/tracing_helper.py\", line 451, in _resume_span\n",
      "\u001b[2m\u001b[36m(ImplicitFunc pid=75095)\u001b[0m     return method(self, *_args, **_kwargs)\n",
      "\u001b[2m\u001b[36m(ImplicitFunc pid=75095)\u001b[0m   File \"/Users/rgrouls/Library/Caches/pypoetry/virtualenvs/hu-deeplearning-R-urKDRm-py3.8/lib/python3.8/site-packages/ray/tune/function_runner.py\", line 363, in step\n",
      "\u001b[2m\u001b[36m(ImplicitFunc pid=75095)\u001b[0m     result = self._results_queue.get(\n",
      "\u001b[2m\u001b[36m(ImplicitFunc pid=75095)\u001b[0m   File \"/Users/rgrouls/.pyenv/versions/3.8.12/lib/python3.8/queue.py\", line 182, in get\n",
      "\u001b[2m\u001b[36m(ImplicitFunc pid=75095)\u001b[0m     return item\n",
      "\u001b[2m\u001b[36m(ImplicitFunc pid=75095)\u001b[0m   File \"/Users/rgrouls/.pyenv/versions/3.8.12/lib/python3.8/threading.py\", line 250, in __exit__\n",
      "\u001b[2m\u001b[36m(ImplicitFunc pid=75095)\u001b[0m     return self._lock.__exit__(*args)\n",
      "\u001b[2m\u001b[36m(ImplicitFunc pid=75095)\u001b[0m RuntimeError: release unlocked lock\n",
      "\u001b[2m\u001b[36m(ImplicitFunc pid=75095)\u001b[0m \n",
      "\u001b[2m\u001b[36m(ImplicitFunc pid=75095)\u001b[0m During handling of the above exception, another exception occurred:\n",
      "\u001b[2m\u001b[36m(ImplicitFunc pid=75095)\u001b[0m \n",
      "\u001b[2m\u001b[36m(ImplicitFunc pid=75095)\u001b[0m Traceback (most recent call last):\n",
      "\u001b[2m\u001b[36m(ImplicitFunc pid=75095)\u001b[0m   File \"python/ray/_raylet.pyx\", line 759, in ray._raylet.task_execution_handler\n",
      "\u001b[2m\u001b[36m(ImplicitFunc pid=75095)\u001b[0m   File \"python/ray/_raylet.pyx\", line 580, in ray._raylet.execute_task\n",
      "\u001b[2m\u001b[36m(ImplicitFunc pid=75095)\u001b[0m   File \"python/ray/_raylet.pyx\", line 716, in ray._raylet.execute_task\n",
      "\u001b[2m\u001b[36m(ImplicitFunc pid=75095)\u001b[0m   File \"/Users/rgrouls/Library/Caches/pypoetry/virtualenvs/hu-deeplearning-R-urKDRm-py3.8/lib/python3.8/site-packages/ray/_private/utils.py\", line 117, in push_error_to_driver\n",
      "\u001b[2m\u001b[36m(ImplicitFunc pid=75095)\u001b[0m     worker.core_worker.push_error(job_id, error_type, message, time.time())\n",
      "\u001b[2m\u001b[36m(ImplicitFunc pid=75095)\u001b[0m AttributeError: 'Worker' object has no attribute 'core_worker'\n",
      "\u001b[2m\u001b[36m(ImplicitFunc pid=75095)\u001b[0m \n",
      "\u001b[2m\u001b[36m(ImplicitFunc pid=75095)\u001b[0m During handling of the above exception, another exception occurred:\n",
      "\u001b[2m\u001b[36m(ImplicitFunc pid=75095)\u001b[0m \n",
      "\u001b[2m\u001b[36m(ImplicitFunc pid=75095)\u001b[0m Traceback (most recent call last):\n",
      "\u001b[2m\u001b[36m(ImplicitFunc pid=75095)\u001b[0m   File \"python/ray/_raylet.pyx\", line 783, in ray._raylet.task_execution_handler\n",
      "\u001b[2m\u001b[36m(ImplicitFunc pid=75095)\u001b[0m   File \"/Users/rgrouls/Library/Caches/pypoetry/virtualenvs/hu-deeplearning-R-urKDRm-py3.8/lib/python3.8/site-packages/ray/_private/utils.py\", line 117, in push_error_to_driver\n",
      "\u001b[2m\u001b[36m(ImplicitFunc pid=75095)\u001b[0m     worker.core_worker.push_error(job_id, error_type, message, time.time())\n",
      "\u001b[2m\u001b[36m(ImplicitFunc pid=75095)\u001b[0m AttributeError: 'Worker' object has no attribute 'core_worker'\n",
      "\u001b[2m\u001b[36m(ImplicitFunc pid=75095)\u001b[0m Exception ignored in: 'ray._raylet.task_execution_handler'\n",
      "\u001b[2m\u001b[36m(ImplicitFunc pid=75095)\u001b[0m Traceback (most recent call last):\n",
      "\u001b[2m\u001b[36m(ImplicitFunc pid=75095)\u001b[0m   File \"python/ray/_raylet.pyx\", line 783, in ray._raylet.task_execution_handler\n",
      "\u001b[2m\u001b[36m(ImplicitFunc pid=75095)\u001b[0m   File \"/Users/rgrouls/Library/Caches/pypoetry/virtualenvs/hu-deeplearning-R-urKDRm-py3.8/lib/python3.8/site-packages/ray/_private/utils.py\", line 117, in push_error_to_driver\n",
      "\u001b[2m\u001b[36m(ImplicitFunc pid=75095)\u001b[0m     worker.core_worker.push_error(job_id, error_type, message, time.time())\n",
      "\u001b[2m\u001b[36m(ImplicitFunc pid=75095)\u001b[0m AttributeError: 'Worker' object has no attribute 'core_worker'\n"
     ]
    },
    {
     "name": "stdout",
     "output_type": "stream",
     "text": [
      "47/92 [==============>...............] - ETA: 12s - loss: 1.7151 - accuracy: 0.4249\n",
      "86/92 [===========================>..] - ETA: 1s - loss: 3.0351 - accuracy: 0.3507\n"
     ]
    },
    {
     "name": "stderr",
     "output_type": "stream",
     "text": [
      "2021-12-20 22:05:14,146\tERROR tune.py:622 -- Trials did not complete: [train_on_flowers_6d17bfac, train_on_flowers_6fef975e]\n",
      "2021-12-20 22:05:14,147\tINFO tune.py:626 -- Total run time: 42.95 seconds (42.64 seconds for the tuning loop).\n",
      "2021-12-20 22:05:14,148\tWARNING tune.py:630 -- Experiment has been interrupted, but the most recent state was saved. You can continue running this experiment by passing `resume=True` to `tune.run()`\n"
     ]
    }
   ],
   "source": [
    "from ray.tune import JupyterNotebookReporter\n",
    "from ray.tune.suggest.hyperopt import HyperOptSearch\n",
    "\n",
    "reporter = JupyterNotebookReporter(overwrite=True)\n",
    "\n",
    "hyperopt_search = HyperOptSearch(\n",
    "    metric=\"val_loss\", mode=\"min\")\n",
    "\n",
    "analysis = tune.run(\n",
    "    train_on_flowers,\n",
    "    config=config, \n",
    "    search_alg=hyperopt_search,\n",
    "    progress_reporter=reporter,\n",
    "    verbose=1, \n",
    "    local_dir=\"logs\",\n",
    "    num_samples=2)"
   ]
  },
  {
   "cell_type": "code",
   "execution_count": 87,
   "metadata": {},
   "outputs": [
    {
     "name": "stderr",
     "output_type": "stream",
     "text": [
      "/Users/rgrouls/Library/Caches/pypoetry/virtualenvs/hu-deeplearning-R-urKDRm-py3.8/lib/python3.8/site-packages/ray/tune/analysis/experiment_analysis.py:262: UserWarning: Dataframes will use '/' instead of '.' to delimit nested result keys in future versions of Ray. For forward compatibility, set the environment variable TUNE_RESULT_DELIM='/'\n",
      "  warnings.warn(\n"
     ]
    },
    {
     "data": {
      "text/html": [
       "<div>\n",
       "<style scoped>\n",
       "    .dataframe tbody tr th:only-of-type {\n",
       "        vertical-align: middle;\n",
       "    }\n",
       "\n",
       "    .dataframe tbody tr th {\n",
       "        vertical-align: top;\n",
       "    }\n",
       "\n",
       "    .dataframe thead th {\n",
       "        text-align: right;\n",
       "    }\n",
       "</style>\n",
       "<table border=\"1\" class=\"dataframe\">\n",
       "  <thead>\n",
       "    <tr style=\"text-align: right;\">\n",
       "      <th></th>\n",
       "      <th>mean_accuracy</th>\n",
       "      <th>mean_loss</th>\n",
       "      <th>val_loss</th>\n",
       "      <th>time_this_iter_s</th>\n",
       "      <th>done</th>\n",
       "      <th>timesteps_total</th>\n",
       "      <th>episodes_total</th>\n",
       "      <th>training_iteration</th>\n",
       "      <th>neg_mean_loss</th>\n",
       "      <th>experiment_id</th>\n",
       "      <th>...</th>\n",
       "      <th>iterations_since_restore</th>\n",
       "      <th>experiment_tag</th>\n",
       "      <th>keras_info.loss</th>\n",
       "      <th>keras_info.accuracy</th>\n",
       "      <th>keras_info.val_loss</th>\n",
       "      <th>keras_info.val_accuracy</th>\n",
       "      <th>config.conv</th>\n",
       "      <th>config.hidden</th>\n",
       "      <th>config.epochs</th>\n",
       "      <th>config.datadir</th>\n",
       "    </tr>\n",
       "    <tr>\n",
       "      <th>trial_id</th>\n",
       "      <th></th>\n",
       "      <th></th>\n",
       "      <th></th>\n",
       "      <th></th>\n",
       "      <th></th>\n",
       "      <th></th>\n",
       "      <th></th>\n",
       "      <th></th>\n",
       "      <th></th>\n",
       "      <th></th>\n",
       "      <th></th>\n",
       "      <th></th>\n",
       "      <th></th>\n",
       "      <th></th>\n",
       "      <th></th>\n",
       "      <th></th>\n",
       "      <th></th>\n",
       "      <th></th>\n",
       "      <th></th>\n",
       "      <th></th>\n",
       "      <th></th>\n",
       "    </tr>\n",
       "  </thead>\n",
       "  <tbody>\n",
       "    <tr>\n",
       "      <th>ccad5380</th>\n",
       "      <td>0.982317</td>\n",
       "      <td>0.056738</td>\n",
       "      <td>0.064487</td>\n",
       "      <td>13.857301</td>\n",
       "      <td>True</td>\n",
       "      <td>None</td>\n",
       "      <td>None</td>\n",
       "      <td>2</td>\n",
       "      <td>-0.056738</td>\n",
       "      <td>d4ef5a2c154a4957a69ac6e1a75ed66a</td>\n",
       "      <td>...</td>\n",
       "      <td>2</td>\n",
       "      <td>1_conv=1,datadir=_Users_rgrouls_Documents_acad...</td>\n",
       "      <td>0.056738</td>\n",
       "      <td>0.982317</td>\n",
       "      <td>0.064487</td>\n",
       "      <td>0.9787</td>\n",
       "      <td>1</td>\n",
       "      <td>2</td>\n",
       "      <td>2</td>\n",
       "      <td>/Users/rgrouls/Documents/academy/HU/ml-21/5-vi...</td>\n",
       "    </tr>\n",
       "    <tr>\n",
       "      <th>cd3038cc</th>\n",
       "      <td>0.982983</td>\n",
       "      <td>0.055655</td>\n",
       "      <td>0.043909</td>\n",
       "      <td>17.212405</td>\n",
       "      <td>True</td>\n",
       "      <td>None</td>\n",
       "      <td>None</td>\n",
       "      <td>2</td>\n",
       "      <td>-0.055655</td>\n",
       "      <td>ff8801a88c7a46209b602e59a26db565</td>\n",
       "      <td>...</td>\n",
       "      <td>2</td>\n",
       "      <td>2_conv=2,datadir=_Users_rgrouls_Documents_acad...</td>\n",
       "      <td>0.055655</td>\n",
       "      <td>0.982983</td>\n",
       "      <td>0.043909</td>\n",
       "      <td>0.9866</td>\n",
       "      <td>2</td>\n",
       "      <td>2</td>\n",
       "      <td>2</td>\n",
       "      <td>/Users/rgrouls/Documents/academy/HU/ml-21/5-vi...</td>\n",
       "    </tr>\n",
       "  </tbody>\n",
       "</table>\n",
       "<p>2 rows × 28 columns</p>\n",
       "</div>"
      ],
      "text/plain": [
       "          mean_accuracy  mean_loss  val_loss  time_this_iter_s  done  \\\n",
       "trial_id                                                               \n",
       "ccad5380       0.982317   0.056738  0.064487         13.857301  True   \n",
       "cd3038cc       0.982983   0.055655  0.043909         17.212405  True   \n",
       "\n",
       "         timesteps_total episodes_total  training_iteration  neg_mean_loss  \\\n",
       "trial_id                                                                     \n",
       "ccad5380            None           None                   2      -0.056738   \n",
       "cd3038cc            None           None                   2      -0.055655   \n",
       "\n",
       "                             experiment_id  ... iterations_since_restore  \\\n",
       "trial_id                                    ...                            \n",
       "ccad5380  d4ef5a2c154a4957a69ac6e1a75ed66a  ...                        2   \n",
       "cd3038cc  ff8801a88c7a46209b602e59a26db565  ...                        2   \n",
       "\n",
       "                                             experiment_tag  keras_info.loss  \\\n",
       "trial_id                                                                       \n",
       "ccad5380  1_conv=1,datadir=_Users_rgrouls_Documents_acad...         0.056738   \n",
       "cd3038cc  2_conv=2,datadir=_Users_rgrouls_Documents_acad...         0.055655   \n",
       "\n",
       "          keras_info.accuracy keras_info.val_loss keras_info.val_accuracy  \\\n",
       "trial_id                                                                    \n",
       "ccad5380             0.982317            0.064487                  0.9787   \n",
       "cd3038cc             0.982983            0.043909                  0.9866   \n",
       "\n",
       "          config.conv  config.hidden  config.epochs  \\\n",
       "trial_id                                              \n",
       "ccad5380            1              2              2   \n",
       "cd3038cc            2              2              2   \n",
       "\n",
       "                                             config.datadir  \n",
       "trial_id                                                     \n",
       "ccad5380  /Users/rgrouls/Documents/academy/HU/ml-21/5-vi...  \n",
       "cd3038cc  /Users/rgrouls/Documents/academy/HU/ml-21/5-vi...  \n",
       "\n",
       "[2 rows x 28 columns]"
      ]
     },
     "execution_count": 87,
     "metadata": {},
     "output_type": "execute_result"
    }
   ],
   "source": [
    "analysis.results_df"
   ]
  },
  {
   "cell_type": "code",
   "execution_count": null,
   "metadata": {},
   "outputs": [],
   "source": []
  }
 ],
 "metadata": {
  "interpreter": {
   "hash": "fd838b4e8e084a6a759aff6a24fadbf2445d28874d00da48c8398869c390159d"
  },
  "kernelspec": {
   "display_name": "Python 3.8.12 64-bit ('hu-deeplearning-R-urKDRm-py3.8': poetry)",
   "language": "python",
   "name": "python3"
  },
  "language_info": {
   "codemirror_mode": {
    "name": "ipython",
    "version": 3
   },
   "file_extension": ".py",
   "mimetype": "text/x-python",
   "name": "python",
   "nbconvert_exporter": "python",
   "pygments_lexer": "ipython3",
   "version": "3.8.12"
  },
  "orig_nbformat": 4
 },
 "nbformat": 4,
 "nbformat_minor": 2
}
