{
 "cells": [
  {
   "cell_type": "code",
   "execution_count": 1,
   "metadata": {},
   "outputs": [
    {
     "name": "stdout",
     "output_type": "stream",
     "text": [
      "Requirement already satisfied: opencv-python in c:\\users\\hjtfs\\appdata\\local\\pypoetry\\cache\\virtualenvs\\hu-deeplearning-lsm0ezyv-py3.8\\lib\\site-packages (4.5.5.62)\n",
      "Requirement already satisfied: numpy>=1.17.3 in c:\\users\\hjtfs\\appdata\\local\\pypoetry\\cache\\virtualenvs\\hu-deeplearning-lsm0ezyv-py3.8\\lib\\site-packages (from opencv-python) (1.21.4)\n"
     ]
    },
    {
     "name": "stderr",
     "output_type": "stream",
     "text": [
      "  Running command git clone --filter=blob:none -q https://github.com/henrysky/astroNN.git 'C:\\Users\\hjtfs\\AppData\\Local\\Temp\\pip-req-build-uou_9ekn'\n"
     ]
    },
    {
     "name": "stdout",
     "output_type": "stream",
     "text": [
      "Collecting git+https://github.com/henrysky/astroNN.git\n",
      "  Cloning https://github.com/henrysky/astroNN.git to c:\\users\\hjtfs\\appdata\\local\\temp\\pip-req-build-uou_9ekn\n",
      "  Resolved https://github.com/henrysky/astroNN.git to commit a8358137f09bf964ec34faa2a19d2efc1d7c3557\n",
      "  Preparing metadata (setup.py): started\n",
      "  Preparing metadata (setup.py): finished with status 'done'\n",
      "Requirement already satisfied: numpy in c:\\users\\hjtfs\\appdata\\local\\pypoetry\\cache\\virtualenvs\\hu-deeplearning-lsm0ezyv-py3.8\\lib\\site-packages (from astroNN==1.1.dev0) (1.21.4)\n",
      "Requirement already satisfied: astropy in c:\\users\\hjtfs\\appdata\\local\\pypoetry\\cache\\virtualenvs\\hu-deeplearning-lsm0ezyv-py3.8\\lib\\site-packages (from astroNN==1.1.dev0) (5.0)\n",
      "Requirement already satisfied: h5py in c:\\users\\hjtfs\\appdata\\local\\pypoetry\\cache\\virtualenvs\\hu-deeplearning-lsm0ezyv-py3.8\\lib\\site-packages (from astroNN==1.1.dev0) (3.6.0)\n",
      "Requirement already satisfied: matplotlib in c:\\users\\hjtfs\\appdata\\local\\pypoetry\\cache\\virtualenvs\\hu-deeplearning-lsm0ezyv-py3.8\\lib\\site-packages (from astroNN==1.1.dev0) (3.5.1)\n",
      "Requirement already satisfied: astroquery in c:\\users\\hjtfs\\appdata\\local\\pypoetry\\cache\\virtualenvs\\hu-deeplearning-lsm0ezyv-py3.8\\lib\\site-packages (from astroNN==1.1.dev0) (0.4.5)\n",
      "Requirement already satisfied: pandas in c:\\users\\hjtfs\\appdata\\local\\pypoetry\\cache\\virtualenvs\\hu-deeplearning-lsm0ezyv-py3.8\\lib\\site-packages (from astroNN==1.1.dev0) (1.3.4)\n",
      "Requirement already satisfied: scikit-learn in c:\\users\\hjtfs\\appdata\\local\\pypoetry\\cache\\virtualenvs\\hu-deeplearning-lsm0ezyv-py3.8\\lib\\site-packages (from astroNN==1.1.dev0) (1.0.1)\n",
      "Requirement already satisfied: tqdm in c:\\users\\hjtfs\\appdata\\local\\pypoetry\\cache\\virtualenvs\\hu-deeplearning-lsm0ezyv-py3.8\\lib\\site-packages (from astroNN==1.1.dev0) (4.62.3)\n",
      "Requirement already satisfied: packaging in c:\\users\\hjtfs\\appdata\\local\\pypoetry\\cache\\virtualenvs\\hu-deeplearning-lsm0ezyv-py3.8\\lib\\site-packages (from astroNN==1.1.dev0) (21.3)\n",
      "Requirement already satisfied: pyerfa>=2.0 in c:\\users\\hjtfs\\appdata\\local\\pypoetry\\cache\\virtualenvs\\hu-deeplearning-lsm0ezyv-py3.8\\lib\\site-packages (from astropy->astroNN==1.1.dev0) (2.0.0.1)\n",
      "Requirement already satisfied: PyYAML>=3.13 in c:\\users\\hjtfs\\appdata\\local\\pypoetry\\cache\\virtualenvs\\hu-deeplearning-lsm0ezyv-py3.8\\lib\\site-packages (from astropy->astroNN==1.1.dev0) (6.0)\n",
      "Requirement already satisfied: pyparsing!=3.0.5,>=2.0.2 in c:\\users\\hjtfs\\appdata\\local\\pypoetry\\cache\\virtualenvs\\hu-deeplearning-lsm0ezyv-py3.8\\lib\\site-packages (from packaging->astroNN==1.1.dev0) (3.0.6)\n",
      "Requirement already satisfied: pyvo>=1.1 in c:\\users\\hjtfs\\appdata\\local\\pypoetry\\cache\\virtualenvs\\hu-deeplearning-lsm0ezyv-py3.8\\lib\\site-packages (from astroquery->astroNN==1.1.dev0) (1.2.1)\n",
      "Requirement already satisfied: requests>=2.4.3 in c:\\users\\hjtfs\\appdata\\local\\pypoetry\\cache\\virtualenvs\\hu-deeplearning-lsm0ezyv-py3.8\\lib\\site-packages (from astroquery->astroNN==1.1.dev0) (2.26.0)\n",
      "Requirement already satisfied: keyring>=4.0 in c:\\users\\hjtfs\\appdata\\local\\pypoetry\\cache\\virtualenvs\\hu-deeplearning-lsm0ezyv-py3.8\\lib\\site-packages (from astroquery->astroNN==1.1.dev0) (23.5.0)\n",
      "Requirement already satisfied: beautifulsoup4>=4.3.2 in c:\\users\\hjtfs\\appdata\\local\\pypoetry\\cache\\virtualenvs\\hu-deeplearning-lsm0ezyv-py3.8\\lib\\site-packages (from astroquery->astroNN==1.1.dev0) (4.10.0)\n",
      "Requirement already satisfied: html5lib>=0.999 in c:\\users\\hjtfs\\appdata\\local\\pypoetry\\cache\\virtualenvs\\hu-deeplearning-lsm0ezyv-py3.8\\lib\\site-packages (from astroquery->astroNN==1.1.dev0) (1.1)\n",
      "Requirement already satisfied: python-dateutil>=2.7 in c:\\users\\hjtfs\\appdata\\local\\pypoetry\\cache\\virtualenvs\\hu-deeplearning-lsm0ezyv-py3.8\\lib\\site-packages (from matplotlib->astroNN==1.1.dev0) (2.8.2)\n",
      "Requirement already satisfied: cycler>=0.10 in c:\\users\\hjtfs\\appdata\\local\\pypoetry\\cache\\virtualenvs\\hu-deeplearning-lsm0ezyv-py3.8\\lib\\site-packages (from matplotlib->astroNN==1.1.dev0) (0.11.0)\n",
      "Requirement already satisfied: pillow>=6.2.0 in c:\\users\\hjtfs\\appdata\\local\\pypoetry\\cache\\virtualenvs\\hu-deeplearning-lsm0ezyv-py3.8\\lib\\site-packages (from matplotlib->astroNN==1.1.dev0) (8.4.0)\n",
      "Requirement already satisfied: kiwisolver>=1.0.1 in c:\\users\\hjtfs\\appdata\\local\\pypoetry\\cache\\virtualenvs\\hu-deeplearning-lsm0ezyv-py3.8\\lib\\site-packages (from matplotlib->astroNN==1.1.dev0) (1.3.2)\n",
      "Requirement already satisfied: fonttools>=4.22.0 in c:\\users\\hjtfs\\appdata\\local\\pypoetry\\cache\\virtualenvs\\hu-deeplearning-lsm0ezyv-py3.8\\lib\\site-packages (from matplotlib->astroNN==1.1.dev0) (4.28.3)\n",
      "Requirement already satisfied: pytz>=2017.3 in c:\\users\\hjtfs\\appdata\\local\\pypoetry\\cache\\virtualenvs\\hu-deeplearning-lsm0ezyv-py3.8\\lib\\site-packages (from pandas->astroNN==1.1.dev0) (2021.3)\n",
      "Requirement already satisfied: threadpoolctl>=2.0.0 in c:\\users\\hjtfs\\appdata\\local\\pypoetry\\cache\\virtualenvs\\hu-deeplearning-lsm0ezyv-py3.8\\lib\\site-packages (from scikit-learn->astroNN==1.1.dev0) (3.0.0)\n",
      "Requirement already satisfied: joblib>=0.11 in c:\\users\\hjtfs\\appdata\\local\\pypoetry\\cache\\virtualenvs\\hu-deeplearning-lsm0ezyv-py3.8\\lib\\site-packages (from scikit-learn->astroNN==1.1.dev0) (1.1.0)\n",
      "Requirement already satisfied: scipy>=1.1.0 in c:\\users\\hjtfs\\appdata\\local\\pypoetry\\cache\\virtualenvs\\hu-deeplearning-lsm0ezyv-py3.8\\lib\\site-packages (from scikit-learn->astroNN==1.1.dev0) (1.7.3)\n",
      "Requirement already satisfied: colorama in c:\\users\\hjtfs\\appdata\\local\\pypoetry\\cache\\virtualenvs\\hu-deeplearning-lsm0ezyv-py3.8\\lib\\site-packages (from tqdm->astroNN==1.1.dev0) (0.4.4)\n",
      "Requirement already satisfied: soupsieve>1.2 in c:\\users\\hjtfs\\appdata\\local\\pypoetry\\cache\\virtualenvs\\hu-deeplearning-lsm0ezyv-py3.8\\lib\\site-packages (from beautifulsoup4>=4.3.2->astroquery->astroNN==1.1.dev0) (2.3.1)\n",
      "Requirement already satisfied: webencodings in c:\\users\\hjtfs\\appdata\\local\\pypoetry\\cache\\virtualenvs\\hu-deeplearning-lsm0ezyv-py3.8\\lib\\site-packages (from html5lib>=0.999->astroquery->astroNN==1.1.dev0) (0.5.1)\n",
      "Requirement already satisfied: six>=1.9 in c:\\users\\hjtfs\\appdata\\local\\pypoetry\\cache\\virtualenvs\\hu-deeplearning-lsm0ezyv-py3.8\\lib\\site-packages (from html5lib>=0.999->astroquery->astroNN==1.1.dev0) (1.16.0)\n",
      "Requirement already satisfied: importlib-metadata>=3.6 in c:\\users\\hjtfs\\appdata\\local\\pypoetry\\cache\\virtualenvs\\hu-deeplearning-lsm0ezyv-py3.8\\lib\\site-packages (from keyring>=4.0->astroquery->astroNN==1.1.dev0) (4.8.2)\n",
      "Requirement already satisfied: pywin32-ctypes!=0.1.0,!=0.1.1 in c:\\users\\hjtfs\\appdata\\local\\pypoetry\\cache\\virtualenvs\\hu-deeplearning-lsm0ezyv-py3.8\\lib\\site-packages (from keyring>=4.0->astroquery->astroNN==1.1.dev0) (0.2.0)\n",
      "Requirement already satisfied: certifi>=2017.4.17 in c:\\users\\hjtfs\\appdata\\local\\pypoetry\\cache\\virtualenvs\\hu-deeplearning-lsm0ezyv-py3.8\\lib\\site-packages (from requests>=2.4.3->astroquery->astroNN==1.1.dev0) (2021.10.8)\n",
      "Requirement already satisfied: idna<4,>=2.5 in c:\\users\\hjtfs\\appdata\\local\\pypoetry\\cache\\virtualenvs\\hu-deeplearning-lsm0ezyv-py3.8\\lib\\site-packages (from requests>=2.4.3->astroquery->astroNN==1.1.dev0) (3.3)\n",
      "Requirement already satisfied: charset-normalizer~=2.0.0 in c:\\users\\hjtfs\\appdata\\local\\pypoetry\\cache\\virtualenvs\\hu-deeplearning-lsm0ezyv-py3.8\\lib\\site-packages (from requests>=2.4.3->astroquery->astroNN==1.1.dev0) (2.0.9)\n",
      "Requirement already satisfied: urllib3<1.27,>=1.21.1 in c:\\users\\hjtfs\\appdata\\local\\pypoetry\\cache\\virtualenvs\\hu-deeplearning-lsm0ezyv-py3.8\\lib\\site-packages (from requests>=2.4.3->astroquery->astroNN==1.1.dev0) (1.26.7)\n",
      "Requirement already satisfied: zipp>=0.5 in c:\\users\\hjtfs\\appdata\\local\\pypoetry\\cache\\virtualenvs\\hu-deeplearning-lsm0ezyv-py3.8\\lib\\site-packages (from importlib-metadata>=3.6->keyring>=4.0->astroquery->astroNN==1.1.dev0) (3.6.0)\n"
     ]
    }
   ],
   "source": [
    "%load_ext autoreload\n",
    "%autoreload 2\n",
    "\n",
    "#cv2\n",
    "!pip install opencv-python \n",
    "# astroNN\n",
    "!pip install git+https://github.com/henrysky/astroNN.git \n",
    "\n",
    "from astroNN.datasets.galaxy10 import galaxy10cls_lookup\n",
    "from pathlib import Path\n",
    "import os\n",
    "import h5py\n",
    "import numpy as np\n",
    "#import cv2\n",
    "#from tqdm import tqdm\n",
    "\n",
    "sys.path.insert(0, \"..\")\n",
    "sys.path\n",
    "\n",
    "from src.data import data_pre"
   ]
  },
  {
   "cell_type": "code",
   "execution_count": 2,
   "metadata": {},
   "outputs": [],
   "source": [
    "datadir_raw = Path(\"../data/raw\")\n",
    "datadir_processed = Path(\"../data/processed\")"
   ]
  },
  {
   "cell_type": "code",
   "execution_count": 3,
   "metadata": {},
   "outputs": [
    {
     "name": "stderr",
     "output_type": "stream",
     "text": [
      "2022-01-27 14:35:55.990 | INFO     | src.data.data_pre:get_raw_data:24 - found Galaxy10_decals.h5 in ..\\data\\raw, not downloading again\n"
     ]
    }
   ],
   "source": [
    "data_pre.get_raw_data(datadir_raw) # takes a few minutes 2.6 GB"
   ]
  },
  {
   "cell_type": "code",
   "execution_count": 4,
   "metadata": {},
   "outputs": [
    {
     "name": "stdout",
     "output_type": "stream",
     "text": [
      "keys in file: ans, dec, images, pxscale, ra, redshift\n"
     ]
    }
   ],
   "source": [
    "hf = h5py.File(datadir_raw /\"Galaxy10_decals.h5\", 'r')\n",
    "key_list = list(hf.keys())\n",
    "print (\"keys in file: \" + ', '.join(key_list))"
   ]
  },
  {
   "cell_type": "code",
   "execution_count": 5,
   "metadata": {},
   "outputs": [
    {
     "name": "stdout",
     "output_type": "stream",
     "text": [
      "number per label:\n",
      "(array([0, 1, 2, 3, 4, 5, 6, 7, 8, 9], dtype=uint8), array([1081, 1853, 2645, 2027,  334, 2043, 1829, 2628, 1423, 1873],\n",
      "      dtype=int64))\n"
     ]
    }
   ],
   "source": [
    "images = np.array(hf['images'])\n",
    "labels = np.array(hf['ans'])\n",
    "\n",
    "counts = np.unique(labels, return_counts=True)\n",
    "\n",
    "print(\"number per label:\")\n",
    "print (counts)"
   ]
  },
  {
   "cell_type": "code",
   "execution_count": 10,
   "metadata": {},
   "outputs": [
    {
     "name": "stdout",
     "output_type": "stream",
     "text": [
      "['Disturbed', 'Merging', 'Round Smooth', 'Smooth, Cigar shaped', 'Cigar Shaped Smooth', 'Barred Spiral', 'Unbarred Tight Spiral', 'Unbarred Loose Spiral', 'Edge-on without Bulge', 'Edge-on with Bulge']\n"
     ]
    }
   ],
   "source": [
    "unique_labels = list(set(labels))\n",
    "\n",
    "galaxy_types = []\n",
    "for j in unique_labels:\n",
    "    names = galaxy10cls_lookup(j)\n",
    "    galaxy_types.append(names)\n",
    "\n",
    "print(galaxy_types)"
   ]
  },
  {
   "cell_type": "code",
   "execution_count": 11,
   "metadata": {},
   "outputs": [
    {
     "name": "stderr",
     "output_type": "stream",
     "text": [
      "2022-01-27 14:38:03.555 | INFO     | src.data.data_pre:sub_folders:52 - Main folder ..\\data\\processed allready exists\n",
      "2022-01-27 14:38:03.556 | INFO     | src.data.data_pre:sub_folders:58 - Creating subfolder ..\\data\\processed\\Disturbed\n",
      "2022-01-27 14:38:03.557 | INFO     | src.data.data_pre:sub_folders:60 - Subfolder ..\\data\\processed\\Merging allready exists\n",
      "2022-01-27 14:38:03.557 | INFO     | src.data.data_pre:sub_folders:60 - Subfolder ..\\data\\processed\\Round Smooth allready exists\n",
      "2022-01-27 14:38:03.558 | INFO     | src.data.data_pre:sub_folders:60 - Subfolder ..\\data\\processed\\Smooth, Cigar shaped allready exists\n",
      "2022-01-27 14:38:03.559 | INFO     | src.data.data_pre:sub_folders:60 - Subfolder ..\\data\\processed\\Cigar Shaped Smooth allready exists\n",
      "2022-01-27 14:38:03.559 | INFO     | src.data.data_pre:sub_folders:60 - Subfolder ..\\data\\processed\\Barred Spiral allready exists\n",
      "2022-01-27 14:38:03.560 | INFO     | src.data.data_pre:sub_folders:60 - Subfolder ..\\data\\processed\\Unbarred Tight Spiral allready exists\n",
      "2022-01-27 14:38:03.560 | INFO     | src.data.data_pre:sub_folders:60 - Subfolder ..\\data\\processed\\Unbarred Loose Spiral allready exists\n",
      "2022-01-27 14:38:03.561 | INFO     | src.data.data_pre:sub_folders:60 - Subfolder ..\\data\\processed\\Edge-on without Bulge allready exists\n",
      "2022-01-27 14:38:03.561 | INFO     | src.data.data_pre:sub_folders:60 - Subfolder ..\\data\\processed\\Edge-on with Bulge allready exists\n"
     ]
    }
   ],
   "source": [
    "data_pre.sub_folders(datadir_processed, datadir_raw, galaxy_types) "
   ]
  },
  {
   "cell_type": "code",
   "execution_count": 12,
   "metadata": {},
   "outputs": [
    {
     "name": "stdout",
     "output_type": "stream",
     "text": [
      "Merging 1853\n",
      "Round Smooth 2645\n",
      "Smooth, Cigar shaped 2027\n",
      "Cigar Shaped Smooth 334\n",
      "Barred Spiral 2043\n",
      "Unbarred Tight Spiral 1829\n",
      "Unbarred Loose Spiral 2628\n",
      "Edge-on without Bulge 1423\n",
      "Edge-on with Bulge 1873\n",
      "Total number of images: 16655\n"
     ]
    }
   ],
   "source": [
    "printcount = 'y'\n",
    "data_pre.count_images(datadir_processed, printcount, galaxy_types)"
   ]
  },
  {
   "cell_type": "code",
   "execution_count": 19,
   "metadata": {},
   "outputs": [
    {
     "name": "stderr",
     "output_type": "stream",
     "text": [
      "2022-01-27 15:02:57.214 | INFO     | src.data.data_pre:process_data:125 - Data allready exists\n"
     ]
    }
   ],
   "source": [
    "data_pre.process_data(datadir_processed, datadir_raw, galaxy_types, images, labels)"
   ]
  }
 ],
 "metadata": {
  "interpreter": {
   "hash": "d031ad01bed61ded824456c2d8715b797c0f37e7c3a3e3c3c540f3dac9fb955e"
  },
  "kernelspec": {
   "display_name": "Python 3.8.1 64-bit ('hu-deeplearning-lSm0EZYV-py3.8': venv)",
   "language": "python",
   "name": "python3"
  },
  "language_info": {
   "codemirror_mode": {
    "name": "ipython",
    "version": 3
   },
   "file_extension": ".py",
   "mimetype": "text/x-python",
   "name": "python",
   "nbconvert_exporter": "python",
   "pygments_lexer": "ipython3",
   "version": "3.8.1"
  },
  "orig_nbformat": 4
 },
 "nbformat": 4,
 "nbformat_minor": 2
}
