{
 "cells": [
  {
   "cell_type": "code",
   "execution_count": null,
   "metadata": {},
   "outputs": [],
   "source": [
    "%load_ext autoreload\n",
    "%autoreload 2\n",
    "\n",
    "#cv2\n",
    "%pip install opencv-python \n",
    "# astroNN\n",
    "%pip install git+https://github.com/henrysky/astroNN.git \n",
    "\n",
    "from astroNN.datasets.galaxy10 import galaxy10cls_lookup\n",
    "from pathlib import Path\n",
    "import os\n",
    "import h5py\n",
    "import numpy as np\n",
    "#import cv2\n",
    "#from tqdm import tqdm\n",
    "\n",
    "sys.path.insert(0, \"..\")\n",
    "sys.path\n",
    "\n",
    "from src.data import data_pre"
   ]
  },
  {
   "cell_type": "code",
   "execution_count": null,
   "metadata": {},
   "outputs": [],
   "source": [
    "datadir_raw = Path(\"../data/raw\")\n",
    "datadir_processed = Path(\"../data/processed\")"
   ]
  },
  {
   "cell_type": "code",
   "execution_count": null,
   "metadata": {},
   "outputs": [],
   "source": [
    "data_pre.get_raw_data(datadir_raw) # takes a few minutes 2.6 GB"
   ]
  },
  {
   "cell_type": "code",
   "execution_count": null,
   "metadata": {},
   "outputs": [],
   "source": [
    "hf = h5py.File(datadir_raw /\"Galaxy10_decals.h5\", 'r')\n",
    "key_list = list(hf.keys())\n",
    "print (\"keys in file: \" + ', '.join(key_list))"
   ]
  },
  {
   "cell_type": "code",
   "execution_count": null,
   "metadata": {},
   "outputs": [],
   "source": [
    "images = np.array(hf['images'])\n",
    "labels = np.array(hf['ans'])\n",
    "\n",
    "counts = np.unique(labels, return_counts=True)\n",
    "\n",
    "print(\"number per label:\")\n",
    "print (counts)"
   ]
  },
  {
   "cell_type": "code",
   "execution_count": null,
   "metadata": {},
   "outputs": [],
   "source": [
    "unique_labels = list(set(labels))\n",
    "\n",
    "galaxy_types = []\n",
    "for j in unique_labels:\n",
    "    names = galaxy10cls_lookup(j)\n",
    "    galaxy_types.append(names)\n",
    "\n",
    "print(galaxy_types)"
   ]
  },
  {
   "cell_type": "code",
   "execution_count": null,
   "metadata": {},
   "outputs": [],
   "source": [
    "data_pre.sub_folders(datadir_processed, datadir_raw, galaxy_types) "
   ]
  },
  {
   "cell_type": "code",
   "execution_count": null,
   "metadata": {},
   "outputs": [],
   "source": [
    "printcount = 'y'\n",
    "data_pre.count_images(datadir_processed, printcount, galaxy_types)"
   ]
  },
  {
   "cell_type": "code",
   "execution_count": null,
   "metadata": {},
   "outputs": [],
   "source": [
    "data_pre.process_data(datadir_processed, datadir_raw, galaxy_types, images, labels)"
   ]
  }
 ],
 "metadata": {
  "interpreter": {
   "hash": "d031ad01bed61ded824456c2d8715b797c0f37e7c3a3e3c3c540f3dac9fb955e"
  },
  "kernelspec": {
   "display_name": "Python 3.8.1 64-bit ('hu-deeplearning-lSm0EZYV-py3.8': venv)",
   "language": "python",
   "name": "python3"
  },
  "language_info": {
   "codemirror_mode": {
    "name": "ipython",
    "version": 3
   },
   "file_extension": ".py",
   "mimetype": "text/x-python",
   "name": "python",
   "nbconvert_exporter": "python",
   "pygments_lexer": "ipython3",
   "version": "3.8.1"
  },
  "orig_nbformat": 4
 },
 "nbformat": 4,
 "nbformat_minor": 2
}
