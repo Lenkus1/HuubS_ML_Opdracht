{
 "cells": [
  {
   "cell_type": "code",
   "execution_count": 5,
   "metadata": {},
   "outputs": [
    {
     "name": "stdout",
     "output_type": "stream",
     "text": [
      "The autoreload extension is already loaded. To reload it, use:\n",
      "  %reload_ext autoreload\n"
     ]
    }
   ],
   "source": [
    "%load_ext autoreload\n",
    "%autoreload 2\n",
    "\n",
    "#%pip install keras-tuner\n",
    "\n",
    "\n",
    "from pathlib import Path\n",
    "import os\n",
    "import sys\n",
    "sys.path.insert(0, \"..\")\n",
    "sys.path\n",
    "\n",
    "import numpy as np\n",
    "import seaborn as sns\n",
    "sns.set_theme()\n",
    "\n",
    "import pandas as pd\n",
    "\n",
    "import tensorflow as tf\n",
    "from tensorflow import keras\n",
    "\n",
    "from sklearn.model_selection import train_test_split\n",
    "from sklearn.preprocessing import LabelEncoder\n",
    "from tensorflow.keras.utils import to_categorical\n",
    "import matplotlib.pyplot as plt\n",
    "\n",
    "from sklearn.metrics import classification_report\n",
    "from sklearn.metrics import confusion_matrix\n",
    "\n",
    "from keras.callbacks import ReduceLROnPlateau\n",
    "from tensorflow.keras import layers\n",
    "\n",
    "\n",
    "\n",
    "from src.data import make_dataset\n",
    "\n",
    "\n",
    "from src.visualization import visualize_simple\n",
    "\n",
    "\n",
    "\n"
   ]
  },
  {
   "cell_type": "code",
   "execution_count": 19,
   "metadata": {},
   "outputs": [],
   "source": [
    "datadir_processed = Path(\"../data/processed\")\n",
    "datadir_model = Path(\"../models\")"
   ]
  },
  {
   "cell_type": "code",
   "execution_count": 7,
   "metadata": {},
   "outputs": [
    {
     "name": "stdout",
     "output_type": "stream",
     "text": [
      "Num GPUs Available:  0\n"
     ]
    }
   ],
   "source": [
    "print(\"Num GPUs Available: \", len(tf.config.list_physical_devices('GPU')))\n"
   ]
  },
  {
   "cell_type": "code",
   "execution_count": 28,
   "metadata": {},
   "outputs": [
    {
     "name": "stdout",
     "output_type": "stream",
     "text": [
      "(12414, 64, 64, 3)\n",
      "(3548, 64, 64, 3)\n",
      "(1774, 64, 64, 3)\n"
     ]
    }
   ],
   "source": [
    "data = []\n",
    "labels = []\n",
    "\n",
    "for f in sorted(os.listdir(datadir_processed)):\n",
    "    folder = os.path.join(datadir_processed, f)\n",
    "    if os.path.isdir(folder):\n",
    "        #print(f\"{f} is a target class\")\n",
    "        for i in sorted(os.listdir(folder)):\n",
    "            image=tf.keras.preprocessing.image.load_img(folder+'/'+i, \n",
    "            target_size= (64,64))\n",
    "            image=np.array(image)\n",
    "            data.append(image)\n",
    "            labels.append(f)\n",
    "\n",
    "data = np.array(data)\n",
    "#labels = np.array(labels)\n",
    "labels = list(labels)\n",
    "#labels_text = labels\n",
    "encoder = LabelEncoder()\n",
    "labels = encoder.fit_transform(labels)\n",
    "#labels = to_categorical(labels)\n",
    "\n",
    "\n",
    "\n",
    "X_train, X_test, y_train, y_test = train_test_split(data, labels, test_size=0.2,\n",
    "                                                random_state=42)\n",
    "\n",
    "X_train, X_valid, y_train, y_valid = train_test_split(X_train, y_train, test_size=0.125,\n",
    "                                                random_state=42)\n",
    "\n",
    "\n",
    "\n",
    "\n",
    "# Pre-processing\n",
    "X_train = X_train.astype('float32') / 255.\n",
    "X_test = X_test.astype('float32') / 255\n",
    "X_valid = X_valid.astype('float32') / 255\n",
    "\n",
    "print(X_train.shape)\n",
    "print(X_test.shape)\n",
    "print(X_valid.shape)\n"
   ]
  },
  {
   "cell_type": "code",
   "execution_count": null,
   "metadata": {},
   "outputs": [],
   "source": [
    "simple_model2 = keras.models.Sequential([\n",
    "\n",
    "\n",
    "keras.layers.Conv2D(32, (3,3), padding='same', input_shape=(128,128,3)),\n",
    "keras.layers.LeakyReLU(alpha=0.2),\n",
    "#keras.layers.BatchNormalization(),\n",
    "keras.layers.MaxPooling2D(pool_size=(2,2)),\n",
    "#keras.layers.Dropout(rate=0.2),\n",
    "\n",
    "keras.layers.Conv2D(64, (3,3)),\n",
    "keras.layers.LeakyReLU(alpha=0.2),\n",
    "#keras.layers.BatchNormalization(),\n",
    "keras.layers.MaxPooling2D(pool_size=(2,2)),\n",
    "#keras.layers.Dropout(rate=0.2),\n",
    "\n",
    "keras.layers.Conv2D(64, (1,1)),\n",
    "keras.layers.LeakyReLU(alpha=0.2),\n",
    "#keras.layers.BatchNormalization(),\n",
    "keras.layers.MaxPooling2D(pool_size=(2,2)),\n",
    "#keras.layers.Dropout(rate=0.2),\n",
    "\n",
    "keras.layers.Flatten(),\n",
    "keras.layers.Dropout(rate=0.2),\n",
    "#keras.layers.BatchNormalization(),\n",
    "\n",
    "keras.layers.Dense(150),\n",
    "keras.layers.LeakyReLU(alpha=0.2),\n",
    "keras.layers.Dropout(rate=0.2),\n",
    "#keras.layers.BatchNormalization(),\n",
    "\n",
    "keras.layers.Dense(84),\n",
    "keras.layers.LeakyReLU(alpha=0.2),\n",
    "keras.layers.Dropout(rate=0.2),\n",
    "#keras.layers.BatchNormalization(),\n",
    "keras.layers.Dense(10, activation=\"softmax\")\n",
    "])\n",
    "\n",
    "simple_model2.summary()\n",
    "\n"
   ]
  },
  {
   "cell_type": "code",
   "execution_count": 10,
   "metadata": {},
   "outputs": [
    {
     "name": "stderr",
     "output_type": "stream",
     "text": [
      "C:\\Users\\hjtfs\\AppData\\Local\\Temp/ipykernel_17592/2593664678.py:1: DeprecationWarning: `import kerastuner` is deprecated, please use `import keras_tuner`.\n",
      "  from kerastuner import HyperModel\n"
     ]
    }
   ],
   "source": [
    "from kerastuner import HyperModel\n",
    "\n",
    "INPUT_SHAPE = (64, 64, 3)\n",
    "NUM_CLASSES = 10\n",
    "\n",
    "class CNNHyperModel(HyperModel):\n",
    "    def __init__(self, input_shape, num_classes):\n",
    "        self.input_shape = input_shape\n",
    "        self.num_classes = num_classes\n",
    "\n",
    "    def build(self, hp):\n",
    "        model = keras.Sequential()\n",
    "        model.add(\n",
    "            keras.layers.Conv2D(\n",
    "                filters=hp.Choice(\n",
    "                    'num_filters_1',\n",
    "                    values=[32, 64, 128],\n",
    "                    default=64,\n",
    "                ),\n",
    "                kernel_size=(3,3),\n",
    "                \n",
    "                input_shape=self.input_shape\n",
    "            )\n",
    "        )\n",
    "\n",
    "        model.add(keras.layers.LeakyReLU(alpha=0.2))\n",
    "        model.add(keras.layers.MaxPooling2D(pool_size=2))\n",
    "               \n",
    "        \n",
    "        model.add(\n",
    "            keras.layers.Conv2D(\n",
    "                filters=hp.Choice(\n",
    "                    'num_filters_2',\n",
    "                    values=[32, 64, 128],\n",
    "                    default=64,\n",
    "                ),\n",
    "                activation='relu',\n",
    "                kernel_size=(3,3)\n",
    "            )\n",
    "        )\n",
    "\n",
    "       \n",
    "\n",
    "        model.add(\n",
    "            keras.layers.Conv2D(\n",
    "                filters=hp.Choice(\n",
    "                    'num_filters_3',\n",
    "                    values=[32, 64, 128],\n",
    "                    default=64,\n",
    "                ),\n",
    "                activation='relu',\n",
    "                kernel_size=(1,1)\n",
    "            )\n",
    "        )\n",
    "\n",
    "        model.add(keras.layers.MaxPooling2D(pool_size=2))\n",
    "        model.add(\n",
    "            keras.layers.Dropout(rate=hp.Float(\n",
    "                'dropout_1',\n",
    "                min_value=0.0,\n",
    "                max_value=0.5,\n",
    "                default=0.25,\n",
    "                step=0.05,\n",
    "            ))\n",
    "        )\n",
    "\n",
    "\n",
    "        model.add(keras.layers.Flatten())\n",
    "        model.add(\n",
    "            keras.layers.Dense(\n",
    "                units=hp.Int(\n",
    "                    'units_1',\n",
    "                    min_value=32,\n",
    "                    max_value=256,\n",
    "                    step=32,\n",
    "                    default=128\n",
    "                ),\n",
    "                activation=hp.Choice(\n",
    "                    'dense_activation',\n",
    "                    values=['relu', 'tanh', 'sigmoid'],\n",
    "                    default='relu'\n",
    "                )\n",
    "            )\n",
    "        )\n",
    "        \n",
    "        model.add(\n",
    "            keras.layers.Dropout(rate=hp.Float(\n",
    "                'dropout_2',\n",
    "                min_value=0.0,\n",
    "                max_value=0.5,\n",
    "                default=0.25,\n",
    "                step=0.05,\n",
    "            ))\n",
    "        )\n",
    "\n",
    "        model.add(\n",
    "            keras.layers.Dense(\n",
    "                units=hp.Int(\n",
    "                    'units_2',\n",
    "                    min_value=32,\n",
    "                    max_value=128,\n",
    "                    step=16,\n",
    "                    default=64\n",
    "                ),\n",
    "                activation=hp.Choice(\n",
    "                    'dense_activation',\n",
    "                    values=['relu', 'tanh', 'sigmoid'],\n",
    "                    default='relu'\n",
    "                )\n",
    "            )\n",
    "        )\n",
    "\n",
    "        model.add(\n",
    "            keras.layers.Dropout(\n",
    "                rate=hp.Float(\n",
    "                    'dropout_3',\n",
    "                    min_value=0.0,\n",
    "                    max_value=0.5,\n",
    "                    default=0.25,\n",
    "                    step=0.05\n",
    "                )\n",
    "            )\n",
    "        )\n",
    "        model.add(keras.layers.Dense(self.num_classes, activation='softmax'))\n",
    "\n",
    "        model.compile(\n",
    "            optimizer=keras.optimizers.Adam(\n",
    "                hp.Float(\n",
    "                    'learning_rate',\n",
    "                    min_value=1e-4,\n",
    "                    max_value=1e-2,\n",
    "                    sampling='LOG',\n",
    "                    default=1e-3\n",
    "                )\n",
    "            ),\n",
    "            loss='sparse_categorical_crossentropy',\n",
    "            metrics=['accuracy']\n",
    "        )\n",
    "        return model\n",
    "\n",
    "hypermodel = CNNHyperModel(input_shape=INPUT_SHAPE, num_classes=NUM_CLASSES)"
   ]
  },
  {
   "cell_type": "code",
   "execution_count": 11,
   "metadata": {},
   "outputs": [],
   "source": [
    "import keras_tuner as kt\n",
    "from kerastuner.tuners import Hyperband\n",
    "\n",
    "tuner = kt.Hyperband(\n",
    "    hypermodel,\n",
    "    overwrite=True,\n",
    "    objective='val_accuracy',\n",
    "    max_epochs=20,\n",
    "    executions_per_trial=1,\n",
    "    hyperband_iterations=1,\n",
    "    directory=''\n",
    "    project_name='galaxies')"
   ]
  },
  {
   "cell_type": "code",
   "execution_count": 12,
   "metadata": {},
   "outputs": [
    {
     "name": "stdout",
     "output_type": "stream",
     "text": [
      "Search space summary\n",
      "Default search space size: 10\n",
      "num_filters_1 (Choice)\n",
      "{'default': 64, 'conditions': [], 'values': [32, 64, 128], 'ordered': True}\n",
      "num_filters_2 (Choice)\n",
      "{'default': 64, 'conditions': [], 'values': [32, 64, 128], 'ordered': True}\n",
      "num_filters_3 (Choice)\n",
      "{'default': 64, 'conditions': [], 'values': [32, 64, 128], 'ordered': True}\n",
      "dropout_1 (Float)\n",
      "{'default': 0.25, 'conditions': [], 'min_value': 0.0, 'max_value': 0.5, 'step': 0.05, 'sampling': None}\n",
      "units_1 (Int)\n",
      "{'default': 128, 'conditions': [], 'min_value': 32, 'max_value': 256, 'step': 32, 'sampling': None}\n",
      "dense_activation (Choice)\n",
      "{'default': 'relu', 'conditions': [], 'values': ['relu', 'tanh', 'sigmoid'], 'ordered': False}\n",
      "dropout_2 (Float)\n",
      "{'default': 0.25, 'conditions': [], 'min_value': 0.0, 'max_value': 0.5, 'step': 0.05, 'sampling': None}\n",
      "units_2 (Int)\n",
      "{'default': 64, 'conditions': [], 'min_value': 32, 'max_value': 128, 'step': 16, 'sampling': None}\n",
      "dropout_3 (Float)\n",
      "{'default': 0.25, 'conditions': [], 'min_value': 0.0, 'max_value': 0.5, 'step': 0.05, 'sampling': None}\n",
      "learning_rate (Float)\n",
      "{'default': 0.001, 'conditions': [], 'min_value': 0.0001, 'max_value': 0.01, 'step': None, 'sampling': 'log'}\n"
     ]
    }
   ],
   "source": [
    "tuner.search_space_summary()"
   ]
  },
  {
   "cell_type": "code",
   "execution_count": 13,
   "metadata": {},
   "outputs": [
    {
     "name": "stdout",
     "output_type": "stream",
     "text": [
      "Trial 30 Complete [00h 01m 21s]\n",
      "val_accuracy: 0.14712513983249664\n",
      "\n",
      "Best val_accuracy So Far: 0.6516347527503967\n",
      "Total elapsed time: 01h 46m 45s\n",
      "INFO:tensorflow:Oracle triggered exit\n"
     ]
    }
   ],
   "source": [
    "tuner.search(X_train, y_train,\n",
    "             validation_data=(X_valid, y_valid),\n",
    "             batch_size=32,\n",
    "             #epochs=10,\n",
    "             callbacks=[tf.keras.callbacks.EarlyStopping('val_loss', patience=2)])"
   ]
  },
  {
   "cell_type": "code",
   "execution_count": 14,
   "metadata": {},
   "outputs": [
    {
     "name": "stdout",
     "output_type": "stream",
     "text": [
      "Results summary\n",
      "Results in .\\galaxies\n",
      "Showing 10 best trials\n",
      "Objective(name='val_accuracy', direction='max')\n",
      "Trial summary\n",
      "Hyperparameters:\n",
      "num_filters_1: 128\n",
      "num_filters_2: 128\n",
      "num_filters_3: 32\n",
      "dropout_1: 0.2\n",
      "units_1: 128\n",
      "dense_activation: relu\n",
      "dropout_2: 0.4\n",
      "units_2: 64\n",
      "dropout_3: 0.25\n",
      "learning_rate: 0.001266095545138909\n",
      "tuner/epochs: 20\n",
      "tuner/initial_epoch: 7\n",
      "tuner/bracket: 1\n",
      "tuner/round: 1\n",
      "tuner/trial_id: 583d3b1ddd9ce5d77753e20016b81da3\n",
      "Score: 0.6516347527503967\n",
      "Trial summary\n",
      "Hyperparameters:\n",
      "num_filters_1: 32\n",
      "num_filters_2: 64\n",
      "num_filters_3: 128\n",
      "dropout_1: 0.30000000000000004\n",
      "units_1: 64\n",
      "dense_activation: tanh\n",
      "dropout_2: 0.2\n",
      "units_2: 112\n",
      "dropout_3: 0.45\n",
      "learning_rate: 0.0003367031646782763\n",
      "tuner/epochs: 20\n",
      "tuner/initial_epoch: 7\n",
      "tuner/bracket: 1\n",
      "tuner/round: 1\n",
      "tuner/trial_id: b8ab66cb5738b62773cb114c9101cfe8\n",
      "Score: 0.6505073308944702\n",
      "Trial summary\n",
      "Hyperparameters:\n",
      "num_filters_1: 32\n",
      "num_filters_2: 32\n",
      "num_filters_3: 128\n",
      "dropout_1: 0.5\n",
      "units_1: 192\n",
      "dense_activation: relu\n",
      "dropout_2: 0.1\n",
      "units_2: 96\n",
      "dropout_3: 0.0\n",
      "learning_rate: 0.0004487196447090068\n",
      "tuner/epochs: 20\n",
      "tuner/initial_epoch: 7\n",
      "tuner/bracket: 2\n",
      "tuner/round: 2\n",
      "tuner/trial_id: 93660945d9ab24e8fb7ea421d8498529\n",
      "Score: 0.6476888656616211\n",
      "Trial summary\n",
      "Hyperparameters:\n",
      "num_filters_1: 128\n",
      "num_filters_2: 128\n",
      "num_filters_3: 32\n",
      "dropout_1: 0.5\n",
      "units_1: 224\n",
      "dense_activation: tanh\n",
      "dropout_2: 0.2\n",
      "units_2: 80\n",
      "dropout_3: 0.30000000000000004\n",
      "learning_rate: 0.0016228511966086888\n",
      "tuner/epochs: 20\n",
      "tuner/initial_epoch: 0\n",
      "tuner/bracket: 0\n",
      "tuner/round: 0\n",
      "Score: 0.6454340219497681\n",
      "Trial summary\n",
      "Hyperparameters:\n",
      "num_filters_1: 64\n",
      "num_filters_2: 32\n",
      "num_filters_3: 32\n",
      "dropout_1: 0.1\n",
      "units_1: 32\n",
      "dense_activation: tanh\n",
      "dropout_2: 0.15000000000000002\n",
      "units_2: 64\n",
      "dropout_3: 0.0\n",
      "learning_rate: 0.0008564372538122577\n",
      "tuner/epochs: 20\n",
      "tuner/initial_epoch: 0\n",
      "tuner/bracket: 0\n",
      "tuner/round: 0\n",
      "Score: 0.6200676560401917\n",
      "Trial summary\n",
      "Hyperparameters:\n",
      "num_filters_1: 128\n",
      "num_filters_2: 128\n",
      "num_filters_3: 32\n",
      "dropout_1: 0.2\n",
      "units_1: 128\n",
      "dense_activation: relu\n",
      "dropout_2: 0.4\n",
      "units_2: 64\n",
      "dropout_3: 0.25\n",
      "learning_rate: 0.001266095545138909\n",
      "tuner/epochs: 7\n",
      "tuner/initial_epoch: 0\n",
      "tuner/bracket: 1\n",
      "tuner/round: 0\n",
      "Score: 0.6183765530586243\n",
      "Trial summary\n",
      "Hyperparameters:\n",
      "num_filters_1: 32\n",
      "num_filters_2: 64\n",
      "num_filters_3: 128\n",
      "dropout_1: 0.30000000000000004\n",
      "units_1: 64\n",
      "dense_activation: tanh\n",
      "dropout_2: 0.2\n",
      "units_2: 112\n",
      "dropout_3: 0.45\n",
      "learning_rate: 0.0003367031646782763\n",
      "tuner/epochs: 7\n",
      "tuner/initial_epoch: 0\n",
      "tuner/bracket: 1\n",
      "tuner/round: 0\n",
      "Score: 0.616121768951416\n",
      "Trial summary\n",
      "Hyperparameters:\n",
      "num_filters_1: 32\n",
      "num_filters_2: 128\n",
      "num_filters_3: 32\n",
      "dropout_1: 0.2\n",
      "units_1: 128\n",
      "dense_activation: relu\n",
      "dropout_2: 0.2\n",
      "units_2: 80\n",
      "dropout_3: 0.15000000000000002\n",
      "learning_rate: 0.0037661815393717703\n",
      "tuner/epochs: 7\n",
      "tuner/initial_epoch: 0\n",
      "tuner/bracket: 1\n",
      "tuner/round: 0\n",
      "Score: 0.6076663136482239\n",
      "Trial summary\n",
      "Hyperparameters:\n",
      "num_filters_1: 32\n",
      "num_filters_2: 32\n",
      "num_filters_3: 32\n",
      "dropout_1: 0.4\n",
      "units_1: 32\n",
      "dense_activation: tanh\n",
      "dropout_2: 0.2\n",
      "units_2: 128\n",
      "dropout_3: 0.1\n",
      "learning_rate: 0.004080390057565442\n",
      "tuner/epochs: 20\n",
      "tuner/initial_epoch: 7\n",
      "tuner/bracket: 2\n",
      "tuner/round: 2\n",
      "tuner/trial_id: 7f190846c1fed2d3ea7478b97066300a\n",
      "Score: 0.5969560146331787\n",
      "Trial summary\n",
      "Hyperparameters:\n",
      "num_filters_1: 128\n",
      "num_filters_2: 64\n",
      "num_filters_3: 128\n",
      "dropout_1: 0.4\n",
      "units_1: 128\n",
      "dense_activation: relu\n",
      "dropout_2: 0.2\n",
      "units_2: 64\n",
      "dropout_3: 0.35000000000000003\n",
      "learning_rate: 0.0012191274567150837\n",
      "tuner/epochs: 7\n",
      "tuner/initial_epoch: 0\n",
      "tuner/bracket: 1\n",
      "tuner/round: 0\n",
      "Score: 0.5952649116516113\n"
     ]
    }
   ],
   "source": [
    "# Show a summary of the search\n",
    "tuner.results_summary()"
   ]
  },
  {
   "cell_type": "code",
   "execution_count": 15,
   "metadata": {},
   "outputs": [],
   "source": [
    "best_hp=tuner.get_best_hyperparameters()[0]"
   ]
  },
  {
   "cell_type": "code",
   "execution_count": 16,
   "metadata": {},
   "outputs": [],
   "source": [
    "# Retrieve the best model.\n",
    "best_model = tuner.get_best_models(num_models=1)[0]"
   ]
  },
  {
   "cell_type": "code",
   "execution_count": 18,
   "metadata": {},
   "outputs": [
    {
     "name": "stdout",
     "output_type": "stream",
     "text": [
      "111/111 [==============================] - 5s 40ms/step - loss: 1.0675 - accuracy: 0.6471\n"
     ]
    }
   ],
   "source": [
    "# Evaluate the best model.\n",
    "loss, accuracy = best_model.evaluate(X_test, y_test)"
   ]
  },
  {
   "cell_type": "code",
   "execution_count": null,
   "metadata": {},
   "outputs": [],
   "source": []
  },
  {
   "cell_type": "code",
   "execution_count": null,
   "metadata": {},
   "outputs": [],
   "source": [
    "def build_model(hp):\n",
    "  inputs = tf.keras.Input(shape=(128, 128, 3))\n",
    "  x = inputs\n",
    "  for i in range(hp.Int('conv_blocks', 3, 3, default=3)):\n",
    "    filters = hp.Int('filters_' + str(i), 32, 256, step=32)\n",
    "    for _ in range(2):\n",
    "      x = tf.keras.layers.Convolution2D(\n",
    "        filters, kernel_size=(3, 3), padding='same')(x)\n",
    "      x = tf.keras.layers.BatchNormalization()(x)\n",
    "      x = tf.keras.layers.ReLU()(x)\n",
    "    if hp.Choice('pooling_' + str(i), ['avg', 'max']) == 'max':\n",
    "      x = tf.keras.layers.MaxPool2D()(x)\n",
    "    else:\n",
    "      x = tf.keras.layers.AvgPool2D()(x)\n",
    "  x = tf.keras.layers.GlobalAvgPool2D()(x)\n",
    "  x = tf.keras.layers.Dense(\n",
    "      hp.Int('hidden_size', 30, 100, step=10, default=50),\n",
    "      activation='relu')(x)\n",
    "  x = tf.keras.layers.Dropout(\n",
    "      hp.Float('dropout', 0, 0.5, step=0.1, default=0.5))(x)\n",
    "  outputs = tf.keras.layers.Dense(10, activation='softmax')(x)\n",
    "\n",
    "  model = tf.keras.Model(inputs, outputs)\n",
    "  model.compile(\n",
    "    optimizer=tf.keras.optimizers.Adam(\n",
    "      hp.Float('learning_rate', 1e-4, 1e-2, sampling='log')),\n",
    "    loss='sparse_categorical_crossentropy', \n",
    "    metrics=['accuracy'])\n",
    "  return model\n"
   ]
  },
  {
   "cell_type": "code",
   "execution_count": null,
   "metadata": {},
   "outputs": [],
   "source": [
    "import keras_tuner as kt\n",
    "\n",
    "tuner = kt.Hyperband(\n",
    "    build_model,\n",
    "    objective='val_accuracy',\n",
    "    max_epochs=30,\n",
    "    hyperband_iterations=2)"
   ]
  },
  {
   "cell_type": "code",
   "execution_count": 24,
   "metadata": {},
   "outputs": [
    {
     "name": "stdout",
     "output_type": "stream",
     "text": [
      "WARNING:tensorflow:Unresolved object in checkpoint: (root).optimizer.iter\n",
      "WARNING:tensorflow:Unresolved object in checkpoint: (root).optimizer.beta_1\n",
      "WARNING:tensorflow:Unresolved object in checkpoint: (root).optimizer.beta_2\n",
      "WARNING:tensorflow:Unresolved object in checkpoint: (root).optimizer.decay\n",
      "WARNING:tensorflow:Unresolved object in checkpoint: (root).optimizer.learning_rate\n",
      "WARNING:tensorflow:A checkpoint was restored (e.g. tf.train.Checkpoint.restore or tf.keras.Model.load_weights) but not all checkpointed values were used. See above for specific issues. Use expect_partial() on the load status object, e.g. tf.train.Checkpoint.restore(...).expect_partial(), to silence these warnings, or use assert_consumed() to make the check explicit. See https://www.tensorflow.org/guide/checkpoint#loading_mechanics for details.\n"
     ]
    }
   ],
   "source": [
    "\n",
    "model_optimizer = tf.keras.optimizers.Adam(learning_rate=0.002)\n",
    "\n",
    "best_model.compile(optimizer=model_optimizer, loss=\"sparse_categorical_crossentropy\",\n",
    "metrics=[\"accuracy\"])\n",
    "\n",
    "reduceLR = ReduceLROnPlateau(monitor='val_accuracy', \n",
    "factor=.001, \n",
    "patience=1, \n",
    "min_delta=0.01, \n",
    "mode=\"auto\")\n",
    "\n",
    "\n"
   ]
  },
  {
   "cell_type": "code",
   "execution_count": 25,
   "metadata": {},
   "outputs": [
    {
     "name": "stdout",
     "output_type": "stream",
     "text": [
      "Epoch 1/10\n",
      "388/388 [==============================] - 61s 156ms/step - loss: 0.8815 - accuracy: 0.6995 - val_loss: 1.0984 - val_accuracy: 0.6251 - lr: 0.0020\n",
      "Epoch 2/10\n",
      "388/388 [==============================] - 61s 158ms/step - loss: 0.8586 - accuracy: 0.7031 - val_loss: 1.0421 - val_accuracy: 0.6392 - lr: 0.0020\n",
      "Epoch 3/10\n",
      "388/388 [==============================] - 62s 160ms/step - loss: 0.8263 - accuracy: 0.7122 - val_loss: 1.1183 - val_accuracy: 0.6234 - lr: 0.0020\n",
      "Epoch 4/10\n",
      "388/388 [==============================] - 60s 154ms/step - loss: 0.7878 - accuracy: 0.7268 - val_loss: 1.1000 - val_accuracy: 0.6313 - lr: 2.0000e-06\n",
      "Epoch 5/10\n",
      "388/388 [==============================] - 61s 157ms/step - loss: 0.7650 - accuracy: 0.7347 - val_loss: 1.1000 - val_accuracy: 0.6313 - lr: 2.0000e-09\n",
      "Epoch 6/10\n",
      "388/388 [==============================] - 60s 155ms/step - loss: 0.7802 - accuracy: 0.7258 - val_loss: 1.1000 - val_accuracy: 0.6313 - lr: 2.0000e-12\n",
      "Epoch 7/10\n",
      "388/388 [==============================] - 60s 153ms/step - loss: 0.7771 - accuracy: 0.7299 - val_loss: 1.1000 - val_accuracy: 0.6313 - lr: 2.0000e-15\n",
      "Epoch 8/10\n",
      "388/388 [==============================] - 61s 157ms/step - loss: 0.7647 - accuracy: 0.7325 - val_loss: 1.1000 - val_accuracy: 0.6313 - lr: 2.0000e-18\n",
      "Epoch 9/10\n",
      "388/388 [==============================] - 62s 159ms/step - loss: 0.7656 - accuracy: 0.7307 - val_loss: 1.1000 - val_accuracy: 0.6313 - lr: 2.0000e-21\n",
      "Epoch 10/10\n",
      "388/388 [==============================] - 62s 159ms/step - loss: 0.7748 - accuracy: 0.7256 - val_loss: 1.1000 - val_accuracy: 0.6313 - lr: 2.0000e-24\n"
     ]
    }
   ],
   "source": [
    "hist_simple_model2 = best_model.fit(X_train, y_train, epochs=10,\n",
    "validation_data=(X_valid, y_valid),\n",
    "callbacks=[reduceLR])"
   ]
  },
  {
   "cell_type": "code",
   "execution_count": null,
   "metadata": {},
   "outputs": [],
   "source": [
    "tuner.search(X_train, y_train,\n",
    "             validation_data=(X_valid, y_valid),\n",
    "             epochs=20,\n",
    "             callbacks=[tf.keras.callbacks.EarlyStopping(patience=1)])"
   ]
  },
  {
   "cell_type": "code",
   "execution_count": 26,
   "metadata": {},
   "outputs": [
    {
     "data": {
      "image/png": "[encoded data removed]",
      "text/plain": [
       "<Figure size 1080x1080 with 1 Axes>"
      ]
     },
     "metadata": {},
     "output_type": "display_data"
    }
   ],
   "source": [
    "pd.DataFrame(hist_simple_model2.history).plot(figsize=(15, 15))\n",
    "plt.grid(True)\n",
    "plt.gca().set_ylim(0, 2) # set the vertical range to [0-2]\n",
    "plt.show()"
   ]
  },
  {
   "cell_type": "code",
   "execution_count": 29,
   "metadata": {},
   "outputs": [],
   "source": [
    "#y_test = np.argmax(y_test,axis=1)\n",
    "predict = best_model.predict(X_test).argmax(axis=1)\n"
   ]
  },
  {
   "cell_type": "code",
   "execution_count": 30,
   "metadata": {},
   "outputs": [
    {
     "name": "stdout",
     "output_type": "stream",
     "text": [
      "              precision    recall  f1-score   support\n",
      "\n",
      "           0       0.58      0.59      0.59       393\n",
      "           1       0.54      0.28      0.37        68\n",
      "           2       0.17      0.00      0.01       218\n",
      "           3       0.69      0.84      0.76       378\n",
      "           4       0.83      0.70      0.76       279\n",
      "           5       0.63      0.64      0.64       380\n",
      "           6       0.81      0.86      0.83       563\n",
      "           7       0.64      0.80      0.71       399\n",
      "           8       0.47      0.43      0.45       516\n",
      "           9       0.51      0.65      0.57       354\n",
      "\n",
      "    accuracy                           0.64      3548\n",
      "   macro avg       0.59      0.58      0.57      3548\n",
      "weighted avg       0.61      0.64      0.62      3548\n",
      "\n"
     ]
    }
   ],
   "source": [
    "#encoder = LabelEncoder()\n",
    "#y_test = encoder.fit_transform(y_test)\n",
    "#predict = encoder.fit_transform(predict)\n",
    "\n",
    "print(classification_report(y_test, predict))"
   ]
  },
  {
   "cell_type": "code",
   "execution_count": 32,
   "metadata": {},
   "outputs": [
    {
     "data": {
      "image/png": "[encoded data removed]",
      "text/plain": [
       "<Figure size 864x864 with 2 Axes>"
      ]
     },
     "metadata": {},
     "output_type": "display_data"
    }
   ],
   "source": [
    "cfm = confusion_matrix(y_test, predict)\n",
    "visualize_simple.cfm_heatmap(cfm, figsize=(12,12), scale='rowwise', vmax= 0.8)"
   ]
  },
  {
   "cell_type": "code",
   "execution_count": null,
   "metadata": {},
   "outputs": [],
   "source": []
  }
 ],
 "metadata": {
  "interpreter": {
   "hash": "d031ad01bed61ded824456c2d8715b797c0f37e7c3a3e3c3c540f3dac9fb955e"
  },
  "kernelspec": {
   "display_name": "Python 3.8.1 64-bit ('hu-deeplearning-lSm0EZYV-py3.8': venv)",
   "language": "python",
   "name": "python3"
  },
  "language_info": {
   "codemirror_mode": {
    "name": "ipython",
    "version": 3
   },
   "file_extension": ".py",
   "mimetype": "text/x-python",
   "name": "python",
   "nbconvert_exporter": "python",
   "pygments_lexer": "ipython3",
   "version": "3.8.1"
  },
  "orig_nbformat": 4
 },
 "nbformat": 4,
 "nbformat_minor": 2
}
