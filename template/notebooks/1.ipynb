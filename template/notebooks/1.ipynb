{
 "cells": [
  {
   "cell_type": "code",
   "execution_count": 1,
   "metadata": {},
   "outputs": [
    {
     "name": "stdout",
     "output_type": "stream",
     "text": [
      "Requirement already satisfied: opencv-python in c:\\users\\hjtfs\\appdata\\local\\pypoetry\\cache\\virtualenvs\\hu-deeplearning-lsm0ezyv-py3.8\\lib\\site-packages (4.5.5.62)\n",
      "Requirement already satisfied: numpy>=1.17.3 in c:\\users\\hjtfs\\appdata\\local\\pypoetry\\cache\\virtualenvs\\hu-deeplearning-lsm0ezyv-py3.8\\lib\\site-packages (from opencv-python) (1.21.4)\n",
      "Collecting git+https://github.com/henrysky/astroNN.git\n",
      "  Cloning https://github.com/henrysky/astroNN.git to c:\\users\\hjtfs\\appdata\\local\\temp\\pip-req-build-ztyq6gte\n",
      "  Resolved https://github.com/henrysky/astroNN.git to commit a8358137f09bf964ec34faa2a19d2efc1d7c3557\n",
      "  Preparing metadata (setup.py): started\n",
      "  Preparing metadata (setup.py): finished with status 'done'\n",
      "Requirement already satisfied: numpy in c:\\users\\hjtfs\\appdata\\local\\pypoetry\\cache\\virtualenvs\\hu-deeplearning-lsm0ezyv-py3.8\\lib\\site-packages (from astroNN==1.1.dev0) (1.21.4)\n",
      "Requirement already satisfied: astropy in c:\\users\\hjtfs\\appdata\\local\\pypoetry\\cache\\virtualenvs\\hu-deeplearning-lsm0ezyv-py3.8\\lib\\site-packages (from astroNN==1.1.dev0) (5.0)\n",
      "Requirement already satisfied: h5py in c:\\users\\hjtfs\\appdata\\local\\pypoetry\\cache\\virtualenvs\\hu-deeplearning-lsm0ezyv-py3.8\\lib\\site-packages (from astroNN==1.1.dev0) (3.6.0)\n",
      "Requirement already satisfied: matplotlib in c:\\users\\hjtfs\\appdata\\local\\pypoetry\\cache\\virtualenvs\\hu-deeplearning-lsm0ezyv-py3.8\\lib\\site-packages (from astroNN==1.1.dev0) (3.5.1)\n",
      "Requirement already satisfied: astroquery in c:\\users\\hjtfs\\appdata\\local\\pypoetry\\cache\\virtualenvs\\hu-deeplearning-lsm0ezyv-py3.8\\lib\\site-packages (from astroNN==1.1.dev0) (0.4.5)\n",
      "Requirement already satisfied: pandas in c:\\users\\hjtfs\\appdata\\local\\pypoetry\\cache\\virtualenvs\\hu-deeplearning-lsm0ezyv-py3.8\\lib\\site-packages (from astroNN==1.1.dev0) (1.3.4)\n",
      "Requirement already satisfied: scikit-learn in c:\\users\\hjtfs\\appdata\\local\\pypoetry\\cache\\virtualenvs\\hu-deeplearning-lsm0ezyv-py3.8\\lib\\site-packages (from astroNN==1.1.dev0) (1.0.1)\n",
      "Requirement already satisfied: tqdm in c:\\users\\hjtfs\\appdata\\local\\pypoetry\\cache\\virtualenvs\\hu-deeplearning-lsm0ezyv-py3.8\\lib\\site-packages (from astroNN==1.1.dev0) (4.62.3)\n",
      "Requirement already satisfied: packaging in c:\\users\\hjtfs\\appdata\\local\\pypoetry\\cache\\virtualenvs\\hu-deeplearning-lsm0ezyv-py3.8\\lib\\site-packages (from astroNN==1.1.dev0) (21.3)\n",
      "Requirement already satisfied: pyerfa>=2.0 in c:\\users\\hjtfs\\appdata\\local\\pypoetry\\cache\\virtualenvs\\hu-deeplearning-lsm0ezyv-py3.8\\lib\\site-packages (from astropy->astroNN==1.1.dev0) (2.0.0.1)\n",
      "Requirement already satisfied: PyYAML>=3.13 in c:\\users\\hjtfs\\appdata\\local\\pypoetry\\cache\\virtualenvs\\hu-deeplearning-lsm0ezyv-py3.8\\lib\\site-packages (from astropy->astroNN==1.1.dev0) (6.0)\n",
      "Requirement already satisfied: pyparsing!=3.0.5,>=2.0.2 in c:\\users\\hjtfs\\appdata\\local\\pypoetry\\cache\\virtualenvs\\hu-deeplearning-lsm0ezyv-py3.8\\lib\\site-packages (from packaging->astroNN==1.1.dev0) (3.0.6)\n",
      "Requirement already satisfied: keyring>=4.0 in c:\\users\\hjtfs\\appdata\\local\\pypoetry\\cache\\virtualenvs\\hu-deeplearning-lsm0ezyv-py3.8\\lib\\site-packages (from astroquery->astroNN==1.1.dev0) (23.5.0)\n",
      "Requirement already satisfied: beautifulsoup4>=4.3.2 in c:\\users\\hjtfs\\appdata\\local\\pypoetry\\cache\\virtualenvs\\hu-deeplearning-lsm0ezyv-py3.8\\lib\\site-packages (from astroquery->astroNN==1.1.dev0) (4.10.0)\n",
      "Requirement already satisfied: pyvo>=1.1 in c:\\users\\hjtfs\\appdata\\local\\pypoetry\\cache\\virtualenvs\\hu-deeplearning-lsm0ezyv-py3.8\\lib\\site-packages (from astroquery->astroNN==1.1.dev0) (1.2.1)\n",
      "Requirement already satisfied: html5lib>=0.999 in c:\\users\\hjtfs\\appdata\\local\\pypoetry\\cache\\virtualenvs\\hu-deeplearning-lsm0ezyv-py3.8\\lib\\site-packages (from astroquery->astroNN==1.1.dev0) (1.1)\n",
      "Requirement already satisfied: requests>=2.4.3 in c:\\users\\hjtfs\\appdata\\local\\pypoetry\\cache\\virtualenvs\\hu-deeplearning-lsm0ezyv-py3.8\\lib\\site-packages (from astroquery->astroNN==1.1.dev0) (2.26.0)\n",
      "Requirement already satisfied: kiwisolver>=1.0.1 in c:\\users\\hjtfs\\appdata\\local\\pypoetry\\cache\\virtualenvs\\hu-deeplearning-lsm0ezyv-py3.8\\lib\\site-packages (from matplotlib->astroNN==1.1.dev0) (1.3.2)\n",
      "Requirement already satisfied: cycler>=0.10 in c:\\users\\hjtfs\\appdata\\local\\pypoetry\\cache\\virtualenvs\\hu-deeplearning-lsm0ezyv-py3.8\\lib\\site-packages (from matplotlib->astroNN==1.1.dev0) (0.11.0)\n",
      "Requirement already satisfied: pillow>=6.2.0 in c:\\users\\hjtfs\\appdata\\local\\pypoetry\\cache\\virtualenvs\\hu-deeplearning-lsm0ezyv-py3.8\\lib\\site-packages (from matplotlib->astroNN==1.1.dev0) (8.4.0)\n",
      "Requirement already satisfied: fonttools>=4.22.0 in c:\\users\\hjtfs\\appdata\\local\\pypoetry\\cache\\virtualenvs\\hu-deeplearning-lsm0ezyv-py3.8\\lib\\site-packages (from matplotlib->astroNN==1.1.dev0) (4.28.3)\n",
      "Requirement already satisfied: python-dateutil>=2.7 in c:\\users\\hjtfs\\appdata\\local\\pypoetry\\cache\\virtualenvs\\hu-deeplearning-lsm0ezyv-py3.8\\lib\\site-packages (from matplotlib->astroNN==1.1.dev0) (2.8.2)\n",
      "Requirement already satisfied: pytz>=2017.3 in c:\\users\\hjtfs\\appdata\\local\\pypoetry\\cache\\virtualenvs\\hu-deeplearning-lsm0ezyv-py3.8\\lib\\site-packages (from pandas->astroNN==1.1.dev0) (2021.3)\n",
      "Requirement already satisfied: scipy>=1.1.0 in c:\\users\\hjtfs\\appdata\\local\\pypoetry\\cache\\virtualenvs\\hu-deeplearning-lsm0ezyv-py3.8\\lib\\site-packages (from scikit-learn->astroNN==1.1.dev0) (1.7.3)\n",
      "Requirement already satisfied: threadpoolctl>=2.0.0 in c:\\users\\hjtfs\\appdata\\local\\pypoetry\\cache\\virtualenvs\\hu-deeplearning-lsm0ezyv-py3.8\\lib\\site-packages (from scikit-learn->astroNN==1.1.dev0) (3.0.0)\n",
      "Requirement already satisfied: joblib>=0.11 in c:\\users\\hjtfs\\appdata\\local\\pypoetry\\cache\\virtualenvs\\hu-deeplearning-lsm0ezyv-py3.8\\lib\\site-packages (from scikit-learn->astroNN==1.1.dev0) (1.1.0)\n",
      "Requirement already satisfied: colorama in c:\\users\\hjtfs\\appdata\\local\\pypoetry\\cache\\virtualenvs\\hu-deeplearning-lsm0ezyv-py3.8\\lib\\site-packages (from tqdm->astroNN==1.1.dev0) (0.4.4)\n",
      "Requirement already satisfied: soupsieve>1.2 in c:\\users\\hjtfs\\appdata\\local\\pypoetry\\cache\\virtualenvs\\hu-deeplearning-lsm0ezyv-py3.8\\lib\\site-packages (from beautifulsoup4>=4.3.2->astroquery->astroNN==1.1.dev0) (2.3.1)\n",
      "Requirement already satisfied: webencodings in c:\\users\\hjtfs\\appdata\\local\\pypoetry\\cache\\virtualenvs\\hu-deeplearning-lsm0ezyv-py3.8\\lib\\site-packages (from html5lib>=0.999->astroquery->astroNN==1.1.dev0) (0.5.1)\n",
      "Requirement already satisfied: six>=1.9 in c:\\users\\hjtfs\\appdata\\local\\pypoetry\\cache\\virtualenvs\\hu-deeplearning-lsm0ezyv-py3.8\\lib\\site-packages (from html5lib>=0.999->astroquery->astroNN==1.1.dev0) (1.16.0)\n",
      "Requirement already satisfied: importlib-metadata>=3.6 in c:\\users\\hjtfs\\appdata\\local\\pypoetry\\cache\\virtualenvs\\hu-deeplearning-lsm0ezyv-py3.8\\lib\\site-packages (from keyring>=4.0->astroquery->astroNN==1.1.dev0) (4.8.2)\n",
      "Requirement already satisfied: pywin32-ctypes!=0.1.0,!=0.1.1 in c:\\users\\hjtfs\\appdata\\local\\pypoetry\\cache\\virtualenvs\\hu-deeplearning-lsm0ezyv-py3.8\\lib\\site-packages (from keyring>=4.0->astroquery->astroNN==1.1.dev0) (0.2.0)\n",
      "Requirement already satisfied: idna<4,>=2.5 in c:\\users\\hjtfs\\appdata\\local\\pypoetry\\cache\\virtualenvs\\hu-deeplearning-lsm0ezyv-py3.8\\lib\\site-packages (from requests>=2.4.3->astroquery->astroNN==1.1.dev0) (3.3)\n",
      "Requirement already satisfied: charset-normalizer~=2.0.0 in c:\\users\\hjtfs\\appdata\\local\\pypoetry\\cache\\virtualenvs\\hu-deeplearning-lsm0ezyv-py3.8\\lib\\site-packages (from requests>=2.4.3->astroquery->astroNN==1.1.dev0) (2.0.9)\n",
      "Requirement already satisfied: certifi>=2017.4.17 in c:\\users\\hjtfs\\appdata\\local\\pypoetry\\cache\\virtualenvs\\hu-deeplearning-lsm0ezyv-py3.8\\lib\\site-packages (from requests>=2.4.3->astroquery->astroNN==1.1.dev0) (2021.10.8)\n",
      "Requirement already satisfied: urllib3<1.27,>=1.21.1 in c:\\users\\hjtfs\\appdata\\local\\pypoetry\\cache\\virtualenvs\\hu-deeplearning-lsm0ezyv-py3.8\\lib\\site-packages (from requests>=2.4.3->astroquery->astroNN==1.1.dev0) (1.26.7)\n",
      "Requirement already satisfied: zipp>=0.5 in c:\\users\\hjtfs\\appdata\\local\\pypoetry\\cache\\virtualenvs\\hu-deeplearning-lsm0ezyv-py3.8\\lib\\site-packages (from importlib-metadata>=3.6->keyring>=4.0->astroquery->astroNN==1.1.dev0) (3.6.0)\n"
     ]
    },
    {
     "name": "stderr",
     "output_type": "stream",
     "text": [
      "  Running command git clone --filter=blob:none -q https://github.com/henrysky/astroNN.git 'C:\\Users\\hjtfs\\AppData\\Local\\Temp\\pip-req-build-ztyq6gte'\n"
     ]
    },
    {
     "data": {
      "text/plain": [
       "['..',\n",
       " 'c:\\\\Users\\\\hjtfs\\\\ML_Huub\\\\HuubS_ML_Opdracht\\\\template\\\\notebooks',\n",
       " 'c:\\\\Users\\\\hjtfs\\\\.vscode\\\\extensions\\\\ms-toolsai.jupyter-2021.11.1001550889\\\\pythonFiles',\n",
       " 'c:\\\\Users\\\\hjtfs\\\\.vscode\\\\extensions\\\\ms-toolsai.jupyter-2021.11.1001550889\\\\pythonFiles\\\\lib\\\\python',\n",
       " 'C:\\\\Users\\\\hjtfs\\\\.pyenv\\\\pyenv-win\\\\versions\\\\3.8.1\\\\python38.zip',\n",
       " 'C:\\\\Users\\\\hjtfs\\\\.pyenv\\\\pyenv-win\\\\versions\\\\3.8.1\\\\DLLs',\n",
       " 'C:\\\\Users\\\\hjtfs\\\\.pyenv\\\\pyenv-win\\\\versions\\\\3.8.1\\\\lib',\n",
       " 'C:\\\\Users\\\\hjtfs\\\\.pyenv\\\\pyenv-win\\\\versions\\\\3.8.1',\n",
       " 'C:\\\\Users\\\\hjtfs\\\\AppData\\\\Local\\\\pypoetry\\\\Cache\\\\virtualenvs\\\\hu-deeplearning-lSm0EZYV-py3.8',\n",
       " '',\n",
       " 'C:\\\\Users\\\\hjtfs\\\\AppData\\\\Local\\\\pypoetry\\\\Cache\\\\virtualenvs\\\\hu-deeplearning-lSm0EZYV-py3.8\\\\lib\\\\site-packages',\n",
       " 'C:\\\\Users\\\\hjtfs\\\\AppData\\\\Local\\\\pypoetry\\\\Cache\\\\virtualenvs\\\\hu-deeplearning-lSm0EZYV-py3.8\\\\lib\\\\site-packages\\\\win32',\n",
       " 'C:\\\\Users\\\\hjtfs\\\\AppData\\\\Local\\\\pypoetry\\\\Cache\\\\virtualenvs\\\\hu-deeplearning-lSm0EZYV-py3.8\\\\lib\\\\site-packages\\\\win32\\\\lib',\n",
       " 'C:\\\\Users\\\\hjtfs\\\\AppData\\\\Local\\\\pypoetry\\\\Cache\\\\virtualenvs\\\\hu-deeplearning-lSm0EZYV-py3.8\\\\lib\\\\site-packages\\\\Pythonwin',\n",
       " 'C:\\\\Users\\\\hjtfs\\\\AppData\\\\Local\\\\pypoetry\\\\Cache\\\\virtualenvs\\\\hu-deeplearning-lSm0EZYV-py3.8\\\\lib\\\\site-packages\\\\IPython\\\\extensions',\n",
       " 'C:\\\\Users\\\\hjtfs\\\\.ipython']"
      ]
     },
     "execution_count": 1,
     "metadata": {},
     "output_type": "execute_result"
    }
   ],
   "source": [
    "%load_ext autoreload\n",
    "%autoreload 2\n",
    "\n",
    "#cv2\n",
    "!pip install opencv-python \n",
    "# astroNN\n",
    "!pip install git+https://github.com/henrysky/astroNN.git \n",
    "\n",
    "from astroNN.datasets.galaxy10 import galaxy10cls_lookup\n",
    "from pathlib import Path\n",
    "#import seaborn as sns\n",
    "#import pandas as pd\n",
    "import os\n",
    "import h5py\n",
    "#import tarfile\n",
    "from loguru import logger\n",
    "import numpy as np\n",
    "import cv2\n",
    "import tensorflow as tf\n",
    "#from tensorflow.keras import utils\n",
    "#import matplotlib.image\n",
    "#import matplotlib.pyplot as plt\n",
    "#from random import choice\n",
    "from tqdm import tqdm\n",
    "\n",
    "sys.path.insert(0, \"..\")\n",
    "sys.path"
   ]
  },
  {
   "cell_type": "code",
   "execution_count": 4,
   "metadata": {},
   "outputs": [],
   "source": [
    "datadir_raw = Path(\"../data/raw\")\n",
    "\n"
   ]
  },
  {
   "cell_type": "code",
   "execution_count": null,
   "metadata": {},
   "outputs": [],
   "source": []
  },
  {
   "cell_type": "code",
   "execution_count": 5,
   "metadata": {},
   "outputs": [],
   "source": [
    "def get_raw_data(\n",
    "    #data_dir: datadir_raw,\n",
    "    datadir_raw,\n",
    "    url: str = \"https://astro.utoronto.ca/~hleung/shared/Galaxy10/Galaxy10_DECals.h5\",  \n",
    ") -> None:\n",
    "    if not datadir_raw.exists():\n",
    "        datadir_raw.mkdir(parents=True)\n",
    "        logger.info(f\"Creating folder {data_dir}\")\n",
    "    if (datadir_raw / \"Galaxy10_decals.h5\").exists():\n",
    "        logger.info(f\"found Galaxy10_decals.h5 in {datadir_raw}, not downloading again\")\n",
    "    else:\n",
    "        logger.info(f\"Data not present in {datadir_raw}, downloading from url\")\n",
    "        datadir_raw.mkdir(parents=True, exist_ok=True)\n",
    "        tf.keras.utils.get_file(\n",
    "            origin=url,\n",
    "            fname=\"Galaxy10_decals.h5\",\n",
    "            cache_dir=datadir_raw,\n",
    "            cache_subdir=\"\",\n",
    "            extract=True,\n",
    "        )\n",
    "       \n"
   ]
  },
  {
   "cell_type": "code",
   "execution_count": 6,
   "metadata": {},
   "outputs": [
    {
     "name": "stderr",
     "output_type": "stream",
     "text": [
      "2022-01-27 09:19:59.675 | INFO     | __main__:get_raw_data:12 - Data not present in ..\\data\\raw, downloading from url\n"
     ]
    },
    {
     "name": "stdout",
     "output_type": "stream",
     "text": [
      "Downloading data from https://astro.utoronto.ca/~hleung/shared/Galaxy10/Galaxy10_DECals.h5\n",
      "2735267840/2735267419 [==============================] - 112s 0us/step\n",
      "2735276032/2735267419 [==============================] - 112s 0us/step\n"
     ]
    }
   ],
   "source": [
    "\n",
    "get_raw_data(datadir_raw) # takes a few minutes 2.6 GB\n",
    "\n",
    "\n",
    "\n",
    "\n",
    "\n",
    "\n",
    "\n"
   ]
  },
  {
   "cell_type": "code",
   "execution_count": 25,
   "metadata": {},
   "outputs": [
    {
     "name": "stdout",
     "output_type": "stream",
     "text": [
      "keys in file: ans, dec, images, pxscale, ra, redshift\n"
     ]
    }
   ],
   "source": [
    "\n",
    "\n",
    "\n",
    "\n",
    "\n",
    "hf = h5py.File(datadir_raw /\"Galaxy10_decals.h5\", 'r')\n",
    "key_list = list(hf.keys())\n",
    "print (\"keys in file: \" + ', '.join(key_list))\n",
    "\n",
    "\n",
    "\n",
    "\n",
    "\n"
   ]
  },
  {
   "cell_type": "code",
   "execution_count": 29,
   "metadata": {},
   "outputs": [
    {
     "name": "stdout",
     "output_type": "stream",
     "text": [
      "number per label:\n",
      "(array([0, 1, 2, 3, 4, 5, 6, 7, 8, 9], dtype=uint8), array([1081, 1853, 2645, 2027,  334, 2043, 1829, 2628, 1423, 1873],\n",
      "      dtype=int64))\n"
     ]
    }
   ],
   "source": [
    "images = np.array(hf['images'])\n",
    "labels = np.array(hf['ans'])\n",
    "\n",
    "counts = np.unique(labels, return_counts=True)\n",
    "print(\"number per label:\")\n",
    "print (counts)\n",
    "\n"
   ]
  },
  {
   "cell_type": "code",
   "execution_count": 30,
   "metadata": {},
   "outputs": [],
   "source": [
    "unique_labels = list(set(labels))\n",
    "\n",
    "def sub_folders(\n",
    "    \n",
    "     \n",
    ") -> None:\n",
    "\n",
    "    galaxy_types = []\n",
    "    for j in unique_labels:\n",
    "        names = galaxy10cls_lookup(j)\n",
    "        galaxy_types.append(names)\n",
    "\n",
    "    print(galaxy_types)"
   ]
  },
  {
   "cell_type": "code",
   "execution_count": 117,
   "metadata": {},
   "outputs": [],
   "source": [
    "datadir_processed = Path(\"../data/processed\")\n",
    "\n",
    "#unique_labels = list(set(labels))\n",
    "\n",
    "#galaxy_types = []\n",
    "#for j in unique_labels:\n",
    "#    names = galaxy10cls_lookup(j)\n",
    "#    galaxy_types.append(names)\n",
    "#logger.info(f\"Galaxy labels:{galaxy_types}\")\n",
    "\n",
    "\n",
    "\n",
    "def sub_folders(\n",
    "    datadir_processed\n",
    "     \n",
    ") -> None:\n",
    "    hf = h5py.File(datadir_raw /\"Galaxy10_decals.h5\", 'r')\n",
    "    \n",
    "    if not datadir_processed.exists(): # check to see if processed folder exists\n",
    "        datadir_processed.mkdir(parents=True)\n",
    "        logger.info(f\"Creating folder {datadir_processed}\")\n",
    "    else:\n",
    "        logger.info(f\"Main folder {datadir_processed} allready exists\")\n",
    "    for x in galaxy_types:\n",
    "        subfolder = os.path.join(datadir_processed, x)\n",
    "\n",
    "        if not (datadir_processed / x).exists():\n",
    "            os.mkdir(subfolder)\n",
    "            logger.info(f\"Creating subfolder {subfolder}\")\n",
    "        else:\n",
    "            logger.info(f\"Subfolder {subfolder} allready exists\")\n",
    "\n",
    "\n",
    "#galaxy_types = []\n",
    "#for j in unique_labels:\n",
    " #   names = galaxy10cls_lookup(j)\n",
    "  #  galaxy_types.append(names)\n",
    "\n",
    "    \n",
    "\n",
    "# datadir_processed = Path(\"../data/processed\")\n",
    "#if not datadir_processed.exists():\n",
    " #       datadir_processed.mkdir(parents=True)\n",
    "  #      logger.info(f\"Creating folder {datadir_processed}\")\n",
    "\n",
    "#for x in galaxy_types:\n",
    " #   subfolder = os.path.join(datadir_processed, x)\n",
    "  #  os.mkdir(subfolder)\n",
    "   # logger.info(f\"Creating subfolder {subfolder}\")\n",
    "    \n",
    "\n",
    "\n",
    "\n",
    "\n"
   ]
  },
  {
   "cell_type": "code",
   "execution_count": 38,
   "metadata": {},
   "outputs": [
    {
     "name": "stderr",
     "output_type": "stream",
     "text": [
      "2022-01-27 09:48:33.081 | INFO     | __main__:sub_folders:23 - Main folder ..\\data\\processed allready exists\n",
      "2022-01-27 09:48:33.082 | INFO     | __main__:sub_folders:31 - Subfolder ..\\data\\processed\\Disturbed allready exists\n",
      "2022-01-27 09:48:33.082 | INFO     | __main__:sub_folders:31 - Subfolder ..\\data\\processed\\Merging allready exists\n",
      "2022-01-27 09:48:33.083 | INFO     | __main__:sub_folders:31 - Subfolder ..\\data\\processed\\Round Smooth allready exists\n",
      "2022-01-27 09:48:33.083 | INFO     | __main__:sub_folders:31 - Subfolder ..\\data\\processed\\Smooth, Cigar shaped allready exists\n",
      "2022-01-27 09:48:33.083 | INFO     | __main__:sub_folders:31 - Subfolder ..\\data\\processed\\Cigar Shaped Smooth allready exists\n",
      "2022-01-27 09:48:33.084 | INFO     | __main__:sub_folders:31 - Subfolder ..\\data\\processed\\Barred Spiral allready exists\n",
      "2022-01-27 09:48:33.084 | INFO     | __main__:sub_folders:31 - Subfolder ..\\data\\processed\\Unbarred Tight Spiral allready exists\n",
      "2022-01-27 09:48:33.085 | INFO     | __main__:sub_folders:31 - Subfolder ..\\data\\processed\\Unbarred Loose Spiral allready exists\n",
      "2022-01-27 09:48:33.085 | INFO     | __main__:sub_folders:31 - Subfolder ..\\data\\processed\\Edge-on without Bulge allready exists\n",
      "2022-01-27 09:48:33.086 | INFO     | __main__:sub_folders:31 - Subfolder ..\\data\\processed\\Edge-on with Bulge allready exists\n"
     ]
    }
   ],
   "source": [
    "\n",
    "\n",
    "\n",
    "\n",
    "\n",
    "\n"
   ]
  },
  {
   "cell_type": "code",
   "execution_count": 41,
   "metadata": {},
   "outputs": [
    {
     "name": "stderr",
     "output_type": "stream",
     "text": [
      "2022-01-27 09:49:16.145 | INFO     | __main__:sub_folders:23 - Main folder ..\\data\\processed allready exists\n",
      "2022-01-27 09:49:16.146 | INFO     | __main__:sub_folders:31 - Subfolder ..\\data\\processed\\Disturbed allready exists\n",
      "2022-01-27 09:49:16.146 | INFO     | __main__:sub_folders:31 - Subfolder ..\\data\\processed\\Merging allready exists\n",
      "2022-01-27 09:49:16.147 | INFO     | __main__:sub_folders:31 - Subfolder ..\\data\\processed\\Round Smooth allready exists\n",
      "2022-01-27 09:49:16.147 | INFO     | __main__:sub_folders:31 - Subfolder ..\\data\\processed\\Smooth, Cigar shaped allready exists\n",
      "2022-01-27 09:49:16.148 | INFO     | __main__:sub_folders:31 - Subfolder ..\\data\\processed\\Cigar Shaped Smooth allready exists\n",
      "2022-01-27 09:49:16.148 | INFO     | __main__:sub_folders:31 - Subfolder ..\\data\\processed\\Barred Spiral allready exists\n",
      "2022-01-27 09:49:16.149 | INFO     | __main__:sub_folders:31 - Subfolder ..\\data\\processed\\Unbarred Tight Spiral allready exists\n",
      "2022-01-27 09:49:16.149 | INFO     | __main__:sub_folders:31 - Subfolder ..\\data\\processed\\Unbarred Loose Spiral allready exists\n",
      "2022-01-27 09:49:16.150 | INFO     | __main__:sub_folders:31 - Subfolder ..\\data\\processed\\Edge-on without Bulge allready exists\n",
      "2022-01-27 09:49:16.150 | INFO     | __main__:sub_folders:31 - Subfolder ..\\data\\processed\\Edge-on with Bulge allready exists\n"
     ]
    }
   ],
   "source": [
    "sub_folders(datadir_processed) \n",
    "#for x in galaxy_types:\n",
    " #   subfolder = os.path.join(datadir_processed, x)\n",
    "    #if not subfolder.exists(): # check to see if subfolder exists\n",
    "  #  os.mkdir(subfolder)\n",
    "   # logger.info(f\"Creating subfolder {subfolder}\")\n",
    "    #else:\n",
    "     #logger.info(f\"{subfolder} exists\")"
   ]
  },
  {
   "cell_type": "code",
   "execution_count": 141,
   "metadata": {},
   "outputs": [],
   "source": [
    "\n",
    "\n",
    "\n",
    "#datadir_processed = Path(\"../data/processed/\")\n",
    "#data_dir = datadir_processed\n",
    "\n",
    "def process_data(\n",
    "     \n",
    ") -> None:\n",
    "\n",
    "    count_images(printcount='n')\n",
    "     # to check if files allready exist\n",
    "    rows = images.shape[0] # number of images in hf file\n",
    "\n",
    "\n",
    "    \n",
    "    with hf:\n",
    "\n",
    "        if not Count_images.Total==17736:\n",
    "            logger.info(f\"Unpacking images\")\n",
    "    #print(rows)\n",
    "            for i in tqdm(range(h5f['images'].shape[0])):\n",
    "                img_arr = h5f['images'][i,:]   \n",
    "                img_arr_rs = cv2.resize(img_arr, (64, 64) ) # resize image to save space/memory\n",
    "\n",
    "        #j = labels[i] # get label of image\n",
    "                k = galaxy_types[labels[i]] # get type of galaxy\n",
    "        #k = 'Disturbed'\n",
    "        \n",
    "                save_folder = os.path.join(datadir_processed, k) # determine correct subfolder\n",
    "        \n",
    "                cv2.imwrite(save_folder + '/' + f'img_{i:03}.jpg',img_arr_rs) # save image to correct subfolder\n",
    "\n",
    "        else:\n",
    "            logger.info(f\"Data allready exists\")\n",
    "    try:\n",
    "        (datadir_raw / \"Galaxy10_decals.h5\").unlink() \n",
    "    except:\n",
    "        print(\"Galaxy10_decals.h5 doesn't exist, no deletion necessary\")\n",
    "      \n",
    "\n",
    "\n",
    "\n",
    "\n",
    "\n"
   ]
  },
  {
   "cell_type": "code",
   "execution_count": 137,
   "metadata": {},
   "outputs": [],
   "source": [
    "\n",
    "\n",
    "def count_images(\n",
    "         printcount\n",
    ") -> None:\n",
    "\n",
    "    Total_images = 0\n",
    "    \n",
    "    for i in range(len(galaxy_types)):\n",
    "        k = galaxy_types[i]\n",
    "        save_folder = os.path.join(datadir_processed, k)\n",
    "    \n",
    "        for (root,dirs,files) in os.walk(save_folder, topdown=False):\n",
    "        \n",
    "            if len(files)>0:\n",
    "                Nfiles=len(files)\n",
    "                Total_images = Total_images + Nfiles\n",
    "                if printcount == 'y':\n",
    "                    print(k + ' ' + str(Nfiles))\n",
    "    if printcount == 'y':\n",
    "        print('Total number of images: ' + str(Total_images))\n",
    "    count_images.Total = Total_images\n",
    "\n",
    "\n"
   ]
  },
  {
   "cell_type": "code",
   "execution_count": 138,
   "metadata": {},
   "outputs": [
    {
     "name": "stdout",
     "output_type": "stream",
     "text": [
      "Disturbed 1081\n",
      "Merging 1853\n",
      "Round Smooth 2645\n",
      "Smooth, Cigar shaped 2027\n",
      "Cigar Shaped Smooth 334\n",
      "Barred Spiral 2043\n",
      "Unbarred Tight Spiral 1829\n",
      "Unbarred Loose Spiral 2628\n",
      "Edge-on without Bulge 1423\n",
      "Edge-on with Bulge 1873\n",
      "Total number of images: 17736\n"
     ]
    }
   ],
   "source": [
    "printcount = ''\n",
    "count_images(printcount='y')\n"
   ]
  },
  {
   "cell_type": "code",
   "execution_count": 142,
   "metadata": {},
   "outputs": [
    {
     "name": "stderr",
     "output_type": "stream",
     "text": [
      "2022-01-27 10:34:58.765 | INFO     | __main__:process_data:32 - Data allready exists\n"
     ]
    },
    {
     "name": "stdout",
     "output_type": "stream",
     "text": [
      "Galaxy10_decals.h5 doesn't exist, no deletion necessary\n"
     ]
    }
   ],
   "source": [
    "process_data()"
   ]
  },
  {
   "cell_type": "code",
   "execution_count": null,
   "metadata": {},
   "outputs": [],
   "source": []
  },
  {
   "cell_type": "code",
   "execution_count": null,
   "metadata": {},
   "outputs": [],
   "source": []
  }
 ],
 "metadata": {
  "interpreter": {
   "hash": "d031ad01bed61ded824456c2d8715b797c0f37e7c3a3e3c3c540f3dac9fb955e"
  },
  "kernelspec": {
   "display_name": "Python 3.8.1 64-bit ('hu-deeplearning-lSm0EZYV-py3.8': venv)",
   "language": "python",
   "name": "python3"
  },
  "language_info": {
   "codemirror_mode": {
    "name": "ipython",
    "version": 3
   },
   "file_extension": ".py",
   "mimetype": "text/x-python",
   "name": "python",
   "nbconvert_exporter": "python",
   "pygments_lexer": "ipython3",
   "version": "3.8.1"
  },
  "orig_nbformat": 4
 },
 "nbformat": 4,
 "nbformat_minor": 2
}
